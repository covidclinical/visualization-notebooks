{
 "cells": [
  {
   "cell_type": "code",
   "execution_count": null,
   "metadata": {},
   "outputs": [],
   "source": [
    "%load_ext autoreload\n",
    "%autoreload 2\n",
    "%aimport utils_1_1\n",
    "\n",
    "import pandas as pd\n",
    "import numpy as np\n",
    "import altair as alt\n",
    "from altair_saver import save\n",
    "\n",
    "from constants_1_1 import SITE_FILE_TYPES\n",
    "from utils_1_1 import (\n",
    "    read_loinc_df,\n",
    "    get_site_file_paths,\n",
    "    get_site_file_info,\n",
    "    get_site_ids,\n",
    "    read_full_daily_counts_df,\n",
    "    get_visualization_subtitle,\n",
    "    get_country_color_map,\n",
    "    apply_theme,\n",
    ")\n",
    "from web import for_website\n",
    "\n",
    "alt.data_transformers.disable_max_rows(); # Allow using rows more than 5000"
   ]
  },
  {
   "cell_type": "code",
   "execution_count": null,
   "metadata": {},
   "outputs": [],
   "source": [
    "DATA_RELEASE = \"2020-07-21\""
   ]
  },
  {
   "cell_type": "code",
   "execution_count": null,
   "metadata": {},
   "outputs": [],
   "source": [
    "df = read_full_daily_counts_df()\n",
    "df.head()"
   ]
  },
  {
   "cell_type": "code",
   "execution_count": null,
   "metadata": {},
   "outputs": [],
   "source": [
    "df = df.replace(-99, np.nan)\n",
    "df = df.replace(-999, np.nan)"
   ]
  },
  {
   "cell_type": "code",
   "execution_count": null,
   "metadata": {},
   "outputs": [],
   "source": [
    "df[\"num_patients_in_hospital_minus_severe_on_this_date\"] = df[\"num_patients_in_hospital_on_this_date\"] - df[\"num_patients_in_hospital_and_severe_on_this_date\"]"
   ]
  },
  {
   "cell_type": "code",
   "execution_count": null,
   "metadata": {},
   "outputs": [],
   "source": [
    "country_color_map = get_country_color_map()"
   ]
  },
  {
   "cell_type": "code",
   "execution_count": null,
   "metadata": {},
   "outputs": [],
   "source": [
    "plot = alt.Chart(df).mark_line().encode(\n",
    "    x=alt.X(\"calendar_date\", axis=alt.Axis(title=\"Date\")),\n",
    "    y=alt.Y(\"num_patients_in_hospital_on_this_date:Q\", axis=alt.Axis(title=\"Number of Patients in Hospital\")),\n",
    "    color=alt.Color(\"siteid:N\", legend=alt.Legend(title=\"Site\"))\n",
    ").properties(title={\n",
    "    \"text\": [\"Number of Hospitalized Patients by Site\"], \n",
    "    \"dx\": 50,\n",
    "    \"subtitle\": get_visualization_subtitle(data_release=DATA_RELEASE),\n",
    "    \"subtitleColor\": \"gray\",\n",
    "    \"anchor\": \"middle\",\n",
    "})\n",
    "\n",
    "plot = apply_theme(plot)\n",
    "\n",
    "plot"
   ]
  },
  {
   "cell_type": "code",
   "execution_count": null,
   "metadata": {},
   "outputs": [],
   "source": [
    "df[\"num_sites\"] = 1\n",
    "country_sum_df = df.groupby([\"country\", \"calendar_date\"]).sum().reset_index()\n",
    "country_sum_df.head()"
   ]
  },
  {
   "cell_type": "code",
   "execution_count": null,
   "metadata": {},
   "outputs": [],
   "source": [
    "country_sum_molten_df = country_sum_df.melt(id_vars=[\"country\", \"calendar_date\", \"num_sites\"])\n",
    "country_sum_molten_df.head()"
   ]
  },
  {
   "cell_type": "markdown",
   "metadata": {},
   "source": [
    "# Daily counts by country, with country as color, variable as dropdown"
   ]
  },
  {
   "cell_type": "code",
   "execution_count": null,
   "metadata": {},
   "outputs": [],
   "source": [
    "CATEGORIES = country_sum_molten_df[\"variable\"].unique().tolist()\n",
    "\n",
    "country_color_scale = alt.Scale(domain=list(country_color_map.keys()), range=list(country_color_map.values()))\n",
    "\n",
    "dailycount_dropdown = alt.binding_select(options=CATEGORIES)\n",
    "dailycount_selection = alt.selection_single(fields=[\"variable\"], bind=dailycount_dropdown, name=\"Value\", init={\"variable\": \"num_patients_in_hospital_on_this_date\"})\n",
    "\n",
    "filtered_plot = alt.Chart(country_sum_molten_df).transform_filter(\n",
    "    dailycount_selection\n",
    ")\n",
    "\n",
    "tooltip = [\n",
    "    alt.Tooltip(\"country\", title=\"Country\"),\n",
    "    alt.Tooltip(\"calendar_date\", title=\"Date\"),\n",
    "    alt.Tooltip(\"variable\", title=\"Variable\"),\n",
    "    alt.Tooltip(\"value\", title=\"Value\"),\n",
    "    alt.Tooltip(\"num_sites\", title=\"Number of sites\"),\n",
    "]\n",
    "\n",
    "top_plot = filtered_plot.mark_line().encode(\n",
    "    x=alt.X(\"calendar_date\", axis=alt.Axis(title=None)),\n",
    "    y=alt.Y(\"value:Q\", axis=alt.Axis(title=\"Number of patients\")),\n",
    "    color=alt.Color(\"country:N\", legend=alt.Legend(title=\"Country\"), scale=country_color_scale),\n",
    "    tooltip=tooltip\n",
    ")\n",
    "\n",
    "bottom_plot = filtered_plot.mark_bar(size=1.5).encode(\n",
    "    x=alt.X(\"calendar_date\", axis=alt.Axis(title=\"Date\")),\n",
    "    y=alt.Y(\"num_sites:Q\", axis=alt.Axis(title=\"# of sites\")),\n",
    "    color=alt.Color(\"country:N\", legend=alt.Legend(title=\"Country\"), scale=country_color_scale),\n",
    "    tooltip=tooltip\n",
    ").properties(height=80)\n",
    "\n",
    "plot = alt.vconcat(top_plot, bottom_plot).resolve_scale(x=\"shared\", color=\"shared\").properties(title={\n",
    "    \"text\": [\"Daily Counts by Country\"], \n",
    "    \"dx\": 50,\n",
    "    \"subtitle\": get_visualization_subtitle(data_release=DATA_RELEASE),\n",
    "    \"subtitleColor\": \"gray\",\n",
    "    \"anchor\": \"middle\",\n",
    "})\n",
    "\n",
    "plot = apply_theme(plot).add_selection(\n",
    "    dailycount_selection\n",
    ")\n",
    "\n",
    "plot\n"
   ]
  },
  {
   "cell_type": "code",
   "execution_count": null,
   "metadata": {},
   "outputs": [],
   "source": [
    "plot.save(\"daily_counts_variable_dropdown.html\")"
   ]
  },
  {
   "cell_type": "markdown",
   "metadata": {},
   "source": [
    "# Daily counts by country, with `num_patients_in_hospital_minus_severe_on_this_date` and `num_patients_in_hospital_and_severe_on_this_date` as color, country as dropdown"
   ]
  },
  {
   "cell_type": "code",
   "execution_count": null,
   "metadata": {},
   "outputs": [],
   "source": [
    "COUNTRIES = country_sum_molten_df[\"country\"].unique().tolist()\n",
    "\n",
    "num_in_hospital_by_country_molten_df = country_sum_molten_df.loc[country_sum_molten_df[\"variable\"].isin([\n",
    "    \"num_patients_in_hospital_minus_severe_on_this_date\",\n",
    "    \"num_patients_in_hospital_and_severe_on_this_date\"\n",
    "])].copy()\n",
    "num_in_hospital_by_country_molten_df[\"variable\"] = num_in_hospital_by_country_molten_df[\"variable\"].replace({\n",
    "    \"num_patients_in_hospital_minus_severe_on_this_date\": \"All minus Severe\",\n",
    "    \"num_patients_in_hospital_and_severe_on_this_date\": \"Severe\",\n",
    "})\n",
    "\n",
    "country_color_scale = alt.Scale(domain=list(country_color_map.keys()), range=list(country_color_map.values()))\n",
    "severity_color_scale = alt.Scale(domain=[\"All minus Severe\", \"Severe\"], range=[\"#A9A9A9\", \"#000000\"])\n",
    "\n",
    "country_dropdown = alt.binding_select(options=COUNTRIES)\n",
    "country_selection = alt.selection_single(fields=[\"country\"], bind=country_dropdown, name=\"Country\", init={\"country\": \"USA\"})\n",
    "\n",
    "filtered_plot = alt.Chart(num_in_hospital_by_country_molten_df).transform_filter(\n",
    "    country_selection\n",
    ")\n",
    "\n",
    "tooltip = [\n",
    "    alt.Tooltip(\"country\", title=\"Country\"),\n",
    "    alt.Tooltip(\"calendar_date\", title=\"Date\"),\n",
    "    alt.Tooltip(\"variable\", title=\"Variable\"),\n",
    "    alt.Tooltip(\"value\", title=\"Number of patients\"),\n",
    "    alt.Tooltip(\"num_sites\", title=\"Number of sites\"),\n",
    "]\n",
    "\n",
    "top_plot = filtered_plot.mark_line().encode(\n",
    "    x=alt.X(\"calendar_date\", axis=alt.Axis(title=None)),\n",
    "    y=alt.Y(\"value:Q\", axis=alt.Axis(title=\"Number of patients\")),\n",
    "    color=alt.Color(\"variable:N\", legend=alt.Legend(title=\"Severity\"), scale=severity_color_scale),\n",
    "    tooltip=tooltip\n",
    ")\n",
    "\n",
    "bottom_plot = filtered_plot.mark_bar(size=1.5).encode(\n",
    "    x=alt.X(\"calendar_date\", axis=alt.Axis(title=\"Date\")),\n",
    "    y=alt.Y(\"num_sites:Q\", axis=alt.Axis(title=\"# of sites\")),\n",
    "    color=alt.Color(\"country:N\", legend=None, scale=country_color_scale),\n",
    "    tooltip=tooltip\n",
    ").properties(height=80)\n",
    "\n",
    "plot = alt.vconcat(top_plot, bottom_plot).resolve_scale(x=\"shared\", color=\"independent\").properties(title={\n",
    "    \"text\": [\"Daily Counts by Country and Severity\"], \n",
    "    \"dx\": 50,\n",
    "    \"subtitle\": get_visualization_subtitle(data_release=DATA_RELEASE),\n",
    "    \"subtitleColor\": \"gray\",\n",
    "    \"anchor\": \"middle\",\n",
    "})\n",
    "\n",
    "plot = apply_theme(plot).add_selection(\n",
    "    country_selection\n",
    ")\n",
    "\n",
    "plot"
   ]
  },
  {
   "cell_type": "code",
   "execution_count": null,
   "metadata": {},
   "outputs": [],
   "source": [
    "plot.save(\"daily_counts_country_dropdown.html\")"
   ]
  },
  {
   "cell_type": "markdown",
   "metadata": {},
   "source": [
    "# Daily counts by country, with `cumulative_patients_all`, `cumulative_patients_severe`, `cumulative_patients_dead` as color, country as dropdown"
   ]
  },
  {
   "cell_type": "code",
   "execution_count": null,
   "metadata": {},
   "outputs": [],
   "source": [
    "COUNTRIES = country_sum_molten_df[\"country\"].unique().tolist()\n",
    "\n",
    "cumulative_by_country_molten_df = country_sum_molten_df.loc[country_sum_molten_df[\"variable\"].isin([\n",
    "    \"cumulative_patients_all\",\n",
    "    \"cumulative_patients_severe\",\n",
    "    \"cumulative_patients_dead\"\n",
    "])].copy()\n",
    "cumulative_by_country_molten_df[\"variable\"] = cumulative_by_country_molten_df[\"variable\"].replace({\n",
    "    \"cumulative_patients_all\": \"All\",\n",
    "    \"cumulative_patients_severe\": \"Severe\",\n",
    "    \"cumulative_patients_dead\": \"Dead\",\n",
    "})\n",
    "\n",
    "country_color_scale = alt.Scale(domain=list(country_color_map.keys()), range=list(country_color_map.values()))\n",
    "severity_color_scale = alt.Scale(domain=[\"All minus Severe\", \"Severe\"], range=[\"#A9A9A9\", \"#000000\"])\n",
    "\n",
    "country_dropdown = alt.binding_select(options=COUNTRIES)\n",
    "country_selection = alt.selection_single(fields=[\"country\"], bind=country_dropdown, name=\"Country\", init={\"country\": \"USA\"})\n",
    "\n",
    "filtered_plot = alt.Chart(cumulative_by_country_molten_df).transform_filter(\n",
    "    country_selection\n",
    ")\n",
    "\n",
    "tooltip = [\n",
    "    alt.Tooltip(\"country\", title=\"Country\"),\n",
    "    alt.Tooltip(\"calendar_date\", title=\"Date\"),\n",
    "    alt.Tooltip(\"variable\", title=\"Variable\"),\n",
    "    alt.Tooltip(\"value\", title=\"Cumulative number of patients\"),\n",
    "    alt.Tooltip(\"num_sites\", title=\"Number of sites\"),\n",
    "]\n",
    "\n",
    "top_plot = filtered_plot.mark_line().encode(\n",
    "    x=alt.X(\"calendar_date\", axis=alt.Axis(title=None)),\n",
    "    y=alt.Y(\"value:Q\", axis=alt.Axis(title=\"Cumulative number of patients\")),\n",
    "    color=alt.Color(\"variable:N\", legend=alt.Legend(title=\"Severity\")),\n",
    "    tooltip=tooltip\n",
    ")\n",
    "\n",
    "bottom_plot = filtered_plot.mark_bar(size=1.5).encode(\n",
    "    x=alt.X(\"calendar_date\", axis=alt.Axis(title=\"Date\")),\n",
    "    y=alt.Y(\"num_sites:Q\", axis=alt.Axis(title=\"# of sites\")),\n",
    "    color=alt.Color(\"country:N\", legend=None, scale=country_color_scale),\n",
    "    tooltip=tooltip\n",
    ").properties(height=80)\n",
    "\n",
    "plot = alt.vconcat(top_plot, bottom_plot).resolve_scale(x=\"shared\", color=\"independent\").properties(title={\n",
    "    \"text\": [\"Cumulative Daily Counts by Country and Severity\"], \n",
    "    \"dx\": 50,\n",
    "    \"subtitle\": get_visualization_subtitle(data_release=DATA_RELEASE),\n",
    "    \"subtitleColor\": \"gray\",\n",
    "    \"anchor\": \"middle\",\n",
    "})\n",
    "\n",
    "plot = apply_theme(plot).add_selection(\n",
    "    country_selection\n",
    ")\n",
    "\n",
    "plot"
   ]
  },
  {
   "cell_type": "code",
   "execution_count": null,
   "metadata": {},
   "outputs": [],
   "source": [
    "plot.save(\"cumulative_daily_counts_country_dropdown.html\")"
   ]
  },
  {
   "cell_type": "markdown",
   "metadata": {},
   "source": [
    "# Daily counts by country, with `num_patients_in_hospital_minus_severe_on_this_date` and `num_patients_in_hospital_and_severe_on_this_date` as color, country as column facet"
   ]
  },
  {
   "cell_type": "code",
   "execution_count": null,
   "metadata": {},
   "outputs": [],
   "source": [
    "COUNTRIES = country_sum_molten_df[\"country\"].unique().tolist()\n",
    "\n",
    "column_width = 200\n",
    "\n",
    "num_in_hospital_by_country_molten_df = country_sum_molten_df.loc[country_sum_molten_df[\"variable\"].isin([\n",
    "    \"num_patients_in_hospital_minus_severe_on_this_date\",\n",
    "    \"num_patients_in_hospital_and_severe_on_this_date\"\n",
    "])].copy()\n",
    "num_in_hospital_by_country_molten_df[\"variable\"] = num_in_hospital_by_country_molten_df[\"variable\"].replace({\n",
    "    \"num_patients_in_hospital_minus_severe_on_this_date\": \"All minus Severe\",\n",
    "    \"num_patients_in_hospital_and_severe_on_this_date\": \"Severe\",\n",
    "})\n",
    "\n",
    "country_color_scale = alt.Scale(domain=list(country_color_map.keys()), range=list(country_color_map.values()))\n",
    "severity_color_scale = alt.Scale(domain=[\"All minus Severe\", \"Severe\"], range=[\"#A9A9A9\", \"#000000\"])\n",
    "\n",
    "\n",
    "filtered_plot = alt.Chart(num_in_hospital_by_country_molten_df)\n",
    "\n",
    "tooltip = [\n",
    "    alt.Tooltip(\"country\", title=\"Country\"),\n",
    "    alt.Tooltip(\"calendar_date\", title=\"Date\"),\n",
    "    alt.Tooltip(\"variable\", title=\"Variable\"),\n",
    "    alt.Tooltip(\"value\", title=\"Number of patients\"),\n",
    "    alt.Tooltip(\"num_sites\", title=\"Number of sites\"),\n",
    "]\n",
    "\n",
    "top_plot = filtered_plot.mark_line().encode(\n",
    "    x=alt.X(\"calendar_date\", axis=alt.Axis(title=None)),\n",
    "    y=alt.Y(\"value:Q\", axis=alt.Axis(title=\"Number of patients\")),\n",
    "    color=alt.Color(\"variable:N\", legend=alt.Legend(title=\"Severity\"), scale=severity_color_scale),\n",
    "    tooltip=tooltip\n",
    ").properties(width=column_width).facet(\n",
    "    column=alt.Column(\n",
    "        \"country:N\",\n",
    "        sort=COUNTRIES,\n",
    "        header=alt.Header(title=None)\n",
    "    )\n",
    ")\n",
    "\n",
    "bottom_plot = filtered_plot.mark_bar(size=1.5).encode(\n",
    "    x=alt.X(\"calendar_date\", axis=alt.Axis(title=\"Date\")),\n",
    "    y=alt.Y(\"num_sites:Q\", axis=alt.Axis(title=\"# of sites\")),\n",
    "    #color=alt.Color(\"country:N\", legend=alt.Legend(title=\"Country\"), scale=country_color_scale),\n",
    "    tooltip=tooltip\n",
    ").properties(height=80, width=column_width).facet(\n",
    "    column=alt.Column(\n",
    "        \"country:N\",\n",
    "        sort=COUNTRIES,\n",
    "        header=alt.Header(title=None, labels=False)\n",
    "    )\n",
    ")\n",
    "\n",
    "plot = alt.vconcat(top_plot, bottom_plot).resolve_scale(x=\"shared\", color=\"independent\").properties(title={\n",
    "    \"text\": [\"Daily Counts by Country and Severity\"], \n",
    "    \"dx\": 50,\n",
    "    \"subtitle\": get_visualization_subtitle(data_release=DATA_RELEASE),\n",
    "    \"subtitleColor\": \"gray\",\n",
    "    \"anchor\": \"middle\",\n",
    "})\n",
    "\n",
    "plot = apply_theme(plot)\n",
    "\n",
    "plot"
   ]
  },
  {
   "cell_type": "code",
   "execution_count": null,
   "metadata": {},
   "outputs": [],
   "source": [
    "plot.save(\"daily_counts_country_columns.html\")"
   ]
  },
  {
   "cell_type": "markdown",
   "metadata": {},
   "source": [
    "# Daily counts by country, with `cumulative_patients_all`, `cumulative_patients_severe`, `cumulative_patients_dead` as color, country as column facet"
   ]
  },
  {
   "cell_type": "code",
   "execution_count": null,
   "metadata": {},
   "outputs": [],
   "source": [
    "COUNTRIES = country_sum_molten_df[\"country\"].unique().tolist()\n",
    "\n",
    "column_width = 200\n",
    "\n",
    "cumulative_by_country_molten_df = country_sum_molten_df.loc[country_sum_molten_df[\"variable\"].isin([\n",
    "    \"cumulative_patients_all\",\n",
    "    \"cumulative_patients_severe\",\n",
    "    \"cumulative_patients_dead\"\n",
    "])].copy()\n",
    "cumulative_by_country_molten_df[\"variable\"] = cumulative_by_country_molten_df[\"variable\"].replace({\n",
    "    \"cumulative_patients_all\": \"All\",\n",
    "    \"cumulative_patients_severe\": \"Severe\",\n",
    "    \"cumulative_patients_dead\": \"Dead\",\n",
    "})\n",
    "\n",
    "country_color_scale = alt.Scale(domain=list(country_color_map.keys()), range=list(country_color_map.values()))\n",
    "severity_color_scale = alt.Scale(domain=[\"All minus Severe\", \"Severe\"], range=[\"#A9A9A9\", \"#000000\"])\n",
    "\n",
    "filtered_plot = alt.Chart(cumulative_by_country_molten_df)\n",
    "\n",
    "tooltip = [\n",
    "    alt.Tooltip(\"country\", title=\"Country\"),\n",
    "    alt.Tooltip(\"calendar_date\", title=\"Date\"),\n",
    "    alt.Tooltip(\"variable\", title=\"Variable\"),\n",
    "    alt.Tooltip(\"value\", title=\"Cumulative number of patients\"),\n",
    "    alt.Tooltip(\"num_sites\", title=\"Number of sites\"),\n",
    "]\n",
    "\n",
    "top_plot = filtered_plot.mark_line().encode(\n",
    "    x=alt.X(\"calendar_date\", axis=alt.Axis(title=None)),\n",
    "    y=alt.Y(\"value:Q\", axis=alt.Axis(title=\"Cumulative number of patients\")),\n",
    "    color=alt.Color(\"variable:N\", legend=alt.Legend(title=\"Severity\")),\n",
    "    tooltip=tooltip\n",
    ").properties(width=column_width).facet(\n",
    "    column=alt.Column(\n",
    "        \"country:N\",\n",
    "        sort=COUNTRIES,\n",
    "        header=alt.Header(title=None)\n",
    "    )\n",
    ")\n",
    "\n",
    "bottom_plot = filtered_plot.mark_bar(size=1.5).encode(\n",
    "    x=alt.X(\"calendar_date\", axis=alt.Axis(title=\"Date\")),\n",
    "    y=alt.Y(\"num_sites:Q\", axis=alt.Axis(title=\"# of sites\")),\n",
    "    #color=alt.Color(\"country:N\", legend=None, scale=country_color_scale),\n",
    "    tooltip=tooltip\n",
    ").properties(height=80, width=column_width).facet(\n",
    "    column=alt.Column(\n",
    "        \"country:N\",\n",
    "        sort=COUNTRIES,\n",
    "        header=alt.Header(title=None, labels=False)\n",
    "    )\n",
    ")\n",
    "\n",
    "plot = alt.vconcat(top_plot, bottom_plot).resolve_scale(x=\"shared\", color=\"independent\").properties(title={\n",
    "    \"text\": [\"Cumulative Daily Counts by Country and Severity\"], \n",
    "    \"dx\": 50,\n",
    "    \"subtitle\": get_visualization_subtitle(data_release=DATA_RELEASE),\n",
    "    \"subtitleColor\": \"gray\",\n",
    "    \"anchor\": \"middle\",\n",
    "})\n",
    "\n",
    "plot = apply_theme(plot)\n",
    "\n",
    "plot"
   ]
  },
  {
   "cell_type": "code",
   "execution_count": null,
   "metadata": {},
   "outputs": [],
   "source": [
    "plot.save(\"cumulative_daily_counts_country_columns.html\")"
   ]
  },
  {
   "cell_type": "code",
   "execution_count": null,
   "metadata": {},
   "outputs": [],
   "source": []
  },
  {
   "cell_type": "code",
   "execution_count": null,
   "metadata": {},
   "outputs": [],
   "source": []
  },
  {
   "cell_type": "code",
   "execution_count": null,
   "metadata": {},
   "outputs": [],
   "source": []
  }
 ],
 "metadata": {
  "kernelspec": {
   "display_name": "Python [conda env:4ce] *",
   "language": "python",
   "name": "conda-env-4ce-py"
  },
  "language_info": {
   "codemirror_mode": {
    "name": "ipython",
    "version": 3
   },
   "file_extension": ".py",
   "mimetype": "text/x-python",
   "name": "python",
   "nbconvert_exporter": "python",
   "pygments_lexer": "ipython3",
   "version": "3.8.3"
  }
 },
 "nbformat": 4,
 "nbformat_minor": 4
}
