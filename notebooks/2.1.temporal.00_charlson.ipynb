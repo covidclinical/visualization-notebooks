{
 "cells": [
  {
   "cell_type": "code",
   "execution_count": null,
   "metadata": {},
   "outputs": [],
   "source": [
    "%load_ext autoreload\n",
    "%autoreload 2\n",
    "%aimport utils_1_1\n",
    "\n",
    "import pandas as pd\n",
    "import numpy as np\n",
    "import altair as alt\n",
    "from altair_saver import save\n",
    "import datetime\n",
    "import dateutil.parser\n",
    "from os.path import join\n",
    "\n",
    "from constants_1_1 import SITE_FILE_TYPES\n",
    "from utils_1_1 import (\n",
    "    get_site_file_paths,\n",
    "    get_site_file_info,\n",
    "    get_site_ids,\n",
    "    get_visualization_subtitle,\n",
    "    get_country_color_map,\n",
    "    apply_theme,\n",
    ")\n",
    "from web import for_website\n",
    "\n",
    "alt.data_transformers.disable_max_rows(); # Allow using rows more than 5000"
   ]
  },
  {
   "cell_type": "code",
   "execution_count": null,
   "metadata": {},
   "outputs": [],
   "source": [
    "df = pd.read_csv(join(\"..\", \"data\", \"Phase2.1\", \"temporal\", \"charlson\", \"charlson_countrylevel.csv\"))\n",
    "df.head()\n",
    "\n",
    "df = df.loc[~df[\"country\"].isin([\"SINGAPORE\"])]\n",
    "df[\"country\"] = df[\"country\"].apply(lambda name: name if name in [\"USA\", \"UK\"] else name[0] + name.lower()[1:])\n",
    "\n",
    "cs_df = pd.DataFrame()\n",
    "for (country, setting), country_setting_df in df.groupby(by=[\"country\", \"setting\"]):    \n",
    "    cs_df = cs_df.append({\n",
    "        \"country\": country,\n",
    "        \"setting\": setting,\n",
    "        \"charlson_early\": country_setting_df.loc[country_setting_df[\"wave\"] == \"early\"].iloc[0][\"charlson\"],\n",
    "        \"charlson_late\": country_setting_df.loc[country_setting_df[\"wave\"] == \"late\"].iloc[0][\"charlson\"]\n",
    "    }, ignore_index=True)\n",
    "df = cs_df\n",
    "df[\"difference\"] = df[\"charlson_late\"] - df[\"charlson_early\"]\n",
    "df[\"is_left_direction\"] = df[\"difference\"] < 0.0\n",
    "df[\"is_right_direction\"] = df[\"difference\"] > 0.0\n",
    "df.head()"
   ]
  },
  {
   "cell_type": "code",
   "execution_count": null,
   "metadata": {},
   "outputs": [],
   "source": [
    "bars = alt.Chart().mark_bar(size=10).encode(\n",
    "    x=alt.X(\"charlson_early:Q\"),\n",
    "    x2=alt.X2(\"charlson_late:Q\"),\n",
    "    y=alt.Y(\"setting:N\"),\n",
    "    color=alt.Color(\"setting:N\")\n",
    ")\n",
    "\n",
    "triangle_opacity_scale = scale=alt.Scale(domain=[True, False], range=[1, 0])\n",
    "\n",
    "triangles_left = alt.Chart().mark_point(shape=\"triangle-left\", filled=True, size=100, xOffset=-4, opacity=1).encode(\n",
    "    x=alt.X(\"charlson_late:Q\"),\n",
    "    y=alt.Y(\"setting:N\"),\n",
    "    color=alt.Color(\"setting:N\"),\n",
    "    opacity=alt.Opacity(\"is_left_direction:Q\", scale=triangle_opacity_scale, legend=None)\n",
    ")\n",
    "\n",
    "triangles_right = alt.Chart().mark_point(shape=\"triangle-right\", filled=True, size=100, xOffset=8, opacity=1).encode(\n",
    "    x=alt.X(\"charlson_early:Q\"),\n",
    "    y=alt.Y(\"setting:N\"),\n",
    "    color=alt.Color(\"setting:N\"),\n",
    "    opacity=alt.Opacity(\"is_right_direction:Q\", scale=triangle_opacity_scale, legend=None)\n",
    ")\n",
    "\n",
    "alt.layer(bars, triangles_left, triangles_right, data=df).facet(\n",
    "    row=alt.Row(\"country:N\"),\n",
    ")"
   ]
  },
  {
   "cell_type": "code",
   "execution_count": null,
   "metadata": {},
   "outputs": [],
   "source": []
  },
  {
   "cell_type": "code",
   "execution_count": null,
   "metadata": {},
   "outputs": [],
   "source": []
  }
 ],
 "metadata": {
  "kernelspec": {
   "display_name": "Python 3",
   "language": "python",
   "name": "python3"
  },
  "language_info": {
   "codemirror_mode": {
    "name": "ipython",
    "version": 3
   },
   "file_extension": ".py",
   "mimetype": "text/x-python",
   "name": "python",
   "nbconvert_exporter": "python",
   "pygments_lexer": "ipython3",
   "version": "3.8.3"
  }
 },
 "nbformat": 4,
 "nbformat_minor": 4
}
