{
 "cells": [
  {
   "cell_type": "code",
   "execution_count": null,
   "metadata": {},
   "outputs": [],
   "source": [
    "%load_ext autoreload\n",
    "%autoreload 2\n",
    "%aimport utils_1_1\n",
    "\n",
    "import pandas as pd\n",
    "import numpy as np\n",
    "import altair as alt\n",
    "from os.path import join\n",
    "import math\n",
    "\n",
    "from utils_1_1 import (\n",
    "    get_country_color_map_none_pediatric,\n",
    "    get_visualization_subtitle,\n",
    "    apply_theme,\n",
    ")\n",
    "from web import for_website"
   ]
  },
  {
   "cell_type": "markdown",
   "metadata": {},
   "source": [
    "# Data Preprocessing"
   ]
  },
  {
   "cell_type": "markdown",
   "metadata": {},
   "source": [
    "## Lab Variation Data From Figshare (Not supported yet)\n",
    "Use the latest data from xxx"
   ]
  },
  {
   "cell_type": "code",
   "execution_count": null,
   "metadata": {},
   "outputs": [],
   "source": [
    "# Lab_VariationByCountry.csv\n",
    "# labs = pd.read_csv(\"https://ndownloader.figshare.com/files/22345587\")\n",
    "\n",
    "# labs.head()"
   ]
  },
  {
   "cell_type": "code",
   "execution_count": null,
   "metadata": {},
   "outputs": [],
   "source": [
    "labs = pd.read_csv('../data/Figure_3_lab_variation_day0_7.csv', header=[0]) # For loading local data\n",
    "labs"
   ]
  },
  {
   "cell_type": "code",
   "execution_count": null,
   "metadata": {},
   "outputs": [],
   "source": [
    "processed_labs = labs.copy()\n",
    "processed_labs['country'] = processed_labs['country'].apply(lambda x: 'USA' if x == 'USA' else x.capitalize())\n",
    "processed_labs['scale'] = processed_labs['scale'].apply(lambda x: x.capitalize())\n",
    "processed_labs = processed_labs.rename(columns={\n",
    "    'ever': 'Ever',\n",
    "    'never': 'Never',\n",
    "    'diff': 'Difference'\n",
    "})\n",
    "\n",
    "loinc_map = {\n",
    "    'alanine aminotransferase (ALT)': '1742-6, alanine aminotransferase (ALT) (U/L)',\n",
    "    'albumin':  '1751-7, albumin (g/dL)',\n",
    "    'aspartate aminotransferase (AST)':  '1920-8, aspartate aminotransferase (AST) (U/L)',\n",
    "    'C-reactive protein (CRP) (Normal Sensitivity)':  '1988-5, C-reactive protein (CRP) (Normal Sensitivity) (mg/L)',\n",
    "    'cardiac troponin (High Sensitivity)':  '49563-0, cardiac troponin (High Sensitivity) (ng/mL)',\n",
    "    'cardiac troponin (Normal Sensitivity)': '6598-7, cardiac troponin (Normal Sensitivity) (ug/L)',\n",
    "    'creatinine':  '2160-0, creatinine (mg/dL)',\n",
    "    'D-dimer':  '48065-7, 48066-5, D-dimer (ng/mL)',\n",
    "    'Ferritin':  '2276-4, Ferritin (ng/mL)',\n",
    "    'Fibrinogen':  '3255-7, Fibrinogen (mg/dL)',\n",
    "    'lactate dehydrogenase (LDH)':  '2532-0, lactate dehydrogenase (LDH) (U/L)',\n",
    "    'lymphocyte count':  '731-0, lymphocyte count (10*3/uL)',\n",
    "    'neutrophil count':  '751-8, neutrophil count (10*3/uL)',\n",
    "    'procalcitonin':   '33959-8, procalcitonin (ng/mL)',\n",
    "    'prothrombin time (PT)':  '5902-2, prothrombin time (PT) (s)',\n",
    "    'total bilirubin':  '1975-2, total bilirubin (mg/dL)',\n",
    "    'white blood cell count (Leukocytes)': '6690-2, white blood cell count (Leukocytes) (10*3/uL)' \n",
    "}\n",
    "\n",
    "processed_labs[\"labname\"] = processed_labs[\"labname\"].apply(lambda x: loinc_map[x])\n",
    "\n",
    "# Use only the original scale data\n",
    "processed_labs = processed_labs[processed_labs['scale'] == 'Original']\n",
    "\n",
    "processed_labs = pd.melt(\n",
    "    processed_labs,\n",
    "    id_vars=['labname', 'scale', 'country'],\n",
    "    value_vars=['Ever', 'Never', 'Difference'], \n",
    "    var_name='severity',\n",
    "    value_name='var'\n",
    ")\n",
    "\n",
    "processed_labs\n",
    "\n",
    "# processed_labs['country'].unique() # for debug"
   ]
  },
  {
   "cell_type": "code",
   "execution_count": null,
   "metadata": {},
   "outputs": [],
   "source": [
    "COUNTRY_NAMES = ['Within country', 'Between country'] + list(get_country_color_map_none_pediatric().keys()) + ['Within site']\n",
    "COUNTRY_COLORS = ['#000000', '#000000'] + list(get_country_color_map_none_pediatric().values()) + ['#000000']\n",
    "\n",
    "COUNTRY_NAMES"
   ]
  },
  {
   "cell_type": "markdown",
   "metadata": {},
   "source": [
    "# Visualization"
   ]
  },
  {
   "cell_type": "code",
   "execution_count": null,
   "metadata": {},
   "outputs": [],
   "source": [
    "input_dropdown = alt.binding_select(options=processed_labs['labname'].unique())\n",
    "selection = alt.selection_single(fields=['labname'], bind=input_dropdown, name='Lab ', init={'labname': processed_labs['labname'].unique()[0]})\n",
    "legend_selection = alt.selection_multi(fields=['country'], bind=\"legend\")\n",
    "\n",
    "color_scale = alt.Scale(domain=COUNTRY_NAMES, range=COUNTRY_COLORS)\n",
    "tick_size = 30\n",
    "\n",
    "\"\"\"\n",
    "For SD\n",
    "\"\"\"\n",
    "# base = alt.Chart(processed_labs).mark_bar(size=tick_size).encode(\n",
    "#     x=alt.Y('country:N'),\n",
    "#     color=alt.Color('country:N', scale=color_scale, title=None),\n",
    "#     stroke=alt.Color('country:N', scale=color_scale),\n",
    "#     strokeWidth=alt.value(1),\n",
    "#     y=alt.Y('y:Q', title='Lab variation'),\n",
    "#     y2=alt.Y2('y:Q'),\n",
    "# #     tooltip=[\n",
    "# #         alt.Tooltip(\"Country\", title=\"Category\"),\n",
    "# #         alt.Tooltip(\"mean_val\", title=\"Mean\", format=\".2f\"),\n",
    "# #         alt.Tooltip(\"stdev_val\", title=\"Standard deviation\", format=\".2f\"),\n",
    "# #         alt.Tooltip(\"days_since_positive\", title=\"Days since positive\")\n",
    "# #     ]\n",
    "# )\n",
    "\n",
    "mean = alt.Chart(\n",
    "    processed_labs\n",
    ").mark_tick(\n",
    "    size=tick_size,\n",
    "    thickness=4\n",
    ").encode(\n",
    "    x=alt.X('country:N', title=None, scale=alt.Scale(domain=COUNTRY_NAMES)),\n",
    "    opacity=alt.value(1),\n",
    "    color=alt.Color('country:N', scale=color_scale, title=None),\n",
    "    y=alt.Y('var:Q', title='Lab variation'),\n",
    "    tooltip=[\n",
    "        alt.Tooltip('labname', title=\"Labs\"),\n",
    "        alt.Tooltip(\"country\", title=\"Country\"),\n",
    "        alt.Tooltip(\"var\", title=\"Variation\", format=\".2f\"),\n",
    "    ],\n",
    ")\n",
    "\n",
    "plot = (\n",
    "    mean\n",
    "        .properties(height=400, width=400)\n",
    ").facet(\n",
    "    facet=alt.Facet(\"severity:N\", title=None, header=alt.Header(labels=False), sort=['ever', 'never', 'difference'])\n",
    ")\n",
    "\n",
    "plot = plot.add_selection(\n",
    "    selection\n",
    ").transform_filter(\n",
    "    selection\n",
    ").add_selection(\n",
    "    legend_selection\n",
    ").transform_filter(\n",
    "    legend_selection\n",
    ")\n",
    "\n",
    "plot = apply_theme(plot, legend_orient=\"right\", header_label_font_size=15).properties(\n",
    "    title={\n",
    "        \"text\": \"Lab Variation Across Sites on Day 0\",\n",
    "        \"subtitle\": get_visualization_subtitle(data_release='2020-08-03', with_num_sites=True, num_sites=45),\n",
    "        \"subtitleColor\": \"gray\",\n",
    "        \"anchor\": \"middle\",\n",
    "    },\n",
    "#     width=350, height=400 # This generates error (which should be submitted to the repo as an issue: More readable error message)\n",
    ")\n",
    "\n",
    "for_website(plot, \"1.1_Labs\", \"Lab variation across sites on Day 0\")\n",
    "\n",
    "plot"
   ]
  },
  {
   "cell_type": "code",
   "execution_count": null,
   "metadata": {},
   "outputs": [],
   "source": []
  },
  {
   "cell_type": "code",
   "execution_count": null,
   "metadata": {},
   "outputs": [],
   "source": []
  }
 ],
 "metadata": {
  "kernelspec": {
   "display_name": "Python 3",
   "language": "python",
   "name": "python3"
  },
  "language_info": {
   "codemirror_mode": {
    "name": "ipython",
    "version": 3
   },
   "file_extension": ".py",
   "mimetype": "text/x-python",
   "name": "python",
   "nbconvert_exporter": "python",
   "pygments_lexer": "ipython3",
   "version": "3.8.3"
  }
 },
 "nbformat": 4,
 "nbformat_minor": 4
}
