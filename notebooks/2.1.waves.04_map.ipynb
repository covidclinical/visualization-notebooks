{
 "cells": [
  {
   "cell_type": "code",
   "execution_count": null,
   "metadata": {},
   "outputs": [],
   "source": [
    "%load_ext autoreload\n",
    "%autoreload 2\n",
    "%aimport utils_1_1\n",
    "\n",
    "import pandas as pd\n",
    "import numpy as np\n",
    "import altair as alt\n",
    "from altair_saver import save\n",
    "import datetime\n",
    "import dateutil.parser\n",
    "from os.path import join\n",
    "\n",
    "from constants_1_1 import SITE_FILE_TYPES\n",
    "from utils_1_1 import (\n",
    "    get_site_file_paths,\n",
    "    get_site_file_info,\n",
    "    get_site_ids,\n",
    "    get_visualization_subtitle,\n",
    "    get_country_color_map,\n",
    "    apply_theme,\n",
    ")\n",
    "from web import for_website\n",
    "\n",
    "alt.data_transformers.disable_max_rows(); # Allow using rows more than 5000"
   ]
  },
  {
   "cell_type": "markdown",
   "metadata": {},
   "source": [
    "# Data Preprocessing"
   ]
  },
  {
   "cell_type": "markdown",
   "metadata": {},
   "source": [
    "## Site Descriptions From Figshare"
   ]
  },
  {
   "cell_type": "code",
   "execution_count": null,
   "metadata": {},
   "outputs": [],
   "source": [
    "DATA_RELEASE = '2021-02-04'"
   ]
  },
  {
   "cell_type": "code",
   "execution_count": null,
   "metadata": {},
   "outputs": [],
   "source": [
    "sites_df = pd.read_csv(join(\"..\", \"data\", \"Health_Systems_Participating_1.1.tsv\"), sep='\\t', skiprows=2, header=None, thousands=',')\n",
    "sites_column_map = {\n",
    "    0: \"site_name\",\n",
    "    1: \"siteid\",\n",
    "    2: \"city\",\n",
    "    3: \"country\",\n",
    "    4: \"patient_type\",\n",
    "    6: \"adult_num_hosp\",\n",
    "    7: \"adult_num_beds\",\n",
    "    8: \"adult_num_yearly_discharge\",\n",
    "    10: \"ped_num_hosp\",\n",
    "    11: \"ped_num_beds\",\n",
    "    12: \"ped_num_yearly_discharge\",\n",
    "    32: \"lat\",\n",
    "    33: \"lon\"\n",
    "}\n",
    "sites_df = sites_df.rename(columns=sites_column_map)\n",
    "sites_df = sites_df[list(sites_column_map.values())]\n",
    "sites_df = sites_df.dropna(subset=[\"site_name\"])\n",
    "# sites_df = sites_df.dropna(subset=[\"lat\", \"lon\"])\n",
    "sites_df = sites_df.set_index(\"siteid\")\n",
    "sites_df[\"country\"] = sites_df[\"country\"].replace({\"UK\": \"United Kingdom\"})#.apply(lambda x: x.upper())\n",
    "sites_df"
   ]
  },
  {
   "cell_type": "markdown",
   "metadata": {},
   "source": [
    "## Participating Sites"
   ]
  },
  {
   "cell_type": "code",
   "execution_count": null,
   "metadata": {},
   "outputs": [],
   "source": [
    "registered_df = pd.read_csv(join(\"..\", \"data\", \"site.register_1.1.csv\"))\n",
    "registered = registered_df.SiteID.unique().tolist()\n",
    "\n",
    "sites_df = sites_df.reset_index()\n",
    "sites_df = sites_df[sites_df.siteid.isin(registered)]\n",
    "\n",
    "if(len(sites_df.siteid.unique().tolist()) != len(registered)):\n",
    "    print('somthing wrong')\n",
    "    \n",
    "sites_df"
   ]
  },
  {
   "cell_type": "code",
   "execution_count": null,
   "metadata": {},
   "outputs": [],
   "source": [
    "num_sites_na = sites_df.loc[sites_df[\"country\"] == \"USA\"].shape[0]\n",
    "num_sites_eur = sites_df.loc[sites_df[\"country\"].isin([\"Spain\", \"United Kingdom\", \"Italy\", \"France\", \"Germany\"])].shape[0]\n",
    "num_sites_asia = sites_df.loc[sites_df[\"country\"].isin([\"Singapore\"])].shape[0]\n",
    "num_sites_sa = sites_df.loc[sites_df[\"country\"].isin([\"Brazil\"])].shape[0]"
   ]
  },
  {
   "cell_type": "markdown",
   "metadata": {},
   "source": [
    "## Topology of Countries"
   ]
  },
  {
   "cell_type": "code",
   "execution_count": null,
   "metadata": {},
   "outputs": [],
   "source": [
    "topo_url = \"https://raw.githubusercontent.com/danutzthe/topojson_world_map/master/world-110m.json\"\n",
    "countries = alt.topo_feature(topo_url, 'countries')"
   ]
  },
  {
   "cell_type": "markdown",
   "metadata": {},
   "source": [
    "## Country Codes"
   ]
  },
  {
   "cell_type": "code",
   "execution_count": null,
   "metadata": {},
   "outputs": [],
   "source": [
    "code_df = pd.read_json(\n",
    "    \"https://raw.githubusercontent.com/alisle/world-110m-country-codes/master/world-110m-country-codes.json\"\n",
    ")\n",
    "\n",
    "# Add a missing country\n",
    "singapore_df = pd.DataFrame(data=[{\"code\": \"Singapore\", \"id\": 702, \"name\": \"Singapore\"}])\n",
    "code_df = pd.concat([code_df, singapore_df])"
   ]
  },
  {
   "cell_type": "markdown",
   "metadata": {},
   "source": [
    "## Merge Data"
   ]
  },
  {
   "cell_type": "code",
   "execution_count": null,
   "metadata": {},
   "outputs": [],
   "source": [
    "# Add custom encodigs to code_df\n",
    "df = pd.DataFrame(data=[\n",
    "    # Custom encoding for each city\n",
    "    {\"id\": 250, \"color\": \"#0072B2\", \"fill\": \"lightgray\", \"opacity\": 1, \"country\": \"France\"},\n",
    "    {\"id\": 276, \"color\": \"#E69F00\", \"fill\": \"lightgray\", \"opacity\": 1, \"country\": \"Germany\"},\n",
    "    {\"id\": 380, \"color\": \"#009E73\", \"fill\": \"lightgray\", \"opacity\": 1, \"country\": \"Italy\"},\n",
    "    {\"id\": 702, \"color\": \"#CC79A7\", \"fill\": \"lightgray\", \"opacity\": 1, \"country\": \"Singapore\"},\n",
    "    {\"id\": 840, \"color\": \"#D55E00\", \"fill\": \"lightgray\", \"opacity\": 1, \"country\": \"USA\"},\n",
    "    {\"id\": 826, \"color\": \"#382633\", \"fill\": \"lightgray\", \"opacity\": 1, \"country\": \"United Kingdom\"},\n",
    "    {\"id\": 724, \"color\": \"#A3333D\", \"fill\": \"lightgray\", \"opacity\": 1, \"country\": \"Spain\"},\n",
    "    {\"id\": 76, \"color\": \"#0E3B43\", \"fill\": \"lightgray\", \"opacity\": 1, \"country\": \"Brazil\"},\n",
    "])\n",
    "code_df = code_df.set_index(\"id\")\n",
    "df = df.set_index(\"id\")\n",
    "df = code_df.join(df).reset_index()\n",
    "df.loc[df[\"opacity\"] != 1, \"opacity\"] = 0.2 # default opacity\n",
    "\n",
    "# Add site descriptions\n",
    "df = df.set_index(\"country\")\n",
    "sites_df = sites_df.set_index(\"country\")\n",
    "df = df.join(sites_df).reset_index()\n",
    "\n",
    "# Add lists of sites for each city\n",
    "UNIQUE_CITIES = sites_df[\"city\"].unique().tolist()\n",
    "for c in UNIQUE_CITIES:\n",
    "    f = df[\"city\"] == c\n",
    "    sites_str =  \", \".join(sites_df[sites_df[\"city\"] == c][\"site_name\"].unique().tolist())\n",
    "    df.loc[f, \"sites\"] = sites_str"
   ]
  },
  {
   "cell_type": "markdown",
   "metadata": {},
   "source": [
    "# Visualization: Symbol Map"
   ]
  },
  {
   "cell_type": "markdown",
   "metadata": {},
   "source": [
    "## Map Background"
   ]
  },
  {
   "cell_type": "code",
   "execution_count": null,
   "metadata": {},
   "outputs": [],
   "source": [
    "background = alt.Chart(countries).mark_geoshape(\n",
    "    fill=\"lightgray\",\n",
    "    stroke='lightgray'\n",
    ").encode(\n",
    "    opacity=alt.Opacity(\"opacity:Q\", legend=None),\n",
    "#     color=alt.Color(\"Hospitals:Q\")\n",
    ").transform_lookup(\n",
    "    lookup=\"id\",\n",
    "    from_=alt.LookupData(df, \"id\", [\"opacity\", \"color\", \"Hospitals\"])\n",
    ")\n",
    "\n",
    "background\n",
    "# df"
   ]
  },
  {
   "cell_type": "code",
   "execution_count": null,
   "metadata": {},
   "outputs": [],
   "source": [
    "df = df.rename(columns={'country': 'Country', 'sites': 'Sites', 'city': 'City', 'adult_num_hosp': 'Hospitals', 'lon': 'Longitude', 'lat': 'Latitude', 'siteid': 'SiteID'})\n",
    "df"
   ]
  },
  {
   "cell_type": "markdown",
   "metadata": {},
   "source": [
    "## Symbols"
   ]
  },
  {
   "cell_type": "code",
   "execution_count": null,
   "metadata": {},
   "outputs": [],
   "source": [
    "# COUNTRIES = [\"France\", \"Germany\", \"Italy\", \"Singapore\", \"USA\", \"United Kingdom\", \"Spain\", \"Brazil\"]\n",
    "# COUNTRY_COLOR = [\"#0072B2\", \"#E69F00\", \"#009E73\", \"#CC79A7\", \"#D55E00\", \"#382633\", \"#A3333D\", \"#0E3B43\"]\n",
    "\n",
    "COUNTRIES = ['ALL', 'Brazil', 'France', 'Germany', 'Italy', 'Spain', 'USA']\n",
    "COUNTRY_COLOR = ['black', '#CB7AA7', '#0072B2', '#E79F00', '#029F73', '#57B4E9', '#D45E00']\n",
    "\n",
    "color_scale = alt.Scale(domain=COUNTRIES, range=COUNTRY_COLOR)\n",
    "\n",
    "circle = alt.Chart(df).transform_aggregate(\n",
    "    Latitude_Mean='mean(Latitude)',\n",
    "    Longitude_Mean='mean(Longitude)',\n",
    "    Hospitals_Total='sum(Hospitals)',\n",
    "    Sites_Total='count()',\n",
    "    groupby=['City','Country', 'Sites', 'SiteID']\n",
    ").transform_filter(\n",
    "    alt.datum[\"City\"] != None\n",
    ").mark_circle().encode(\n",
    "    longitude='Longitude_Mean:Q',\n",
    "    latitude='Latitude_Mean:Q',\n",
    "    size=alt.Size(\n",
    "        'Hospitals_Total:Q', \n",
    "        title='Number of Hospitals', \n",
    "        scale=alt.Scale(domain=[1, 40], range=[60, 400]),\n",
    "        legend=None\n",
    "    ),\n",
    "    color=alt.Color(\n",
    "        'Country:N', \n",
    "        scale=color_scale, \n",
    "        legend=None\n",
    "    ),\n",
    "    tooltip=[\n",
    "        alt.Tooltip('Country:N'),\n",
    "        alt.Tooltip('City:N'),\n",
    "        alt.Tooltip('Sites:N', title=\"Participating sites\"),\n",
    "        alt.Tooltip('Sites_Total:Q', title=\"Number of sites\"), \n",
    "        alt.Tooltip('Hospitals_Total:Q', title=\"Number of hospitals\"),\n",
    "    ]\n",
    ")\n",
    "\n",
    "labels = circle.mark_text(\n",
    "    align='center',\n",
    "    baseline='top',\n",
    "    dy=7\n",
    ").encode(\n",
    "    longitude='Longitude_Mean:Q',\n",
    "    latitude='Latitude_Mean:Q',\n",
    "    text='SiteID',\n",
    "    size=alt.value(8),\n",
    "    color=alt.value('black'),\n",
    "    opacity=alt.value(1)\n",
    ")"
   ]
  },
  {
   "cell_type": "markdown",
   "metadata": {},
   "source": [
    "## Map Visualizations by Continent"
   ]
  },
  {
   "cell_type": "code",
   "execution_count": null,
   "metadata": {},
   "outputs": [],
   "source": []
  },
  {
   "cell_type": "code",
   "execution_count": null,
   "metadata": {},
   "outputs": [],
   "source": [
    "label_offsets = {\n",
    "    # Custom dx and dy\n",
    "    \"Boston, MA\": {\"dx\": 0, \"dy\": -12},\n",
    "    \"Bedford, MA\": {\"dx\": 0, \"dy\": 13},\n",
    "    \"Ann Arbor, MI\": {\"dx\": 0, \"dy\": -10},\n",
    "    \"Pittsburgh, PA\": {\"dx\": 12, \"dy\": -15},\n",
    "    \"Philadelphia, PA\": {\"dx\": 20, \"dy\": 10},\n",
    "    \"Bethlehem, PA\": {\"dx\": 36, \"dy\": 0},\n",
    "    \"Kansas City, MO\": {\"dx\": -36, \"dy\": 9},\n",
    "    \"Dallas, TX\": {\"dx\": -24, \"dy\": 0},\n",
    "    \"Lexington, KY\": {\"dx\": -16, \"dy\": 3},\n",
    "    \"Birmingham, AL\": {\"dx\": -15, \"dy\": 10},\n",
    "    \"Bergamo\": {\"dx\": 0, \"dy\": -10},\n",
    "    \"Charleston, SC\": {\"dx\": 0, \"dy\": 13},\n",
    "    \"Newport News, VA\": {\"dx\": 39, \"dy\": 3},\n",
    "    \"Chapel Hill, NC\": {\"dx\": 13, \"dy\": 9},\n",
    "    \"Chicago, IL\": {\"dx\": -20, \"dy\": 0},\n",
    "    \"Vancouver, WA\": {\"dx\": 20, \"dy\": -12},\n",
    "    \"Mare Island, CA\": {\"dx\": 20, \"dy\": -12},\n",
    "    \"Los Angeles, CA\": {\"dx\": 0, \"dy\": 12},\n",
    "    \"Mesa, AZ\": {\"dx\": 33, \"dy\": 0},\n",
    "    \"Minneapolis, MN\": {\"dx\": 0, \"dy\": -12},\n",
    "    \"Arlington, TX\": {\"dx\": -24, \"dy\": 12},\n",
    "    \"Hines, IL\": {\"dx\": 0, \"dy\": -12},\n",
    "    \"Glendale, CO\": {\"dx\": -5, \"dy\": -12},\n",
    "    \"Nashville, TN\": {\"dx\": -32, \"dy\": 6}, \n",
    "    \"Bronx, NY\": {\"dx\": 15, \"dy\": 12}, \n",
    "    \"Linthicum, MD\": {\"dx\": 30, \"dy\": 2}, \n",
    "    \"Durgham, NC\": {\"dx\": 34, \"dy\": 2}, \n",
    "    \"Cincinnati, OH\": {\"dx\": 30, \"dy\": 8}, \n",
    "    \"Long Beach, CA\": {\"dx\": 0, \"dy\": -12}, \n",
    "}\n",
    "\n",
    "labels_with_offset = labels.transform_filter(\n",
    "    (alt.datum[\"City\"] != \"Long Beach, CA\") &                                \n",
    "    \n",
    "    (alt.datum[\"City\"] != \"Cincinnati, OH\") &                                \n",
    "    (alt.datum[\"City\"] != \"Durgham, NC\") &                            \n",
    "    (alt.datum[\"City\"] != \"Linthicum, MD\") &                            \n",
    "    (alt.datum[\"City\"] != \"Bronx, NY\") &                            \n",
    "    (alt.datum[\"City\"] != \"Bedford, MA\") &                        \n",
    "    (alt.datum[\"City\"] != \"Nashville, TN\") &                    \n",
    "    (alt.datum[\"City\"] != \"Glendale, CO\") &                \n",
    "    (alt.datum[\"City\"] != \"Arlington, TX\") &            \n",
    "    (alt.datum[\"City\"] != \"Minneapolis, MN\") &        \n",
    "    (alt.datum[\"City\"] != \"Mesa, AZ\") &    \n",
    "    (alt.datum[\"City\"] != \"Los Angeles, CA\") &\n",
    "    (alt.datum[\"City\"] != \"Mare Island, CA\") &\n",
    "    (alt.datum[\"City\"] != \"Vancouver, WA\") &\n",
    "    (alt.datum[\"City\"] != \"Chicago, IL\") &\n",
    "    (alt.datum[\"City\"] != \"Boston, MA\") & \n",
    "    (alt.datum[\"City\"] != \"Ann Arbor, MI\") & \n",
    "    (alt.datum[\"City\"] != \"Pittsburgh, PA\") & \n",
    "    (alt.datum[\"City\"] != \"Philadelphia, PA\") & \n",
    "    (alt.datum[\"City\"] != \"Bethlehem, PA\") &\n",
    "    (alt.datum[\"City\"] != \"Kansas City, MO\") &\n",
    "    (alt.datum[\"City\"] != \"Dallas, TX\") &\n",
    "    (alt.datum[\"City\"] != \"Birmingham, AL\") &\n",
    "    (alt.datum[\"City\"] != \"Lexington, KY\") & \n",
    "    (alt.datum[\"City\"] != \"Charleston, SC\") &\n",
    "    (alt.datum[\"City\"] != \"Chapel Hill, NC\") &\n",
    "    (alt.datum[\"City\"] != \"Newport News, VA\")\n",
    ")\n",
    "\n",
    "for city in list(label_offsets.keys()):\n",
    "    labels_with_offset += labels.transform_filter(\n",
    "        alt.datum[\"City\"] == city\n",
    "    ).mark_text(dx=label_offsets[city][\"dx\"], dy=label_offsets[city][\"dy\"])\n",
    "\n",
    "nor_am = ( background + circle + labels_with_offset ).project(\n",
    "    type= 'mercator',\n",
    "    scale= 280,\n",
    "    center= [-126, 59],\n",
    "    translate = [0, 0]\n",
    ").properties(\n",
    "    title={\n",
    "        \"text\": 'Sites in North America',\n",
    "#         \"subtitle\": get_visualization_subtitle(num_sites=num_sites_na, data_release=DATA_RELEASE),\n",
    "        \"subtitleColor\": \"gray\"\n",
    "    },\n",
    "    width=300, height=300\n",
    ")\n",
    "\n",
    "nor_am"
   ]
  },
  {
   "cell_type": "code",
   "execution_count": null,
   "metadata": {},
   "outputs": [],
   "source": [
    "sou_am = ( background + circle + labels ).project(\n",
    "    type= 'mercator',\n",
    "    scale= 180,\n",
    "    center= [-110, 23],\n",
    "    translate = [0, 0]\n",
    ").properties(\n",
    "    title={\n",
    "        \"text\": 'Sites in South America',\n",
    "#         \"subtitle\": get_visualization_subtitle(num_sites=num_sites_sa, data_release=DATA_RELEASE),\n",
    "        \"subtitleColor\": \"gray\"\n",
    "    },\n",
    "    width=300, height=300\n",
    ")\n",
    "\n",
    "sou_am"
   ]
  },
  {
   "cell_type": "code",
   "execution_count": null,
   "metadata": {},
   "outputs": [],
   "source": [
    "label_offsets = {\n",
    "    # Custom dx and dy\n",
    "    \"Paris\": {\"dx\": 0, \"dy\": 16},\n",
    "    \"Mannheim\": {\"dx\": 0, \"dy\": -10},\n",
    "    \"Erlangen\": {\"dx\": 22, \"dy\": 0},\n",
    "    \"Freiburg\": {\"dx\": 18, \"dy\": 0},\n",
    "    \"Lumezzane/Brescia\": {\"dx\": 20, \"dy\": 0},\n",
    "    \"Pavia\": {\"dx\": -25, \"dy\": 0},\n",
    "    \n",
    "    \"Milano\": {\"dx\": -20, \"dy\": 0},\n",
    "    \"Bergamo\": {\"dx\": 15, \"dy\": -10},\n",
    "    \"Milan\":  {\"dx\": 5, \"dy\": 16},\n",
    "}\n",
    "\n",
    "labels_with_offset = labels.transform_filter(\n",
    "    (alt.datum[\"City\"] != \"Paris\") & \n",
    "    (alt.datum[\"City\"] != \"Milano\") & \n",
    "    (alt.datum[\"City\"] != \"Bergamo\") & \n",
    "    (alt.datum[\"City\"] != \"Erlangen\") &\n",
    "    (alt.datum[\"City\"] != \"Mannheim\") &\n",
    "    (alt.datum[\"City\"] != \"Freiburg\") &\n",
    "    (alt.datum[\"City\"] != \"Lumezzane/Brescia\") &\n",
    "    (alt.datum[\"City\"] != \"Pavia\") &\n",
    "    (alt.datum[\"City\"] != \"Milan\")\n",
    ")\n",
    "\n",
    "for city in list(label_offsets.keys()):\n",
    "    labels_with_offset += labels.transform_filter(\n",
    "        alt.datum[\"City\"] == city\n",
    "    ).mark_text(dx=label_offsets[city][\"dx\"], dy=label_offsets[city][\"dy\"])\n",
    "\n",
    "eu = ( \n",
    "    background + \n",
    "    circle + #.transform_filter(alt.datum[\"Country\"] != \"Germany\") + \n",
    "    labels_with_offset#.transform_filter(alt.datum[\"Country\"] != \"Germany\") \n",
    ").project(\n",
    "    type='mercator',\n",
    "    scale=420,\n",
    "    center=[-20, 58],\n",
    "    translate=[0, 0],\n",
    ").properties(\n",
    "    title={\n",
    "        \"text\": 'Sites in Europe',\n",
    "#         \"subtitle\": get_visualization_subtitle(num_sites=num_sites_eur-2-3, data_release=DATA_RELEASE),\n",
    "        \"subtitleColor\": \"gray\"\n",
    "    },\n",
    "    width=300, height=300\n",
    ")\n",
    "\n",
    "eu"
   ]
  },
  {
   "cell_type": "code",
   "execution_count": null,
   "metadata": {},
   "outputs": [],
   "source": [
    "asia = ( background + circle + labels ).project(\n",
    "    type= 'mercator',\n",
    "    scale= 900,\n",
    "    center= [94,10],\n",
    "    translate=[0, 0]\n",
    ").properties(\n",
    "    title={\n",
    "        \"text\": 'Sites in Asia',\n",
    "#         \"subtitle\": get_visualization_subtitle(num_sites=num_sites_asia, data_release=DATA_RELEASE),\n",
    "        \"subtitleColor\": \"gray\"\n",
    "    },\n",
    "    width=300, height=300\n",
    ")\n",
    "\n",
    "asia"
   ]
  },
  {
   "cell_type": "code",
   "execution_count": null,
   "metadata": {},
   "outputs": [],
   "source": [
    "# h = apply_theme(alt.hconcat(alt.vconcat(nor_am, sou_am, spacing=10), alt.vconcat(eu, asia, spacing=10), spacing=10)).properties(\n",
    "h = apply_theme(alt.hconcat(nor_am, eu, sou_am, spacing=10)).properties(\n",
    "    background=\"transparent\"\n",
    ")\n",
    "\n",
    "for_website(h, \"Map\", \"Sites by continent horizontal\")\n",
    "\n",
    "h"
   ]
  },
  {
   "cell_type": "code",
   "execution_count": null,
   "metadata": {},
   "outputs": [],
   "source": [
    "v = apply_theme(alt.vconcat(nor_am, eu, asia, sou_am, spacing=10)).properties(\n",
    "    background=\"transparent\"\n",
    ")\n",
    "\n",
    "for_website(v, \"Map\", \"Sites by continent vertical\")\n",
    "\n",
    "v"
   ]
  },
  {
   "cell_type": "code",
   "execution_count": null,
   "metadata": {},
   "outputs": [],
   "source": [
    "choropleth = alt.Chart(countries).mark_geoshape(\n",
    "#     fill=\"lightgray\",\n",
    "#     stroke='lightgray'\n",
    ").encode(\n",
    "    opacity=alt.Opacity(\"opacity:Q\", legend=None),\n",
    "    color=alt.Color(\"Hospitals:Q\")\n",
    ").transform_lookup(\n",
    "    lookup=\"id\",\n",
    "    from_=alt.LookupData(df, \"id\", [\"opacity\", \"color\", \"Hospitals\"])\n",
    ")\n",
    "\n",
    "choropleth\n",
    "# df"
   ]
  },
  {
   "cell_type": "code",
   "execution_count": null,
   "metadata": {},
   "outputs": [],
   "source": []
  },
  {
   "cell_type": "code",
   "execution_count": null,
   "metadata": {},
   "outputs": [],
   "source": []
  },
  {
   "cell_type": "code",
   "execution_count": null,
   "metadata": {},
   "outputs": [],
   "source": []
  },
  {
   "cell_type": "code",
   "execution_count": null,
   "metadata": {},
   "outputs": [],
   "source": []
  },
  {
   "cell_type": "code",
   "execution_count": null,
   "metadata": {},
   "outputs": [],
   "source": []
  },
  {
   "cell_type": "code",
   "execution_count": null,
   "metadata": {},
   "outputs": [],
   "source": []
  }
 ],
 "metadata": {
  "kernelspec": {
   "display_name": "Python 3",
   "language": "python",
   "name": "python3"
  },
  "language_info": {
   "codemirror_mode": {
    "name": "ipython",
    "version": 3
   },
   "file_extension": ".py",
   "mimetype": "text/x-python",
   "name": "python",
   "nbconvert_exporter": "python",
   "pygments_lexer": "ipython3",
   "version": "3.9.2"
  }
 },
 "nbformat": 4,
 "nbformat_minor": 4
}
