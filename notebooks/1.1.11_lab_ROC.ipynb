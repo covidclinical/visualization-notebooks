{
 "cells": [
  {
   "cell_type": "code",
   "execution_count": null,
   "metadata": {},
   "outputs": [],
   "source": [
    "%load_ext autoreload\n",
    "%autoreload 2\n",
    "%aimport utils_1_1\n",
    "\n",
    "import pandas as pd\n",
    "import numpy as np\n",
    "import altair as alt\n",
    "from os.path import join\n",
    "import math\n",
    "\n",
    "from utils_1_1 import (\n",
    "    get_country_color_map_none_pediatric,\n",
    "    get_visualization_subtitle,\n",
    "    apply_theme,\n",
    ")\n",
    "from web import for_website"
   ]
  },
  {
   "cell_type": "markdown",
   "metadata": {},
   "source": [
    "# Data Preprocessing"
   ]
  },
  {
   "cell_type": "markdown",
   "metadata": {},
   "source": [
    "## Lab Variation Data From Figshare (Not supported yet)\n",
    "Use the latest data from xxx"
   ]
  },
  {
   "cell_type": "code",
   "execution_count": null,
   "metadata": {},
   "outputs": [],
   "source": [
    "# Lab_VariationByCountry.csv\n",
    "# labs = pd.read_csv(\"https://ndownloader.figshare.com/files/22345587\")\n",
    "\n",
    "# labs.head()"
   ]
  },
  {
   "cell_type": "code",
   "execution_count": null,
   "metadata": {},
   "outputs": [],
   "source": [
    "labs = pd.read_csv('../data/Figure_5_lab_ROC_dist_overtime.csv', header=[0]) # For loading local data\n",
    "labs"
   ]
  },
  {
   "cell_type": "code",
   "execution_count": null,
   "metadata": {},
   "outputs": [],
   "source": [
    "processed_labs = labs.copy()\n",
    "\n",
    "loinc_map = {\n",
    "    'alanine aminotransferase (ALT)': '1742-6, alanine aminotransferase (ALT) (U/L)',\n",
    "    'albumin':  '1751-7, albumin (g/dL)',\n",
    "    'aspartate aminotransferase (AST)':  '1920-8, aspartate aminotransferase (AST) (U/L)',\n",
    "    'C-reactive protein (CRP) (Normal Sensitivity)':  '1988-5, C-reactive protein (CRP) (Normal Sensitivity) (mg/L)',\n",
    "    'cardiac troponin (High Sensitivity)':  '49563-0, cardiac troponin (High Sensitivity) (ng/mL)',\n",
    "    'cardiac troponin (Normal Sensitivity)': '6598-7, cardiac troponin (Normal Sensitivity) (ug/L)',\n",
    "    'creatinine':  '2160-0, creatinine (mg/dL)',\n",
    "    'D-dimer':  '48065-7, 48066-5, D-dimer (ng/mL)',\n",
    "    'Ferritin':  '2276-4, Ferritin (ng/mL)',\n",
    "    'Fibrinogen':  '3255-7, Fibrinogen (mg/dL)',\n",
    "    'lactate dehydrogenase (LDH)':  '2532-0, lactate dehydrogenase (LDH) (U/L)',\n",
    "    'lymphocyte count':  '731-0, lymphocyte count (10*3/uL)',\n",
    "    'neutrophil count':  '751-8, neutrophil count (10*3/uL)',\n",
    "    'procalcitonin':   '33959-8, procalcitonin (ng/mL)',\n",
    "    'prothrombin time (PT)':  '5902-2, prothrombin time (PT) (s)',\n",
    "    'total bilirubin':  '1975-2, total bilirubin (mg/dL)',\n",
    "    'white blood cell count (Leukocytes)': '6690-2, white blood cell count (Leukocytes) (10*3/uL)' \n",
    "}\n",
    "\n",
    "processed_labs[\"nm.lab\"] = processed_labs[\"nm.lab\"].apply(lambda x: loinc_map[x])\n",
    "\n",
    "processed_labs = processed_labs.rename(columns={\n",
    "    'nm.lab': 'lab',\n",
    "    'y.scale': 'scale'\n",
    "})\n",
    "\n",
    "processed_labs"
   ]
  },
  {
   "cell_type": "code",
   "execution_count": null,
   "metadata": {},
   "outputs": [],
   "source": [
    "Y_SCALES = ['original', 'log']\n",
    "Y_SCALE_COLORS = ['steelblue', 'salmon']"
   ]
  },
  {
   "cell_type": "markdown",
   "metadata": {},
   "source": [
    "# Visualization"
   ]
  },
  {
   "cell_type": "code",
   "execution_count": null,
   "metadata": {},
   "outputs": [],
   "source": [
    "input_dropdown = alt.binding_select(options=list(processed_labs['lab'].unique()))\n",
    "selection = alt.selection_single(fields=['lab'], bind=input_dropdown, name='Lab ', init={'lab': list(processed_labs['lab'].unique())[0]})\n",
    "\n",
    "color_scale = alt.Scale(domain=Y_SCALES, range=Y_SCALE_COLORS)\n",
    "\n",
    "ci = alt.Chart(\n",
    "    processed_labs\n",
    ").mark_area(\n",
    "\n",
    ").encode(\n",
    "    x=alt.X('day:Q', title='Days since positive'),\n",
    "    y=alt.Y('auc_ci_lb:Q', title='AUC'),\n",
    "    y2=alt.Y2('auc_ci_ub:Q'),\n",
    "    color=alt.Color('scale:N', scale=color_scale, title='Scale'),\n",
    "    opacity=alt.value(0.3),\n",
    "    tooltip=[\n",
    "        alt.Tooltip(\"auc\", title=\"AUC\", format=\".2f\"),\n",
    "        alt.Tooltip(\"day\", title=\"Days since positive\")\n",
    "    ]\n",
    ")\n",
    "\n",
    "mean = ci.mark_line(\n",
    "    size=3,\n",
    "    strokeDash=[3, 2]\n",
    ").encode(\n",
    "    y=alt.Y('auc:Q', title='AUC'),\n",
    "    opacity=alt.value(1)\n",
    ")\n",
    "\n",
    "plot = (\n",
    "    (ci + mean)\n",
    "        .properties(width=450, height=450)\n",
    "    .add_selection(\n",
    "        selection\n",
    "    ).transform_filter(\n",
    "        selection\n",
    "    )\n",
    ")\n",
    "# For showing all together\n",
    "# .facet(\n",
    "#     facet=alt.Facet(\"lab:N\", title=None, header=alt.Header(labels=False)), bounds=\"flush\"\n",
    "# )\n",
    "\n",
    "\n",
    "\n",
    "plot = plot.properties(\n",
    "    title={\n",
    "        \"text\": \"Lab ROC Distribution Over Time\",\n",
    "        \"subtitle\": get_visualization_subtitle(data_release='2020-08-03', with_num_sites=True, num_sites=45),\n",
    "        \"subtitleColor\": \"gray\",\n",
    "        \"anchor\": \"middle\",\n",
    "    }\n",
    ")\n",
    "\n",
    "plot = apply_theme(plot, legend_orient=\"right\", header_label_font_size=15)\n",
    "\n",
    "for_website(plot, \"1.1_Labs\", \"Lab ROC distrubution\")\n",
    "\n",
    "plot"
   ]
  },
  {
   "cell_type": "code",
   "execution_count": null,
   "metadata": {},
   "outputs": [],
   "source": []
  },
  {
   "cell_type": "code",
   "execution_count": null,
   "metadata": {},
   "outputs": [],
   "source": []
  }
 ],
 "metadata": {
  "kernelspec": {
   "display_name": "Python 3",
   "language": "python",
   "name": "python3"
  },
  "language_info": {
   "codemirror_mode": {
    "name": "ipython",
    "version": 3
   },
   "file_extension": ".py",
   "mimetype": "text/x-python",
   "name": "python",
   "nbconvert_exporter": "python",
   "pygments_lexer": "ipython3",
   "version": "3.8.3"
  }
 },
 "nbformat": 4,
 "nbformat_minor": 4
}
