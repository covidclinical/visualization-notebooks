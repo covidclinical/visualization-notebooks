{
 "cells": [
  {
   "cell_type": "code",
   "execution_count": null,
   "metadata": {},
   "outputs": [],
   "source": [
    "%load_ext autoreload\n",
    "%autoreload 2\n",
    "%aimport utils_1_1\n",
    "\n",
    "import pandas as pd\n",
    "import numpy as np\n",
    "import altair as alt\n",
    "from altair_saver import save\n",
    "import datetime\n",
    "import dateutil.parser\n",
    "from os.path import join\n",
    "\n",
    "from constants_1_1 import SITE_FILE_TYPES\n",
    "from utils_1_1 import (\n",
    "    read_loinc_df,\n",
    "    get_site_file_paths,\n",
    "    get_site_file_info,\n",
    "    get_site_ids,\n",
    "    read_full_daily_counts_df,\n",
    "    get_visualization_subtitle,\n",
    "    get_country_color_map,\n",
    "    apply_theme,\n",
    "    merge_single_site_country_name,\n",
    ")\n",
    "from web import for_website\n",
    "\n",
    "alt.data_transformers.disable_max_rows(); # Allow using rows more than 5000"
   ]
  },
  {
   "cell_type": "markdown",
   "metadata": {},
   "source": [
    "## The 4CE Health Systems Participating spreadsheet must be downloaded from Google Sheets and moved to\n",
    "\n",
    "```\n",
    "data/Health_Systems_Participating.csv\n",
    "```\n",
    "\n",
    "because we need the number of hospitals, beds, and inpatient discharges per year in order to compute the country-level rates of change."
   ]
  },
  {
   "cell_type": "code",
   "execution_count": null,
   "metadata": {},
   "outputs": [],
   "source": [
    "min_date = datetime.datetime(2020, 1, 27) + datetime.timedelta(hours=1)\n",
    "max_date = datetime.datetime(2020, 8, 16) + datetime.timedelta(hours=1)"
   ]
  },
  {
   "cell_type": "code",
   "execution_count": null,
   "metadata": {},
   "outputs": [],
   "source": [
    "DATA_RELEASE = \"2020-09-19\"\n",
    "COHORT = \"Adult\"\n",
    "MERGE_SINGLE_SITE_COUNTRIES = True"
   ]
  },
  {
   "cell_type": "code",
   "execution_count": null,
   "metadata": {},
   "outputs": [],
   "source": [
    "CATEGORY = \"category\"\n",
    "CATEGORY_OF_INTEREST = \"new_positive_cases\""
   ]
  },
  {
   "cell_type": "code",
   "execution_count": null,
   "metadata": {},
   "outputs": [],
   "source": [
    "COUNTRY_POPULATION = {\n",
    "    # From https://data.worldbank.org/indicator/SP.POP.TOTL\n",
    "    \"France\": 67059887,\n",
    "    \"USA\": 328239523,\n",
    "    \"Germany\": 83132799,\n",
    "    \"Italy\": 60297396,\n",
    "    \"Singapore\": 5703569,\n",
    "    \"Spain\": 47076781,\n",
    "    \"UK\": 66834405,\n",
    "}\n",
    "COUNTRY_HOSP_DISCHARGE = {\n",
    "    # From https://data.oecd.org/healthcare/hospital-discharge-rates.htm\n",
    "    \"France\": 18553.0,\n",
    "    \"USA\": 10906.2, # https://hcup-us.ahrq.gov/faststats/NationalTrendsServlet\n",
    "    \"Germany\": 25478.4,\n",
    "    \"Italy\": 11414.6,\n",
    "    \"Singapore\": 12700.4, # https://www.moh.gov.sg/resources-statistics/healthcare-institution-statistics/hospital-admission-rates-by-age-and-sex/hospital-admission-rates-by-age-and-sex-2017\n",
    "    \"Spain\": 10470.5,\n",
    "    \"UK\": 12869.4,\n",
    "}"
   ]
  },
  {
   "cell_type": "code",
   "execution_count": null,
   "metadata": {},
   "outputs": [],
   "source": [
    "COUNTRY_POPULATION[\"Germany + Singapore + UK\"] = COUNTRY_POPULATION[\"Germany\"] + COUNTRY_POPULATION[\"Singapore\"] + COUNTRY_POPULATION[\"UK\"]\n",
    "COUNTRY_HOSP_DISCHARGE[\"Germany + Singapore + UK\"] = COUNTRY_HOSP_DISCHARGE[\"Germany\"] + COUNTRY_HOSP_DISCHARGE[\"Singapore\"] + COUNTRY_HOSP_DISCHARGE[\"UK\"]"
   ]
  },
  {
   "cell_type": "code",
   "execution_count": null,
   "metadata": {},
   "outputs": [],
   "source": [
    "df = read_full_daily_counts_df()\n",
    "df.head()"
   ]
  },
  {
   "cell_type": "markdown",
   "metadata": {},
   "source": [
    "## Remove pediatric sites"
   ]
  },
  {
   "cell_type": "code",
   "execution_count": null,
   "metadata": {},
   "outputs": [],
   "source": [
    "df = df.loc[df[\"pediatric\"] == False]\n",
    "df = df.drop(columns=[\"pediatric\"])\n",
    "df.head()"
   ]
  },
  {
   "cell_type": "code",
   "execution_count": null,
   "metadata": {},
   "outputs": [],
   "source": [
    "# Remove RP401 non-pediatric data since RP401 is only listed as a pediatric site\n",
    "df = df.loc[~df[\"siteid\"].isin([\"RP401\"])]"
   ]
  },
  {
   "cell_type": "code",
   "execution_count": null,
   "metadata": {},
   "outputs": [],
   "source": [
    "df = df.replace(-99, np.nan)\n",
    "df = df.replace(-999, np.nan)"
   ]
  },
  {
   "cell_type": "code",
   "execution_count": null,
   "metadata": {},
   "outputs": [],
   "source": [
    "df[\"num_sites\"] = 1"
   ]
  },
  {
   "cell_type": "code",
   "execution_count": null,
   "metadata": {},
   "outputs": [],
   "source": [
    "# We only need the JHU data for the countries that exist in the 4CE data.\n",
    "COUNTRIES = df[\"country\"].unique().tolist()\n",
    "COUNTRIES"
   ]
  },
  {
   "cell_type": "code",
   "execution_count": null,
   "metadata": {},
   "outputs": [],
   "source": [
    "df[\"date\"] = df[\"calendar_date\"]\n",
    "df = df.drop(columns=[\"calendar_date\"])"
   ]
  },
  {
   "cell_type": "markdown",
   "metadata": {},
   "source": [
    "## Load participating sites metadata"
   ]
  },
  {
   "cell_type": "code",
   "execution_count": null,
   "metadata": {},
   "outputs": [],
   "source": [
    "sites_df = pd.read_csv(join(\"..\", \"data\", \"Health_Systems_Participating.tsv\"), sep='\\t', skiprows=2, header=None, thousands=',')\n",
    "sites_column_map = {\n",
    "    0: \"site_name\",\n",
    "    1: \"siteid\",\n",
    "    2: \"city\",\n",
    "    3: \"country\",\n",
    "    4: \"patient_type\",\n",
    "    6: \"adult_num_hosp\",\n",
    "    7: \"adult_num_beds\",\n",
    "    8: \"adult_num_yearly_discharge\",\n",
    "    10: \"ped_num_hosp\",\n",
    "    11: \"ped_num_beds\",\n",
    "    12: \"ped_num_yearly_discharge\",\n",
    "}\n",
    "sites_df = sites_df.rename(columns=sites_column_map)\n",
    "sites_df = sites_df[list(sites_column_map.values())]\n",
    "sites_df[\"pediatric\"] = sites_df[\"patient_type\"].apply(lambda t: t == \"Pediatric\")\n",
    "sites_df = sites_df.dropna(subset=[\"site_name\"])\n",
    "sites_df.tail()"
   ]
  },
  {
   "cell_type": "code",
   "execution_count": null,
   "metadata": {},
   "outputs": [],
   "source": [
    "# Drop the pediatric hospitals\n",
    "sites_df = sites_df.loc[sites_df[\"pediatric\"] == False]"
   ]
  },
  {
   "cell_type": "markdown",
   "metadata": {},
   "source": [
    "## Take intersection of sites that have provided valid num_yearly_discharge counts and sites that have provided daily counts data"
   ]
  },
  {
   "cell_type": "code",
   "execution_count": null,
   "metadata": {},
   "outputs": [],
   "source": [
    "sites_df[\"adult_num_hosp\"] = sites_df[\"adult_num_hosp\"].apply(lambda x: str(x).replace(\",\", \"\")).astype(float)\n",
    "sites_df[\"adult_num_beds\"] = sites_df[\"adult_num_beds\"].apply(lambda x:  str(x).replace(\",\", \"\")).astype(float)\n",
    "sites_df[\"adult_num_yearly_discharge\"] = sites_df[\"adult_num_yearly_discharge\"].apply(lambda x:  str(x).replace(\",\", \"\")).astype(float)"
   ]
  },
  {
   "cell_type": "code",
   "execution_count": null,
   "metadata": {},
   "outputs": [],
   "source": [
    "sites_df"
   ]
  },
  {
   "cell_type": "code",
   "execution_count": null,
   "metadata": {},
   "outputs": [],
   "source": [
    "sites_df = sites_df.dropna(subset=[\"adult_num_yearly_discharge\"])\n",
    "sites_in_sites_df = sites_df[\"siteid\"].unique().tolist()\n",
    "sites_in_df = df[\"siteid\"].unique().tolist()\n",
    "\n",
    "intersecting_sites = set(sites_in_sites_df).intersection(set(sites_in_df))\n",
    "sites_df = sites_df.loc[sites_df[\"siteid\"].isin(intersecting_sites)]\n",
    "df = df.loc[df[\"siteid\"].isin(intersecting_sites)]\n",
    "\n",
    "intersecting_sites"
   ]
  },
  {
   "cell_type": "code",
   "execution_count": null,
   "metadata": {},
   "outputs": [],
   "source": [
    "# Get number of sites after restricting to pediatrics\n",
    "# and after taking the intersection\n",
    "NUM_SITES = len(df[\"siteid\"].unique().tolist())"
   ]
  },
  {
   "cell_type": "code",
   "execution_count": null,
   "metadata": {},
   "outputs": [],
   "source": [
    "sites_in_sites_df"
   ]
  },
  {
   "cell_type": "markdown",
   "metadata": {},
   "source": [
    "## If site is missing data for a particular date, use the most recent previous data point for that date"
   ]
  },
  {
   "cell_type": "code",
   "execution_count": null,
   "metadata": {},
   "outputs": [],
   "source": [
    "def convert_date(date_str):\n",
    "    try:\n",
    "        return dateutil.parser.parse(date_str)\n",
    "    except:\n",
    "        return np.nan"
   ]
  },
  {
   "cell_type": "code",
   "execution_count": null,
   "metadata": {},
   "outputs": [],
   "source": [
    "max_date_str = str(max_date).split(\" \")[0]\n",
    "\n",
    "all_date_country_df = pd.DataFrame()\n",
    "for siteid, cd_df in df.groupby([\"siteid\"]):\n",
    "    min_date = cd_df[\"date\"].min()\n",
    "    min_date_str = str(min_date).split(\" \")[0]\n",
    "    \n",
    "    num_days = (dateutil.parser.parse(max_date_str) - dateutil.parser.parse(min_date_str)).days\n",
    "    \n",
    "    cd_df = cd_df.copy()\n",
    "    cd_df[\"date\"] = cd_df[\"date\"].astype(str)\n",
    "    \n",
    "    prev_date_row = None\n",
    "    for day_offset in range(num_days):\n",
    "        curr_date = dateutil.parser.parse(min_date_str) + datetime.timedelta(days=day_offset)\n",
    "        curr_date_str = str(curr_date).split(\" \")[0]\n",
    "        \n",
    "        try:\n",
    "            curr_date_row = cd_df.loc[cd_df[\"date\"] == curr_date_str].to_dict('records')[0]\n",
    "            prev_date_row = curr_date_row\n",
    "        except:\n",
    "            prev_date_row['date'] = curr_date_str\n",
    "            prev_date_row['num_sites'] = 0\n",
    "            cd_df = cd_df.append(prev_date_row, ignore_index=True)\n",
    "    \n",
    "    all_date_country_df = all_date_country_df.append(cd_df, ignore_index=True)\n",
    "\n",
    "all_date_country_df[\"date\"] = all_date_country_df[\"date\"].apply(convert_date)\n",
    "df = all_date_country_df"
   ]
  },
  {
   "cell_type": "markdown",
   "metadata": {},
   "source": [
    "## Subtract severe patients from all patients to get the \"never severe\"-like count"
   ]
  },
  {
   "cell_type": "code",
   "execution_count": null,
   "metadata": {},
   "outputs": [],
   "source": [
    "country_color_map = get_country_color_map(merge_single_site_countries=MERGE_SINGLE_SITE_COUNTRIES)"
   ]
  },
  {
   "cell_type": "code",
   "execution_count": null,
   "metadata": {},
   "outputs": [],
   "source": [
    "if MERGE_SINGLE_SITE_COUNTRIES:\n",
    "    df[\"country\"] = df[\"country\"].apply(merge_single_site_country_name)\n",
    "\n",
    "country_sum_df = df.groupby([\"country\", \"date\"]).sum().reset_index()\n",
    "country_sum_df.head()\n",
    "COUNTRIES = country_sum_df[\"country\"].unique().tolist()"
   ]
  },
  {
   "cell_type": "code",
   "execution_count": null,
   "metadata": {},
   "outputs": [],
   "source": [
    "country_sum_df[\"num_patients_in_hospital_on_this_date_minus_severe\"] = df[\"num_patients_in_hospital_on_this_date\"] - df[\"num_patients_in_hospital_and_severe_on_this_date\"]\n",
    "country_sum_df[\"cumulative_patients_all_minus_severe\"] = df[\"cumulative_patients_all\"] - df[\"cumulative_patients_severe\"]"
   ]
  },
  {
   "cell_type": "markdown",
   "metadata": {},
   "source": [
    "## Obtain country-level daily counts from JHU CSSE"
   ]
  },
  {
   "cell_type": "code",
   "execution_count": null,
   "metadata": {},
   "outputs": [],
   "source": [
    "jhu_url = \"https://raw.githubusercontent.com/CSSEGISandData/COVID-19/2335ac3d04721e2f7285e320badc2c4c6c416894/csse_covid_19_data/csse_covid_19_time_series/time_series_covid19_confirmed_global.csv\"\n",
    "jhu_df = pd.read_csv(jhu_url)\n",
    "\n",
    "jhu_df = jhu_df.rename(columns={\"Country/Region\": \"country\", \"Province/State\": \"state\"})\n",
    "jhu_df = jhu_df.drop(columns=[\"Lat\", \"Long\"])\n",
    "\n",
    "# Countries have different ids in the JHU data than in the 4CE data\n",
    "country_map = {\n",
    "    \"US\": \"USA\",\n",
    "    \"United Kingdom\": \"UK\"\n",
    "}\n",
    "\n",
    "jhu_df[\"country\"] = jhu_df[\"country\"].apply(lambda c: country_map[c] if c in country_map else c)\n",
    "jhu_df = jhu_df.loc[~pd.notna(jhu_df[\"state\"])]\n",
    "jhu_df = jhu_df.drop(columns=[\"state\"])\n",
    "if MERGE_SINGLE_SITE_COUNTRIES:\n",
    "    jhu_df[\"country\"] = jhu_df[\"country\"].apply(merge_single_site_country_name)\n",
    "jhu_df = jhu_df.loc[jhu_df[\"country\"].isin(COUNTRIES)]\n",
    "\n",
    "jhu_df = jhu_df.melt(id_vars=[\"country\"], var_name=\"date\", value_name=\"cumulative_count\")\n",
    "jhu_df[\"date\"] = jhu_df[\"date\"].astype(str)\n",
    "jhu_df = jhu_df.groupby([\"country\", \"date\"]).sum().reset_index()\n",
    "jhu_df[\"date\"] = jhu_df[\"date\"].apply(convert_date)\n",
    "jhu_df = jhu_df.sort_values(by=\"date\", ascending=True)\n",
    "jhu_df = jhu_df.loc[(jhu_df[\"date\"] >= min_date) & (jhu_df[\"date\"] <= max_date)]\n",
    "jhu_df[\"date_str\"] = jhu_df[\"date\"].astype(str)\n",
    "\n",
    "jhu_df_freeze = jhu_df.copy()\n",
    "\n",
    "jhu_roc_df = pd.DataFrame(index=[], data=[], columns=[\"country\", \"date\", \"cumulative_count\"])\n",
    "for country, country_df in jhu_df.groupby(\"country\"):\n",
    "    country_df = country_df.copy()\n",
    "    country_df[\"count\"] = np.concatenate((np.array([np.nan]), np.diff(country_df[\"cumulative_count\"].values)))\n",
    "    country_df[\"cumulative_count\"] = country_df[\"cumulative_count\"].replace(0, np.nan)\n",
    "    \n",
    "    country_df[\"N0\"] = country_df[\"cumulative_count\"].shift(1) # N0 is the total case up to the day before\n",
    "    country_df[\"n1\"] = country_df[\"count\"] # n1 is the case number this day\n",
    "    country_df[\"n2\"] = country_df[\"n1\"].shift(1) # n2 is the case number yesterday\n",
    "    \n",
    "    country_df[\"percent_increase\"] = (country_df[\"n1\"] / country_df[\"N0\"]) * 100\n",
    "    \n",
    "    country_df['R'] = country_df[\"percent_increase\"] # TODO: is this correct?\n",
    "    # TODO: update CI formula\n",
    "    country_df['C'] = country_df['R'] - 1\n",
    "    country_df['standard_error'] = country_df.apply(lambda obs: (obs['R']+np.power(obs['R'], 2))/obs['n2'], axis='columns')\n",
    "    country_df['95_CI_below'] = country_df.apply(lambda obs: obs['C'] - 1.96*np.sqrt(obs['standard_error']), axis='columns')\n",
    "    country_df['95_CI_above'] = country_df.apply(lambda obs: obs['C'] + 1.96*np.sqrt(obs['standard_error']), axis='columns')\n",
    "    country_df = country_df.replace([np.inf, -np.inf], np.nan)\n",
    "\n",
    "\n",
    "    jhu_roc_df = jhu_roc_df.append(country_df, ignore_index=True)\n",
    "jhu_roc_df.head()"
   ]
  },
  {
   "cell_type": "code",
   "execution_count": null,
   "metadata": {},
   "outputs": [],
   "source": []
  },
  {
   "cell_type": "code",
   "execution_count": null,
   "metadata": {},
   "outputs": [],
   "source": [
    "def get_jhu_cumulative_count(date_str, country):\n",
    "    try:\n",
    "        return jhu_roc_df.loc[(jhu_roc_df[\"date_str\"] == date_str) & (jhu_roc_df[\"country\"] == country)].reset_index().iloc[0][\"cumulative_count\"]\n",
    "    except:\n",
    "        return 0\n",
    "# Start plotting after country has 100 cases\n",
    "count_threshold = 100\n",
    "jhu_roc_df[\"jhu_past_100\"] = jhu_roc_df[\"cumulative_count\"] >= count_threshold"
   ]
  },
  {
   "cell_type": "code",
   "execution_count": null,
   "metadata": {},
   "outputs": [],
   "source": [
    "# Transform the 4CE data to obtain normalized change values.\n",
    "def compute_change_4ce(df_dc, cumulative_count_colname, daily_count_colname, category):\n",
    "    df_dc[\"cumulative_count\"] = df_dc[cumulative_count_colname]\n",
    "    df_dc[\"count\"] = df_dc[daily_count_colname]\n",
    "    \n",
    "    # Sort dates\n",
    "    df_dc[\"date\"] = df_dc[\"date\"].astype(str)\n",
    "    df_dc[\"date\"] = df_dc[\"date\"].apply(convert_date)\n",
    "    df_dc = df_dc.sort_values(by=\"date\", ascending=True)\n",
    "    df_dc = df_dc.loc[(df_dc[\"date\"] >= min_date) & (df_dc[\"date\"] <= max_date)]\n",
    "    df_dc[\"date_str\"] = df_dc[\"date\"].astype(str)\n",
    "\n",
    "    df_dc_freeze = df_dc.copy()\n",
    "\n",
    "    dc_roc_df = pd.DataFrame(index=[], data=[], columns=[\"country\", \"date\"])\n",
    "    for country, country_df in df_dc.groupby(\"country\"):\n",
    "        country_df = country_df.copy()\n",
    "\n",
    "        country_df[\"N0\"] = country_df[\"cumulative_count\"].shift(1) # N0 is the total case up to the day before\n",
    "        country_df[\"n1\"] = country_df[\"count\"] # n1 is the case number this day\n",
    "        country_df[\"n2\"] = country_df[\"n1\"].shift(1) # n2 is the case number yesterday\n",
    "\n",
    "        country_df[\"percent_increase\"] = (country_df[\"n1\"] / country_df[\"N0\"]) * 100\n",
    "\n",
    "        country_df['R'] = country_df[\"percent_increase\"] # TODO: is this correct?\n",
    "        # TODO: update CI formula\n",
    "        country_df['C'] = country_df['R'] - 1\n",
    "        country_df['standard_error'] = country_df.apply(lambda obs: (obs['R']+np.power(obs['R'], 2))/obs['n2'], axis='columns')\n",
    "        country_df['95_CI_below'] = country_df.apply(lambda obs: obs['C'] - 1.96*np.sqrt(obs['standard_error']), axis='columns')\n",
    "        country_df['95_CI_above'] = country_df.apply(lambda obs: obs['C'] + 1.96*np.sqrt(obs['standard_error']), axis='columns')\n",
    "        country_df = country_df.replace([np.inf, -np.inf], np.nan)\n",
    "\n",
    "        dc_roc_df = dc_roc_df.append(country_df, ignore_index=True)\n",
    "    dc_roc_df.head()\n",
    "    dc_roc_df = dc_roc_df[[\"country\", \"date\", \"num_sites\", \"cumulative_count\", \"count\", \"date_str\", \"N0\", \"n1\", \"n2\", \"percent_increase\", \"R\", \"C\", \"standard_error\", \"95_CI_below\", \"95_CI_above\"]]\n",
    "    dc_roc_df[\"category\"] = category\n",
    "    dc_roc_df[\"jhu_past_100\"] = dc_roc_df.apply(lambda row: get_jhu_cumulative_count(row[\"date_str\"], row[\"country\"]) >= count_threshold, axis='columns')\n",
    "    return dc_roc_df"
   ]
  },
  {
   "cell_type": "code",
   "execution_count": null,
   "metadata": {},
   "outputs": [],
   "source": [
    "dc_roc_df_all = compute_change_4ce(country_sum_df, \"cumulative_patients_all\", \"num_patients_in_hospital_on_this_date\", \"All\")\n",
    "dc_roc_df_severe = compute_change_4ce(country_sum_df, \"cumulative_patients_severe\", \"num_patients_in_hospital_and_severe_on_this_date\", \"Severe\")\n",
    "dc_roc_df_all_minus_severe = compute_change_4ce(country_sum_df, \"cumulative_patients_all_minus_severe\", \"num_patients_in_hospital_on_this_date_minus_severe\", \"All minus Severe\")\n",
    "\n",
    "dc_roc_df = dc_roc_df_all.append(dc_roc_df_severe, ignore_index=True).append(dc_roc_df_all_minus_severe, ignore_index=True)\n",
    "dc_roc_df.to_csv(\"dc_roc_df.csv\")"
   ]
  },
  {
   "cell_type": "markdown",
   "metadata": {},
   "source": [
    "### Transform data for plots faceted by country"
   ]
  },
  {
   "cell_type": "code",
   "execution_count": null,
   "metadata": {},
   "outputs": [],
   "source": [
    "jhu_roc_df = jhu_roc_df.copy()\n",
    "dc_roc_df = dc_roc_df.copy()\n",
    "jhu_roc_df[\"source\"] = \"JHU CSSE\"\n",
    "dc_roc_df[\"source\"] = \"4CE\""
   ]
  },
  {
   "cell_type": "code",
   "execution_count": null,
   "metadata": {},
   "outputs": [],
   "source": [
    "join_df = jhu_roc_df.append(dc_roc_df, ignore_index=True)\n",
    "join_df[\"country_source\"] = join_df.apply(lambda row: row[\"country\"] + \"_\" + row[\"source\"], axis='columns')\n",
    "join_df.head()"
   ]
  },
  {
   "cell_type": "markdown",
   "metadata": {},
   "source": [
    "## Normalized New Daily Cases\n",
    "\n",
    "First, obtain total hospital discharges for each country.\n",
    "\n",
    "$\\texttt{country_total} = \\text{country total in-patient-discharge}$\n",
    "\n",
    "$\\texttt{country_4CE_total} = \\text{total in-patient-discharge in our sites within that country}$\n",
    "\n",
    "$F0 = \\frac{\\texttt{country_total}}{\\texttt{country_4CE_total}}$\n",
    "\n",
    "$F0$ is used to normalize.\n",
    "\n",
    "- For new figure that shows daily case # per 100K, we will instead show \n",
    "    - $\\texttt{RATE} = \\texttt{N_case} * F1$\n",
    "    - where $F1 = F0 * \\frac{100K}{\\texttt{country population}}$\n",
    "    - then the standard error for $\\texttt{RATE}$ will be $\\sqrt(\\texttt{RATE}*F1)$ and the confidence interval will be $\\texttt{RATE} \\pm 1.96*\\sqrt(\\texttt{RATE}*F1)$"
   ]
  },
  {
   "cell_type": "code",
   "execution_count": null,
   "metadata": {},
   "outputs": [],
   "source": [
    "# Get daily new cases from cumulative_count\n",
    "norm_jhu = jhu_roc_df.copy()\n",
    "\n",
    "norm_jhu[\"count\"] = norm_jhu[\"cumulative_count\"].diff()\n",
    "\n",
    "norm_jhu.loc[norm_jhu[\"date\"] == \"2020-01-28\", \"count\"] = np.nan # Make sure the start count is NaN\n",
    "\n",
    "norm_jhu.head()"
   ]
  },
  {
   "cell_type": "code",
   "execution_count": null,
   "metadata": {},
   "outputs": [],
   "source": [
    "norm_4ce = dc_roc_df.copy()"
   ]
  },
  {
   "cell_type": "markdown",
   "metadata": {},
   "source": [
    "## Compute F0 value for each country using COUNTRY_POPULATION numbers"
   ]
  },
  {
   "cell_type": "code",
   "execution_count": null,
   "metadata": {},
   "outputs": [],
   "source": [
    "country_sites_df = sites_df.groupby(\"country\").sum().reset_index()\n",
    "country_sites_df = country_sites_df[[\"country\", \"adult_num_hosp\", \"adult_num_beds\", \"adult_num_yearly_discharge\"]]\n",
    "country_sites_df = country_sites_df.rename(columns={\n",
    "    \"adult_num_hosp\": \"4ce_num_hosp\",\n",
    "    \"adult_num_beds\": \"4ce_num_beds\",\n",
    "    \"adult_num_yearly_discharge\": \"4ce_num_yearly_discharge\",\n",
    "})\n",
    "country_sites_df[\"country_num_yearly_discharge_per_100000\"] = country_sites_df[\"country\"].apply(lambda c: COUNTRY_HOSP_DISCHARGE[c])\n",
    "country_sites_df[\"country_population\"] = country_sites_df[\"country\"].apply(lambda c: COUNTRY_POPULATION[c])\n",
    "\n",
    "if MERGE_SINGLE_SITE_COUNTRIES:\n",
    "    country_sites_df[\"country\"] = country_sites_df[\"country\"].apply(merge_single_site_country_name)\n",
    "\n",
    "country_sites_df = country_sites_df.groupby([\"country\"]).sum().reset_index()\n",
    "\n",
    "country_sites_df[\"F1\"] = country_sites_df[\"country_num_yearly_discharge_per_100000\"] / country_sites_df[\"4ce_num_yearly_discharge\"]\n",
    "country_sites_df[\"F0\"] = country_sites_df[\"F1\"] * (country_sites_df[\"country_population\"] / 100000)\n",
    "country_sites_df"
   ]
  },
  {
   "cell_type": "code",
   "execution_count": null,
   "metadata": {},
   "outputs": [],
   "source": [
    "F0 = dict(zip(country_sites_df[\"country\"].values.tolist(), country_sites_df[\"F0\"].values.tolist()))\n",
    "F0"
   ]
  },
  {
   "cell_type": "code",
   "execution_count": null,
   "metadata": {},
   "outputs": [],
   "source": [
    "# Append the F0 values to each df\n",
    "norm_jhu[\"population\"] = norm_jhu[\"country\"].apply(lambda x: COUNTRY_POPULATION[x])\n",
    "norm_jhu[\"F0\"] = norm_jhu[\"country\"].apply(lambda x: F0[x])\n",
    "\n",
    "norm_4ce[\"population\"] = norm_4ce[\"country\"].apply(lambda x: COUNTRY_POPULATION[x])\n",
    "norm_4ce[\"F0\"] = norm_4ce[\"country\"].apply(lambda x: F0[x])\n",
    "\n"
   ]
  },
  {
   "cell_type": "code",
   "execution_count": null,
   "metadata": {},
   "outputs": [],
   "source": [
    "# Compute adjusted counts\n",
    "norm_jhu[\"adjusted_count\"] = norm_jhu[\"count\"]\n",
    "norm_jhu[\"F1\"] = 100000 / norm_jhu[\"population\"]\n",
    "norm_jhu[\"RATE\"] = norm_jhu[\"count\"] * norm_jhu[\"F1\"]\n",
    "norm_jhu[\"RATE_7_day_avg\"] = norm_jhu[\"RATE\"].rolling(7).mean().shift(-3)\n",
    "norm_jhu[\"std_error\"] = norm_jhu[\"F1\"] * norm_jhu[\"RATE\"]\n",
    "norm_jhu[\"std_error\"] = norm_jhu[\"std_error\"].apply(lambda x: np.sqrt(x))\n",
    "norm_jhu[\"ci_above\"] = norm_jhu[\"RATE_7_day_avg\"] + 1.96 * norm_jhu[\"std_error\"]\n",
    "norm_jhu[\"ci_below\"] = norm_jhu[\"RATE_7_day_avg\"] - 1.96 * norm_jhu[\"std_error\"]\n",
    "\n",
    "norm_4ce[\"adjusted_count\"] = norm_4ce[\"F0\"] * norm_4ce[\"count\"]\n",
    "norm_4ce[\"F1\"] = norm_4ce[\"F0\"] * 100000 / norm_4ce[\"population\"]\n",
    "norm_4ce[\"RATE\"] = norm_4ce[\"count\"] * norm_4ce[\"F1\"]\n",
    "for c in COUNTRIES:\n",
    "    c_filter = norm_4ce[\"country\"] == c\n",
    "    norm_4ce.loc[c_filter, \"RATE_7_day_avg\"] = norm_4ce.loc[c_filter, \"RATE\"].rolling(7).mean().shift(-3)\n",
    "# norm_4ce[\"RATE_7_day_avg\"] = norm_4ce[\"RATE\"].rolling(7).mean().shift(-3)\n",
    "norm_4ce[\"std_error\"] = norm_4ce[\"F1\"] * norm_4ce[\"RATE\"]\n",
    "norm_4ce[\"std_error\"] = norm_4ce[\"std_error\"].apply(lambda x: np.sqrt(x))\n",
    "norm_4ce[\"ci_above\"] = norm_4ce[\"RATE_7_day_avg\"] + 1.96 * norm_4ce[\"std_error\"]\n",
    "norm_4ce[\"ci_below\"] = norm_4ce[\"RATE_7_day_avg\"] - 1.96 * norm_4ce[\"std_error\"]"
   ]
  },
  {
   "cell_type": "code",
   "execution_count": null,
   "metadata": {},
   "outputs": [],
   "source": [
    "norm_jhu_min_col = norm_jhu[['country', 'date', 'count', 'adjusted_count', 'RATE_7_day_avg', 'source', 'population', 'F0', 'F1', 'RATE', 'std_error', 'ci_above', 'ci_below', 'jhu_past_100']]\n",
    "norm_4ce_min_col = norm_4ce[['country', 'date', 'count', 'adjusted_count', 'RATE_7_day_avg', 'source', 'population', 'F0', 'F1', 'RATE', 'std_error', 'ci_above', 'ci_below', 'jhu_past_100', 'num_sites', 'category']]\n",
    "\n",
    "norm_jhu_min_col.head(10)\n",
    "norm_4ce_min_col.head(10)"
   ]
  },
  {
   "cell_type": "markdown",
   "metadata": {},
   "source": [
    "## Temporary: select the All category of 4CE only (ignoring severity)"
   ]
  },
  {
   "cell_type": "code",
   "execution_count": null,
   "metadata": {},
   "outputs": [],
   "source": [
    "norm_4ce_min_col = norm_4ce_min_col.loc[norm_4ce_min_col[\"category\"] == \"Severe\"]"
   ]
  },
  {
   "cell_type": "code",
   "execution_count": null,
   "metadata": {},
   "outputs": [],
   "source": [
    "norm_df = norm_jhu_min_col.append(norm_4ce_min_col, ignore_index=True)\n",
    "\n",
    "norm_df[\"country_source\"] = norm_df.apply(lambda row: row[\"country\"] + \"_\" + row[\"source\"], axis='columns')\n",
    "\n",
    "norm_df.to_csv(\"norm_df.csv\")\n",
    "\n",
    "norm_fce_df = norm_df.loc[norm_df['source'] == '4CE'].copy()\n",
    "\n",
    "norm_df"
   ]
  },
  {
   "cell_type": "markdown",
   "metadata": {},
   "source": [
    "## Temporary: drop Spain since so few discharges per year, it causes the rates to be way off"
   ]
  },
  {
   "cell_type": "code",
   "execution_count": null,
   "metadata": {},
   "outputs": [],
   "source": [
    "norm_df = norm_df.loc[norm_df[\"country\"] != \"Spain\"]\n",
    "norm_fce_df = norm_fce_df.loc[norm_fce_df[\"country\"] != \"Spain\"]"
   ]
  },
  {
   "cell_type": "code",
   "execution_count": null,
   "metadata": {},
   "outputs": [],
   "source": [
    "min_date_3 = min_date + datetime.timedelta(days=3)\n",
    "max_date_3 = max_date - datetime.timedelta(days=3)\n",
    "norm_df = norm_df.loc[(norm_df[\"jhu_past_100\"]) & (norm_df[\"date\"] >= min_date_3) & (norm_df[\"date\"] <= max_date_3)]"
   ]
  },
  {
   "cell_type": "code",
   "execution_count": null,
   "metadata": {},
   "outputs": [],
   "source": [
    "title = \"Country-Level Positive Case Rate, Comparison to JHU CSSE Data\"\n",
    "\n",
    "# Selection\n",
    "source_selection = alt.selection_multi(fields=[\"source\"], bind=\"legend\")\n",
    "\n",
    "min_date = norm_df[\"date\"].min()\n",
    "max_date = norm_df[\"date\"].max()\n",
    "norm_fce_df = norm_fce_df.loc[(norm_fce_df[\"date\"] >= min_date) & (norm_fce_df[\"date\"] <= max_date)]\n",
    "\n",
    "# Domains\n",
    "date_domain = [alt.DateTime(year=min_date.year, month=min_date.month, date=min_date.day), alt.DateTime(year=max_date.year, month=max_date.month, date=max_date.day)]\n",
    "sites_domain = [0, norm_fce_df[\"num_sites\"].max() + 1]\n",
    "patients_domain = [0, norm_fce_df[\"count\"].max() + 1]\n",
    "rate_domain = [0, norm_fce_df[\"RATE_7_day_avg\"].max() + 1]\n",
    "\n",
    "country_names = COUNTRIES\n",
    "COUNTRY_COLORS = [country_color_map[c] for c in country_names]\n",
    "country_source_names = [c + \"_\" + \"4CE\" for c in country_names] + [c + \"_\" + \"JHU CSSE\" for c in country_names]\n",
    "color_scale = alt.Scale(domain=country_names, range=COUNTRY_COLORS)\n",
    "join_color_scale = alt.Scale(domain=country_source_names, range=COUNTRY_COLORS + [\"#707070\"] * len(country_names))\n",
    "\n",
    "country_width = 170\n",
    "\n",
    "nearest = alt.selection_single(encodings=['x', 'y'], on=\"mouseover\", nearest=True, empty=\"none\", clear=\"mouseout\")\n",
    "y_selection = alt.selection_interval(encodings=[\"y\"], bind=\"scales\", init={\"y\": rate_domain})\n",
    "date_brush = alt.selection(type='interval', encodings=['x'])\n",
    "\n",
    "# Additional Visual Elements\n",
    "tooltip = [\n",
    "    alt.Tooltip(\"source\", title=\"Data source\"),\n",
    "    alt.Tooltip(\"country\", title=\"Country\"),\n",
    "    alt.Tooltip(\"count\", title=\"Daily Cases\"),\n",
    "    alt.Tooltip(\"adjusted_count\", title=\"Adjusted Daily Cases\"),\n",
    "    alt.Tooltip(\"RATE_7_day_avg\", title=\"Daily Case Rate, 7-day Average\", format=\".2f\"),\n",
    "    alt.Tooltip(\"date\", title=\"Date\"),\n",
    "    alt.Tooltip(\"ci_below\", title=\"95% CI upper bound\", format=\".2f\"),\n",
    "    alt.Tooltip(\"ci_above\", title=\"95% CI lower bound\", format=\".2f\")\n",
    "]\n",
    "\n",
    "rule = alt.Chart().mark_rule(color=\"red\", size=0.5).encode(\n",
    "    x=\"date:T\"\n",
    ").transform_filter(\n",
    "    nearest\n",
    ")\n",
    "\n",
    "line = alt.Chart(norm_df).transform_filter(source_selection).mark_line(opacity=0.7).encode(\n",
    "    x=alt.X(\"date:T\", title=None, axis=alt.Axis(labelBound=True), scale=alt.Scale(padding=5)),\n",
    "    y=alt.Y(\"RATE_7_day_avg:Q\", axis=alt.Axis(title=\"Adjusted daily case rate, 7 day average\"), scale=alt.Scale(zero=False, nice=False, domain=rate_domain, padding=5)),\n",
    "    strokeDash=alt.StrokeDash(\"source:N\", scale=alt.Scale(domain=[\"4CE\", \"JHU CSSE\"], range=[[0,0], [3,3]]), \n",
    "    legend=alt.Legend(title=\"Data Source\")),\n",
    "    color=alt.Color(\"country_source:N\", scale=join_color_scale, legend=None),\n",
    "    tooltip=tooltip\n",
    ").properties(width=country_width, height=200)\n",
    "\n",
    "errorband = line.transform_filter(alt.datum[\"source\"] == \"4CE\").mark_errorband().encode(\n",
    "    x=alt.X(f\"date:T\", title=None, axis=alt.Axis(labelBound=True)),\n",
    "    y=alt.Y(f\"sum(ci_below):Q\", title=\"\"),\n",
    "    y2=alt.Y2(f\"sum(ci_above):Q\", title=\"\"),\n",
    "    color=alt.Color(f\"country:N\", scale=color_scale, legend=alt.Legend(title=None)),\n",
    "    tooltip=tooltip\n",
    ")\n",
    "\n",
    "circle = (\n",
    "    line.mark_circle()\n",
    "        .encode(\n",
    "            size=alt.condition(~nearest, alt.value(5), alt.value(30))\n",
    "        )\n",
    "        .add_selection(nearest)\n",
    ")\n",
    "\n",
    "num_sites_bar_bg = (\n",
    "    alt.Chart(norm_fce_df)\n",
    "        .mark_bar(size=2)\n",
    "        .encode(\n",
    "            x=alt.X(\"date:T\", scale=alt.Scale(domain=date_domain, padding=5), title=None, axis=alt.Axis(labelBound=True)),\n",
    "            y=alt.Y(\"num_sites:Q\", axis=alt.Axis(title=\"# of sites\"), scale=alt.Scale(domain=sites_domain)),\n",
    "            color=alt.value(\"gray\"),\n",
    "            tooltip=tooltip\n",
    "        )\n",
    "        .properties(width=country_width, height=60) \n",
    ")\n",
    "\n",
    "num_sites_bar = (\n",
    "    num_sites_bar_bg\n",
    "        .encode(\n",
    "            color=alt.Color(\"country:N\", scale=color_scale, legend=None),\n",
    "        )\n",
    "        .transform_filter(date_brush)\n",
    ")\n",
    "\n",
    "num_patients_bar_bg = (\n",
    "    alt.Chart(norm_fce_df)\n",
    "        .mark_bar(size=2)\n",
    "        .encode(\n",
    "            x=alt.X(\"date:T\", scale=alt.Scale(domain=date_domain, padding=5), title=None, axis=alt.Axis(labelBound=True)),\n",
    "            y=alt.Y(\"count:Q\", axis=alt.Axis(title=\"# of new cases\"), scale=alt.Scale(domain=patients_domain)),\n",
    "            color=alt.value(\"gray\"),\n",
    "            tooltip=tooltip\n",
    "        )\n",
    "        .properties(width=country_width, height=60) \n",
    ")\n",
    "\n",
    "num_patients_bar = (\n",
    "    num_patients_bar_bg\n",
    "        .encode(\n",
    "            color=alt.Color(\"country:N\", scale=color_scale, legend=None),\n",
    "        )\n",
    "        .transform_filter(date_brush)\n",
    ")\n",
    "\n",
    "top = (\n",
    "    alt.layer(line, errorband, circle, rule, data=norm_df)\n",
    "        .facet(\n",
    "            column=alt.Column(\"country:N\"), bounds=\"flush\" #header=alt.Header(labels=False)\n",
    "        )\n",
    "        .add_selection(y_selection)\n",
    "        .transform_filter(date_brush)\n",
    ")\n",
    "\n",
    "num_sites_bottom = (\n",
    "    alt.layer(num_sites_bar_bg, num_sites_bar, rule, data=norm_fce_df)\n",
    "        .facet(\n",
    "            column=alt.Column(\"country:N\", header=alt.Header(labels=False)), bounds=\"flush\"\n",
    "        )\n",
    "        .add_selection(nearest)\n",
    "        .add_selection(date_brush)\n",
    ")\n",
    "\n",
    "num_patients_bottom = (\n",
    "    alt.layer(num_patients_bar_bg, num_patients_bar, rule, data=norm_fce_df)\n",
    "        .facet(\n",
    "            column=alt.Column(\"country:N\", header=alt.Header(labels=False)), bounds=\"flush\"\n",
    "        )\n",
    "        .add_selection(nearest)\n",
    "        .add_selection(date_brush)\n",
    ")\n",
    "\n",
    "plot = (\n",
    "    alt.vconcat(top, num_patients_bottom, num_sites_bottom, spacing=5)\n",
    "        .resolve_scale(color=\"shared\", x=\"independent\")\n",
    "        .properties(title={\n",
    "                \"text\": title, \n",
    "                \"subtitle\": get_visualization_subtitle(data_release=DATA_RELEASE, cohort=COHORT, num_sites=NUM_SITES),\n",
    "                \"subtitleColor\": \"gray\",\n",
    "                \"dx\": 60\n",
    "        })\n",
    "        .add_selection(source_selection)\n",
    ")\n",
    "\n",
    "\n",
    "plot = apply_theme(\n",
    "    plot, \n",
    "    axis_label_font_size=10, \n",
    "    axis_title_font_size=12, \n",
    "    axis_title_padding=8, \n",
    "    legend_orient=\"bottom\", \n",
    "    legend_symbol_type=\"stroke\",\n",
    "    legend_title_orient=\"left\",\n",
    "    legend_title_font_size=14,\n",
    "    label_font_size=12\n",
    ").configure_header(title=None, labelPadding=3, labelFontSize=13)\n",
    "\n",
    "for_website(plot, \"Daily Count\", \"country-level rate of positive cases\")\n",
    "\n",
    "plot"
   ]
  },
  {
   "cell_type": "code",
   "execution_count": null,
   "metadata": {},
   "outputs": [],
   "source": [
    "norm_fce_df.to_csv(\"norm_fce_df.csv\")"
   ]
  },
  {
   "cell_type": "code",
   "execution_count": null,
   "metadata": {},
   "outputs": [],
   "source": []
  },
  {
   "cell_type": "code",
   "execution_count": null,
   "metadata": {},
   "outputs": [],
   "source": []
  },
  {
   "cell_type": "code",
   "execution_count": null,
   "metadata": {},
   "outputs": [],
   "source": []
  },
  {
   "cell_type": "code",
   "execution_count": null,
   "metadata": {},
   "outputs": [],
   "source": []
  },
  {
   "cell_type": "code",
   "execution_count": null,
   "metadata": {},
   "outputs": [],
   "source": []
  },
  {
   "cell_type": "code",
   "execution_count": null,
   "metadata": {},
   "outputs": [],
   "source": []
  }
 ],
 "metadata": {
  "kernelspec": {
   "display_name": "Python [conda env:4ce] *",
   "language": "python",
   "name": "conda-env-4ce-py"
  },
  "language_info": {
   "codemirror_mode": {
    "name": "ipython",
    "version": 3
   },
   "file_extension": ".py",
   "mimetype": "text/x-python",
   "name": "python",
   "nbconvert_exporter": "python",
   "pygments_lexer": "ipython3",
   "version": "3.8.3"
  }
 },
 "nbformat": 4,
 "nbformat_minor": 4
}
