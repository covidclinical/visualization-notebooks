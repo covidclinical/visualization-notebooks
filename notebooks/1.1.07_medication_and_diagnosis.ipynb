{
 "cells": [
  {
   "cell_type": "markdown",
   "metadata": {},
   "source": [
    "# Medication and diagnosis visualization \n",
    "\n",
    "As part of the phase 1.1 we have explored the relation between medication and diagnosis representing in a scatter plot: % patients with a diagnostic vs % patients on a mediacation. The plots are focused only on values before admission, and each scatter plot includes two data series: one for never severe and another one for ever severe. Each dot represent a site and the value for never severe, while each triangle represent a site and the value for ever severe. The colors are used based on the country of each site. "
   ]
  },
  {
   "cell_type": "code",
   "execution_count": null,
   "metadata": {
    "collapsed": true
   },
   "outputs": [],
   "source": [
    "#############\n",
    "# LIBRARIES #\n",
    "#############\n",
    "library(dplyr)\n",
    "library(tidyr)\n",
    "library(ggplot2)"
   ]
  },
  {
   "cell_type": "markdown",
   "metadata": {},
   "source": [
    "Set the working directory where the files are (using as input the files in \"latest\")"
   ]
  },
  {
   "cell_type": "code",
   "execution_count": null,
   "metadata": {
    "collapsed": true
   },
   "outputs": [],
   "source": [
    "setwd(\"./4CE/phase1.1/latest/\")"
   ]
  },
  {
   "cell_type": "code",
   "execution_count": null,
   "metadata": {
    "collapsed": true
   },
   "outputs": [],
   "source": [
    "#function to create a list with the files to analyze\n",
    "fileList <- function( path, pattern, pediatricSites, pediatric ){\n",
    " \n",
    "  fileListInput <- list.files( path = path,pattern = pattern)\n",
    "  if( pediatric == TRUE){\n",
    "    fileListInput  <- fileListInput[ grepl( paste( pediatricSites, collapse = \"|\"), x = fileListInput)]\n",
    "  }else{\n",
    "    fileListInput  <- fileListInput[ !grepl( paste( pediatricSites, collapse = \"|\"), x = fileListInput)]\n",
    "  }\n",
    "  return( fileListInput)\n",
    "}"
   ]
  },
  {
   "cell_type": "markdown",
   "metadata": {},
   "source": [
    "Create a list with all the files distinguishing between:\n",
    "- Demographics data\n",
    "- Medication data\n",
    "- Diagnosis data\n",
    "\n",
    "We will distinguish between pediatric and non pediatric (select_pediatric TRUE or FALSE)\n",
    "The list of the current sites with pediatric data are detailed in the vector 'pediatricSites'"
   ]
  },
  {
   "cell_type": "code",
   "execution_count": null,
   "metadata": {
    "collapsed": true
   },
   "outputs": [],
   "source": [
    "pediatricSites <- c(\"BCH\", \"CHOP\", \"RP401PED\", \"APHPPED\")\n",
    "select_pediatric = FALSE\n",
    "fileListDiag <- fileList( path = \"./\",pattern = \"Diag\", pediatricSites = pediatricSites, pediatric = select_pediatric)\n",
    "fileListMed <- fileList( path = \"./\",pattern = \"Med\", pediatricSites = pediatricSites, pediatric = select_pediatric)\n",
    "fileListDemog <- fileList( path = \"./\",pattern = \"Demog\", pediatricSites = pediatricSites, pediatric = select_pediatric)"
   ]
  },
  {
   "cell_type": "markdown",
   "metadata": {},
   "source": [
    "Put together all the diagnosis data from the distinct sites"
   ]
  },
  {
   "cell_type": "code",
   "execution_count": null,
   "metadata": {
    "collapsed": true
   },
   "outputs": [],
   "source": [
    "for( i in 1:length( fileListDiag ) ){\n",
    "  print(i)\n",
    "  selection <- read.delim( fileListDiag[i], sep = \",\", colClasses = \"character\")\n",
    "  colnames(selection) <- tolower( colnames( selection ) )\n",
    "  \n",
    "  if( i== 1){\n",
    "    allDiagnosis <- selection\n",
    "  }else{ \n",
    "    allDiagnosis <- rbind( allDiagnosis, selection )\n",
    "  }\n",
    "}\n",
    "#transform column names to know they are referring to diagnosis\n",
    "colnames( allDiagnosis)[4:7] <- paste0( colnames( allDiagnosis)[4:7], \"_diagnosis\")"
   ]
  },
  {
   "cell_type": "markdown",
   "metadata": {},
   "source": [
    "Put together all the medication data from the distinct sites"
   ]
  },
  {
   "cell_type": "code",
   "execution_count": null,
   "metadata": {
    "collapsed": true
   },
   "outputs": [],
   "source": [
    "for( i in 1:length( fileListMed ) ){\n",
    "  print(i)\n",
    "  selection <- read.delim( fileListMed[i], sep = \",\", colClasses = \"character\")\n",
    "  colnames(selection) <- tolower( colnames( selection ) )\n",
    "  \n",
    "  if( i== 1){\n",
    "    allMedication <- selection\n",
    "  }else{ \n",
    "    allMedication <- rbind( allMedication, selection )\n",
    "  }\n",
    "}\n",
    "#transform column names to know they are referring to medication\n",
    "colnames( allMedication)[3:6] <- paste0( colnames( allMedication)[3:6], \"_medication\")"
   ]
  },
  {
   "cell_type": "markdown",
   "metadata": {},
   "source": [
    "Put together all the demographic data from the distinct sites"
   ]
  },
  {
   "cell_type": "code",
   "execution_count": null,
   "metadata": {
    "collapsed": true
   },
   "outputs": [],
   "source": [
    "for( i in 1:length( fileListDemog ) ){\n",
    "  print(i)\n",
    "  selection <- read.delim( fileListDemog[i], sep = \",\", colClasses = \"character\")\n",
    "  colnames( selection ) <- tolower( colnames( selection ))\n",
    "  selection <- selection[ selection$sex == \"all\" &\n",
    "                            selection$age_group == \"all\" & \n",
    "                            selection$race == \"all\", ]\n",
    "  \n",
    "  if( i== 1){\n",
    "    allDemographics <- selection\n",
    "  }else{ \n",
    "    allDemographics <- rbind( allDemographics, selection )\n",
    "  }\n",
    "}\n",
    "\n",
    "#estimate the total never severe per site and change the column names to know they are refered to total counts per site\n",
    "allDemographics[ allDemographics < 0 ] <- NA\n",
    "allDemographics$num_patients_never_severe <- as.numeric(allDemographics$num_patients_all) - as.numeric(allDemographics$num_patients_ever_severe)\n",
    "allDemographics<- allDemographics[, c(\"siteid\", \"num_patients_all\", \"num_patients_ever_severe\", \"num_patients_never_severe\")]\n",
    "colnames(allDemographics) <- c(\"siteid\", \"totalPatients\", \"totalEverSever\", \"totalNeverSevere\")"
   ]
  },
  {
   "cell_type": "markdown",
   "metadata": {},
   "source": [
    "Put all the information together mergin all dataframes by siteid"
   ]
  },
  {
   "cell_type": "code",
   "execution_count": null,
   "metadata": {
    "collapsed": true
   },
   "outputs": [],
   "source": [
    "finalDataSet <- merge( allDiagnosis, allMedication, by = \"siteid\")\n",
    "finalDataSet <- merge( finalDataSet, allDemographics, by = \"siteid\")"
   ]
  },
  {
   "cell_type": "markdown",
   "metadata": {},
   "source": [
    "Transform obfuscated and unknown values (-99, -999) into NA"
   ]
  },
  {
   "cell_type": "code",
   "execution_count": null,
   "metadata": {
    "collapsed": true
   },
   "outputs": [],
   "source": [
    "finalDataSet[,c(4:7,9:15)] <- sapply(finalDataSet[,c(4:7,9:15)],as.numeric)\n",
    "finalDataSet[ finalDataSet < 0 ] <- NA"
   ]
  },
  {
   "cell_type": "markdown",
   "metadata": {},
   "source": [
    "Put together all the ICSM datasets as \"ICSM\""
   ]
  },
  {
   "cell_type": "code",
   "execution_count": null,
   "metadata": {
    "collapsed": true
   },
   "outputs": [],
   "source": [
    "ICSMdata <- finalDataSet[finalDataSet$siteid %in% c( \"ICSM1\", \"ICSM20\", \"ICSM5\" ), -1]\n",
    "ICSM <- ICSMdata %>% \n",
    "  group_by(icd_code_3chars, icd_version, med_class) %>% \n",
    "  summarise_all( sum ) %>%\n",
    "  mutate( siteid = \"ICSM\")\n",
    "\n",
    "#remove the individual ICSM sets and add the aggregated one\n",
    "ICSM <- as.data.frame( ICSM )\n",
    "finalDataSet <- finalDataSet[ ! finalDataSet$siteid %in% c( \"ICSM1\", \"ICSM20\", \"ICSM5\" ), ]\n",
    "finalDataSet <- rbind( finalDataSet, ICSM )"
   ]
  },
  {
   "cell_type": "markdown",
   "metadata": {},
   "source": [
    "Add the ICD description for each diagnosis, using the mapping file \"2020AA_Icd9_Icd10_Dictionary.txt\", extracted from UMLS2020AA"
   ]
  },
  {
   "cell_type": "code",
   "execution_count": null,
   "metadata": {
    "collapsed": true
   },
   "outputs": [],
   "source": [
    "mapping <- read.delim(\"./mappingFiles/2020AA_Icd9_Icd10_Dictionary.txt\", colClasses = \"character\")\n",
    "colnames(mapping) <- c(\"icd\", \"icd_version\", \"description\" )\n",
    "#we map according to the pair ICD + version to avoid issues when same code is present in ICD9 and ICD10 but refer to different diagnosis\n",
    "mapping$icdPair <- paste0( mapping$icd, \"-\", mapping$icd_version)\n",
    "\n",
    "finalDataSet$icdPair <- paste0( finalDataSet$icd_code_3chars, \"-\", finalDataSet$icd_version)\n",
    "toanalyze <- merge( finalDataSet, mapping, by = \"icdPair\")"
   ]
  },
  {
   "cell_type": "markdown",
   "metadata": {},
   "source": [
    "Add percentage estimations:\n",
    "- ever severe and on X medication / total ever severe\n",
    "- ever severe and with X disease / total ever severe\n",
    "- never severe qnd on X medication / total never severe\n",
    "- never severe and with X disease / total never severe"
   ]
  },
  {
   "cell_type": "code",
   "execution_count": null,
   "metadata": {
    "collapsed": true
   },
   "outputs": [],
   "source": [
    "# ever severe and on X medication / total ever severe\n",
    "# ever severe and with X disease / total ever severe\n",
    "toanalyze$ratio_everSevereOnMedication_beforeAdmission <-  round( 100*(toanalyze$num_patients_ever_severe_before_admission_medication / toanalyze$totalEverSever), 3)\n",
    "toanalyze$ratio_everSevereWithDiagnosis_beforeAdmission <- round( 100*(toanalyze$num_patients_ever_severe_before_admission_diagnosis / toanalyze$totalEverSever), 3)\n",
    "\n",
    "# never severe qnd on X medication / total never severe\n",
    "# never severe and with X disease / total never severe\n",
    "toanalyze$num_patients_never_severe_before_admission_diagnosis <- toanalyze$num_patients_all_before_admission_diagnosis - toanalyze$num_patients_ever_severe_before_admission_diagnosis\n",
    "toanalyze$num_patients_never_severe_before_admission_medication <- toanalyze$num_patients_all_before_admission_medication - toanalyze$num_patients_ever_severe_before_admission_medication\n",
    "toanalyze$ratio_nonSevereOnMedication_beforeAdmission <-  round( 100*( toanalyze$num_patients_never_severe_before_admission_medication / toanalyze$totalNeverSevere), 3)\n",
    "toanalyze$ratio_nonSevereWithDiagnosis_beforeAdmission <- round( 100*( toanalyze$num_patients_never_severe_before_admission_diagnosis/ toanalyze$totalNeverSevere), 3)"
   ]
  },
  {
   "cell_type": "markdown",
   "metadata": {},
   "source": [
    "Remove negative values and values > 100 that can appear due to obfucation blurring"
   ]
  },
  {
   "cell_type": "code",
   "execution_count": null,
   "metadata": {
    "collapsed": true
   },
   "outputs": [],
   "source": [
    "toanalyze[ toanalyze < 0 ] <- NA\n",
    "toanalyze[ , c(20,21,24,25) ][ toanalyze[ , c(20,21,24,25) ] > 100 ] <- NA"
   ]
  },
  {
   "cell_type": "markdown",
   "metadata": {},
   "source": [
    "Add site mapping"
   ]
  },
  {
   "cell_type": "code",
   "execution_count": null,
   "metadata": {
    "collapsed": true
   },
   "outputs": [],
   "source": [
    "if( select_pediatric == TRUE){\n",
    "  siteMaping <- read.delim(\"./mappingFiles/SiteID_Map_Pediatric.csv\", colClasses = \"character\", sep=\",\")\n",
    "}else{\n",
    "  siteMaping <- read.delim(\"./mappingFiles/SiteID_Map_None_Pediatric.csv\", colClasses = \"character\", sep=\",\")\n",
    "}\n",
    "\n",
    "toanalyze <- merge( toanalyze, siteMaping, by.x = \"siteid\", by.y = \"Acronym\")"
   ]
  },
  {
   "cell_type": "markdown",
   "metadata": {},
   "source": [
    "Transform the format of data.frame to plot ever and never severe in the same plot"
   ]
  },
  {
   "cell_type": "code",
   "execution_count": null,
   "metadata": {
    "collapsed": true
   },
   "outputs": [],
   "source": [
    "everSevere <- toanalyze[ , c(\"siteid\", \"med_class\", \"description\", \"ratio_everSevereOnMedication_beforeAdmission\", \"ratio_everSevereWithDiagnosis_beforeAdmission\", \"Country.Color\")]\n",
    "everSevere$status <- \"Severe\"\n",
    "colnames(everSevere) <- gsub(\"ratio_everSevere\", \"\",colnames( everSevere))\n",
    "\n",
    "neverSevere <- toanalyze[ , c(\"siteid\", \"med_class\", \"description\", \"ratio_nonSevereOnMedication_beforeAdmission\", \"ratio_nonSevereWithDiagnosis_beforeAdmission\", \"Country.Color\")]\n",
    "neverSevere$status <- \"Never Severe\"\n",
    "colnames(neverSevere) <- gsub(\"ratio_nonSevere\", \"\",colnames( neverSevere))\n",
    "\n",
    "toplot <- rbind( everSevere, neverSevere)\n",
    "toplot <- toplot[ complete.cases( toplot ), ]\n",
    "save( toplot, file=\"./toplot.RData\")"
   ]
  },
  {
   "cell_type": "markdown",
   "metadata": {},
   "source": [
    "Example of the scatter plot generated. "
   ]
  },
  {
   "cell_type": "code",
   "execution_count": null,
   "metadata": {
    "collapsed": true
   },
   "outputs": [],
   "source": [
    "medication_class <- \"COAGB\"\n",
    "diagnosis_group <- \"Acute kidney failure\"\n",
    "\n",
    "datatoplot <- toplot[ toplot$description == diagnosis_group &\n",
    "                        toplot$med_class == medication_class,]\n",
    "datatoplot <- datatoplot[ complete.cases( datatoplot ), ]\n",
    "\n",
    "xlim <- max( c( datatoplot$WithDiagnosis_beforeAdmission), na.rm = TRUE)\n",
    "ylim <- max( c( datatoplot$OnMedication_beforeAdmission), na.rm = TRUE)\n",
    "\n",
    "\n",
    "ggplot( data = datatoplot, mapping = aes( x = WithDiagnosis_beforeAdmission, \n",
    "                                          y = OnMedication_beforeAdmission), \n",
    "        shape = status) +\n",
    "  geom_point( aes(shape= factor( status)), size = 2, alpha = 0.5, \n",
    "              color = datatoplot$Country.Color)+\n",
    "  geom_text(aes(label=siteid),hjust=0, vjust=0, size = 2)+\n",
    "  theme(legend.position = \"bottom\", \n",
    "        plot.title = element_text(hjust = 0.5, size = 10), \n",
    "        axis.title.x = element_text(size = 8), \n",
    "        axis.title.y = element_text(size = 8)) +\n",
    "  scale_x_continuous(name= paste0( \"% patients with \", medication_class,\" medication class\"), limits=c(0, xlim+1)) +\n",
    "  scale_y_continuous(name= paste0( \"% patients with \", diagnosis_group), limits=c(0, ylim+1)) +\n",
    "  labs(title= paste0( medication_class, \" - \", diagnosis_group ), shape = \"Severity status\")"
   ]
  }
 ],
 "metadata": {
  "kernelspec": {
   "display_name": "R",
   "language": "R",
   "name": "ir"
  },
  "language_info": {
   "codemirror_mode": "r",
   "file_extension": ".r",
   "mimetype": "text/x-r-source",
   "name": "R",
   "pygments_lexer": "r",
   "version": "3.3.1"
  }
 },
 "nbformat": 4,
 "nbformat_minor": 1
}
