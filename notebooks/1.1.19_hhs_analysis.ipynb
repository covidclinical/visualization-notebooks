{
 "cells": [
  {
   "cell_type": "code",
   "execution_count": null,
   "metadata": {},
   "outputs": [],
   "source": [
    "%load_ext autoreload\n",
    "%autoreload 2\n",
    "%aimport utils_1_1\n",
    "\n",
    "import us\n",
    "import pandas as pd\n",
    "import numpy as np\n",
    "import altair as alt\n",
    "from altair_saver import save\n",
    "from vega_datasets import data\n",
    "import datetime\n",
    "import dateutil.parser\n",
    "from os.path import join\n",
    "\n",
    "from constants_1_1 import SITE_FILE_TYPES\n",
    "from utils_1_1 import (\n",
    "    get_site_file_paths,\n",
    "    get_site_file_info,\n",
    "    get_site_ids,\n",
    "    get_visualization_subtitle,\n",
    "    get_country_color_map,\n",
    "    apply_theme,\n",
    ")\n",
    "from web import for_website\n",
    "\n",
    "alt.data_transformers.disable_max_rows(); # Allow using rows more than 5000"
   ]
  },
  {
   "cell_type": "code",
   "execution_count": null,
   "metadata": {},
   "outputs": [],
   "source": [
    "df = pd.read_csv(data.population_engineers_hurricanes.url)\n",
    "state_to_id = dict(zip(df[\"state\"].values.tolist(), df[\"id\"].values.tolist()))\n",
    "states = alt.topo_feature(data.us_10m.url, 'states')\n",
    "del df"
   ]
  },
  {
   "cell_type": "code",
   "execution_count": null,
   "metadata": {},
   "outputs": [],
   "source": [
    "def convert_date_us(date_str):\n",
    "    try:\n",
    "        return dateutil.parser.parse(date_str)\n",
    "    except:\n",
    "        return np.nan"
   ]
  },
  {
   "cell_type": "code",
   "execution_count": null,
   "metadata": {},
   "outputs": [],
   "source": [
    "def convert_state(abbr):\n",
    "    return int(us.states.lookup(abbr).fips)"
   ]
  },
  {
   "cell_type": "code",
   "execution_count": null,
   "metadata": {},
   "outputs": [],
   "source": []
  },
  {
   "cell_type": "code",
   "execution_count": null,
   "metadata": {},
   "outputs": [],
   "source": [
    "hhs_df = pd.read_csv(join(\"..\", \"data\", \"reported_hospital_capacity_admissions_facility-level_weekly_average_timeseries_20201207.csv\"))\n",
    "hhs_df.head()"
   ]
  },
  {
   "cell_type": "code",
   "execution_count": null,
   "metadata": {},
   "outputs": [],
   "source": [
    "hhs_df[\"id\"] = hhs_df[\"state\"].apply(convert_state)"
   ]
  },
  {
   "cell_type": "code",
   "execution_count": null,
   "metadata": {},
   "outputs": [],
   "source": [
    "hhs_col = \"previous_day_admission_pediatric_covid_confirmed_7_day_sum\"\n",
    "hhs_df = hhs_df[[\"hospital_pk\", \"state\", \"id\", \"collection_week\", \"hospital_subtype\", \"is_metro_micro\", hhs_col]]\n",
    "hhs_df = hhs_df.rename(columns={\"collection_week\": \"date\", hhs_col: \"ped_count\"})\n",
    "hhs_df[\"ped_count\"] = hhs_df[\"ped_count\"].clip(lower=0)\n",
    "orig_hhs_df = hhs_df.copy()\n",
    "hhs_df = hhs_df.groupby(by=[\"date\", \"hospital_pk\"]).sum().reset_index()\n",
    "hhs_df[\"has_any\"] = hhs_df[\"ped_count\"].apply(lambda x: 1)\n",
    "hhs_df[\"has_ped\"] = hhs_df[\"ped_count\"].apply(lambda x: pd.notna(x) and x > 0.0)\n",
    "hhs_df.head()"
   ]
  },
  {
   "cell_type": "code",
   "execution_count": null,
   "metadata": {},
   "outputs": [],
   "source": [
    "hhs_df = hhs_df.groupby(\"date\").sum().reset_index()\n",
    "hhs_df[\"date\"] = hhs_df[\"date\"].apply(convert_date_us)\n",
    "hhs_df.head()"
   ]
  },
  {
   "cell_type": "code",
   "execution_count": null,
   "metadata": {},
   "outputs": [],
   "source": [
    "plot = alt.Chart(hhs_df).mark_line().encode(\n",
    "    y=alt.Y(\"has_ped:Q\"),\n",
    "    x=alt.X(\"date\"),\n",
    ").properties(\n",
    "    title=f\"Number of hospitals reporting > 0 value for {hhs_col} column\"\n",
    ")\n",
    "plot"
   ]
  },
  {
   "cell_type": "code",
   "execution_count": null,
   "metadata": {},
   "outputs": [],
   "source": [
    "hhs_df[\"pct_with_ped\"] = hhs_df[\"has_ped\"] / hhs_df[\"has_any\"] * 100\n",
    "plot = alt.Chart(hhs_df).mark_line().encode(\n",
    "    y=alt.Y(\"pct_with_ped:Q\"),\n",
    "    x=alt.X(\"date\"),\n",
    ").properties(\n",
    "    title=f\"Percentage of hospitals reporting > 0 value for {hhs_col} column\"\n",
    ")\n",
    "plot"
   ]
  },
  {
   "cell_type": "code",
   "execution_count": null,
   "metadata": {},
   "outputs": [],
   "source": [
    "hhs_df = orig_hhs_df.copy()\n",
    "hhs_df = hhs_df.groupby(by=[\"id\", \"hospital_pk\"]).sum().reset_index()\n",
    "hhs_df[\"has_any\"] = hhs_df[\"ped_count\"].apply(lambda x: 1)\n",
    "hhs_df[\"has_ped\"] = hhs_df[\"ped_count\"].apply(lambda x: pd.notna(x) and x > 0.0)\n",
    "hhs_df.head()"
   ]
  },
  {
   "cell_type": "code",
   "execution_count": null,
   "metadata": {},
   "outputs": [],
   "source": [
    "# group by state ID\n",
    "hhs_df = hhs_df.groupby(\"id\").sum().reset_index()\n",
    "hhs_df.head()"
   ]
  },
  {
   "cell_type": "code",
   "execution_count": null,
   "metadata": {},
   "outputs": [],
   "source": [
    "plot = alt.Chart(states).mark_geoshape().encode(\n",
    "    color=alt.Color(\"has_ped:Q\")\n",
    ").transform_lookup(\n",
    "    lookup='id',\n",
    "    from_=alt.LookupData(data=hhs_df, key='id', fields=['has_ped'])\n",
    ").properties(\n",
    "    width=500,\n",
    "    height=300,\n",
    "    title=f\"Number of hospitals reporting > 0 value for {hhs_col} column (on at least one date)\"\n",
    ").project(\n",
    "    type='albersUsa'\n",
    ")\n",
    "plot"
   ]
  },
  {
   "cell_type": "code",
   "execution_count": null,
   "metadata": {},
   "outputs": [],
   "source": [
    "hhs_df[\"has_zero_ped\"] = hhs_df[\"has_ped\"].apply(lambda x: \"Yes\" if x == 0 else \"No\")\n",
    "\n",
    "plot = alt.Chart(states).mark_geoshape().encode(\n",
    "    color=alt.Color(\"has_zero_ped:N\")\n",
    ").transform_lookup(\n",
    "    lookup='id',\n",
    "    from_=alt.LookupData(data=hhs_df, key='id', fields=['has_zero_ped'])\n",
    ").properties(\n",
    "    width=500,\n",
    "    height=300,\n",
    "    title=f\"States reporting zero or missing for {hhs_col} column (on every date)\"\n",
    ").project(\n",
    "    type='albersUsa'\n",
    ")\n",
    "plot"
   ]
  },
  {
   "cell_type": "code",
   "execution_count": null,
   "metadata": {},
   "outputs": [],
   "source": [
    "hhs_df = orig_hhs_df.copy()\n",
    "hhs_df.head()"
   ]
  },
  {
   "cell_type": "code",
   "execution_count": null,
   "metadata": {},
   "outputs": [],
   "source": [
    "hhs_df = hhs_df.groupby(by=[\"state\", \"hospital_pk\", \"hospital_subtype\"]).sum().reset_index()\n",
    "hhs_df[\"has_any\"] = hhs_df[\"ped_count\"].apply(lambda x: 1)\n",
    "hhs_df[\"has_ped\"] = hhs_df[\"ped_count\"].apply(lambda x: pd.notna(x) and x > 0.0)\n",
    "hhs_df.head()"
   ]
  },
  {
   "cell_type": "code",
   "execution_count": null,
   "metadata": {},
   "outputs": [],
   "source": [
    "hhs_df = hhs_df.groupby(by=[\"state\", \"hospital_subtype\"]).sum().reset_index()\n",
    "hhs_df.head()"
   ]
  },
  {
   "cell_type": "code",
   "execution_count": null,
   "metadata": {},
   "outputs": [],
   "source": [
    "plot = alt.Chart(hhs_df).mark_bar().encode(\n",
    "    y=alt.Y(\"has_any:Q\"),\n",
    "    x=alt.X(\"hospital_subtype:N\"),\n",
    "    color=alt.Color(\"hospital_subtype:N\"),\n",
    "    facet=alt.Facet('state:O', columns=14),\n",
    ").properties(\n",
    "    height=140,\n",
    "    title=f\"Hospital types by state (adult and pediatric)\"\n",
    ")\n",
    "plot"
   ]
  },
  {
   "cell_type": "code",
   "execution_count": null,
   "metadata": {},
   "outputs": [],
   "source": [
    "plot = alt.Chart(hhs_df).mark_bar().encode(\n",
    "    y=alt.Y(\"has_ped:Q\"),\n",
    "    x=alt.X(\"hospital_subtype:N\"),\n",
    "    color=alt.Color(\"hospital_subtype:N\"),\n",
    "    facet=alt.Facet('state:O', columns=14),\n",
    ").properties(\n",
    "    height=140,\n",
    "    title=f\"Hospital types by state reporting > 0 value for {hhs_col} column (on at least one date) \"\n",
    ")\n",
    "plot"
   ]
  },
  {
   "cell_type": "code",
   "execution_count": null,
   "metadata": {},
   "outputs": [],
   "source": [
    "hhs_df = orig_hhs_df.copy()\n",
    "hhs_df.head()"
   ]
  },
  {
   "cell_type": "code",
   "execution_count": null,
   "metadata": {},
   "outputs": [],
   "source": [
    "hhs_df = hhs_df.groupby(by=[\"state\", \"hospital_pk\", \"is_metro_micro\"]).sum().reset_index()\n",
    "hhs_df[\"has_any\"] = hhs_df[\"ped_count\"].apply(lambda x: 1)\n",
    "hhs_df[\"has_ped\"] = hhs_df[\"ped_count\"].apply(lambda x: pd.notna(x) and x > 0.0)\n",
    "hhs_df.head()"
   ]
  },
  {
   "cell_type": "code",
   "execution_count": null,
   "metadata": {},
   "outputs": [],
   "source": [
    "hhs_df = hhs_df.groupby(by=[\"state\", \"is_metro_micro\"]).sum().reset_index()\n",
    "hhs_df[\"is_metro_micro\"] = hhs_df[\"is_metro_micro\"].apply(lambda x: \"Yes\" if x else \"No\")\n",
    "hhs_df.head()"
   ]
  },
  {
   "cell_type": "code",
   "execution_count": null,
   "metadata": {},
   "outputs": [],
   "source": [
    "plot = alt.Chart(hhs_df).mark_bar().encode(\n",
    "    y=alt.Y(\"has_ped:Q\"),\n",
    "    x=alt.X(\"is_metro_micro:N\"),\n",
    "    color=alt.Color(\"is_metro_micro:N\"),\n",
    "    facet=alt.Facet('state:O', columns=14),\n",
    ").properties(\n",
    "    height=100,\n",
    "    width=60,\n",
    "    title=f\"Population served by state reporting > 0 value for {hhs_col} column (on at least one date) \"\n",
    ")\n",
    "plot"
   ]
  },
  {
   "cell_type": "code",
   "execution_count": null,
   "metadata": {},
   "outputs": [],
   "source": []
  }
 ],
 "metadata": {
  "kernelspec": {
   "display_name": "Python 3",
   "language": "python",
   "name": "python3"
  },
  "language_info": {
   "codemirror_mode": {
    "name": "ipython",
    "version": 3
   },
   "file_extension": ".py",
   "mimetype": "text/x-python",
   "name": "python",
   "nbconvert_exporter": "python",
   "pygments_lexer": "ipython3",
   "version": "3.8.3"
  }
 },
 "nbformat": 4,
 "nbformat_minor": 4
}
