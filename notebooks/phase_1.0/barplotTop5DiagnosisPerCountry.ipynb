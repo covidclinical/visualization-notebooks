{
 "cells": [
  {
   "cell_type": "code",
   "execution_count": null,
   "metadata": {},
   "outputs": [],
   "source": [
    "##############################\n",
    "### Install/load packages ###\n",
    "#############################\n",
    "library(ggplot2)\n",
    "library(dplyr)"
   ]
  },
  {
   "cell_type": "code",
   "execution_count": null,
   "metadata": {},
   "outputs": [],
   "source": [
    "#####################\n",
    "### Load the data ###\n",
    "#####################\n",
    "load(\"country.report.RData\")\n",
    "\n",
    "#for the codes without description, we put the original code\n",
    "country.report$description <- ifelse( is.na( country.report$Icd10Name), \n",
    "                                     country.report$icd_code, \n",
    "                                     country.report$Icd10Name)\n",
    "\n",
    "#remove duplicates mappings for ICD 518.81 that maps to 4 ICD10 J96.0, J96.00, J96.9, J96.90\n",
    "country.report <- country.report[- which(country.report$siteid == \"Italy\" & country.report$icd_code %in%c(\"J96.00\", \"J96.9\", \"J96.90\"))\n",
    ", ]\n",
    "\n",
    "#add the description of one code not added yet U07.2\n",
    "country.report[ country.report$icd_code == \"U07.2\", \"description\"] <- \"COVID-19, virus not identified\""
   ]
  },
  {
   "cell_type": "code",
   "execution_count": null,
   "metadata": {},
   "outputs": [],
   "source": [
    "###########################################\n",
    "### Format the data for ggplot barplot ###\n",
    "##########################################\n",
    "selection_df <- country.report %>% \n",
    "  group_by(siteid) %>% \n",
    "  top_n(5, FractionPatients) %>% \n",
    "  group_by(siteid, description) %>% \n",
    "  arrange(desc(FractionPatients)) %>%                           \n",
    "  ungroup() %>%\n",
    "  mutate(cite_sym = \n",
    "           factor(paste(description, siteid, sep = '_'), \n",
    "                  levels = rev(paste(description, siteid, sep = '_')))) "
   ]
  },
  {
   "cell_type": "code",
   "execution_count": null,
   "metadata": {},
   "outputs": [],
   "source": [
    "######################################\n",
    "### Plot all the graphics together ###\n",
    "######################################\n",
    "country_cols <- c(\n",
    "  'Italy' = '#009E73',\n",
    "  'France' = '#0072B2',\n",
    "  'Germany' = '#E69F00',\n",
    "  'USA' = '#D55E00',\n",
    "  'Singapore' = '#CC79A7',\n",
    "  'Combined' = '#444444'\n",
    ")\n",
    "\n",
    "ggplot(data = selection_df, \n",
    "         aes(x = reorder(cite_sym, FractionPatients), \n",
    "             y = FractionPatients)) +\n",
    "  geom_bar(aes(fill = siteid), stat = 'identity') +\n",
    "  # set ncol = 2 to reproduce previous version\n",
    "  facet_wrap(vars(siteid), ncol = 1, scales = 'free') +\n",
    "  coord_flip(ylim = c(0, 1)) +\n",
    "  theme_bw() +\n",
    "  theme(legend.position = 'none', strip.placement = 'horizontal') +\n",
    "  scale_y_continuous(labels = scales::percent_format(), \n",
    "                     breaks = seq(0, 1, 0.2),\n",
    "                     expand = expansion(mult = c(0, 0), add = c(0, 0.02))) +\n",
    "  scale_x_discrete(labels = function(x) gsub('_.+$', '', x)) +\n",
    "  labs(title = NULL, x = NULL, y = 'Percentage of patients') +\n",
    "  scale_fill_manual('legend', values = country_cols)"
   ]
  }
 ],
 "metadata": {
  "kernelspec": {
   "display_name": "R",
   "language": "R",
   "name": "ir"
  },
  "language_info": {
   "codemirror_mode": "r",
   "file_extension": ".r",
   "mimetype": "text/x-r-source",
   "name": "R",
   "pygments_lexer": "r",
   "version": "3.6.1"
  }
 },
 "nbformat": 4,
 "nbformat_minor": 1
}
