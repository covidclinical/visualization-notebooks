{
 "cells": [
  {
   "cell_type": "markdown",
   "metadata": {},
   "source": [
    "## Minimal analysis: demo with fake data\n",
    "\n",
    "Shiny app: https://avillachlab.shinyapps.io/demo2/"
   ]
  },
  {
   "cell_type": "code",
   "execution_count": null,
   "metadata": {},
   "outputs": [],
   "source": [
    "##########################\n",
    "# R package installation #\n",
    "##########################\n",
    "#install.packages( \"reshape2\", repos=\"http://cran.us.r-project.org\" )\n",
    "#install.packages( \"ggplot2\" )\n",
    "library( \"reshape2\" )\n",
    "library( \"ggplot2\" )"
   ]
  },
  {
   "cell_type": "code",
   "execution_count": null,
   "metadata": {},
   "outputs": [],
   "source": [
    "################\n",
    "# Daily Counts #\n",
    "################\n",
    "dailyCounts <- read.delim(\"./DailyCounts-FMC.csv\", \n",
    "                    header = FALSE, sep = \",\")\n",
    "colnames( dailyCounts ) <- c(\"siteid\", \"date\", \"new_positive_cases\", \n",
    "                             \"patients_in_icu\", \"new_deaths\")\n",
    "head(dailyCounts)"
   ]
  },
  {
   "cell_type": "code",
   "execution_count": null,
   "metadata": {},
   "outputs": [],
   "source": [
    "#transform using melt\n",
    "mdaily <- melt( dailyCounts)\n",
    "\n",
    "#plot with ggplot\n",
    "ggplot(data=mdaily, aes(x=date, y=value, fill=variable)) +\n",
    "  geom_bar(stat=\"identity\", position=position_dodge()) + \n",
    "  theme(axis.text.x = element_text(angle =45, hjust = 1))"
   ]
  },
  {
   "cell_type": "code",
   "execution_count": null,
   "metadata": {},
   "outputs": [],
   "source": [
    "################\n",
    "# Demographics #\n",
    "################\n",
    "demographics <- read.delim(\"./Demographics-FMC.csv\", \n",
    "                           header = FALSE, sep = \",\")\n",
    "colnames( demographics ) <- c(\"siteid\", \"sex\", \"total_patients\", \n",
    "                              \"age_0to2\", \"age_3to5\", \"age_6to11\", \n",
    "                              \"age_12to17\", \"age_18to25\", \"age_26to49\", \n",
    "                              \"age_50to69\", \"age_70to79\", \"age_80plus\")\n",
    "\n",
    "head( demographics)"
   ]
  },
  {
   "cell_type": "code",
   "execution_count": null,
   "metadata": {},
   "outputs": [],
   "source": [
    "#transform using melt\n",
    "mdemog <- melt( demographics)\n",
    "\n",
    "#split for two different plots \n",
    "demogTotal <- mdemog[ mdemog$variable == \"total_patients\", ]\n",
    "demogByAge <- mdemog[ mdemog$variable != \"total_patients\", ]\n",
    "\n",
    "\n",
    "#plot with ggplot\n",
    "ggplot(data=demogTotal, aes(x=sex, y=value, fill=variable)) +\n",
    "  geom_bar(stat=\"identity\", position=position_dodge()) + \n",
    "  theme(axis.text.x = element_text(angle =45, hjust = 1))\n",
    "\n",
    "\n",
    "ggplot(data=demogByAge[demogByAge$sex !=\"All\",], aes(x=variable, y=value, fill=sex)) +\n",
    "  geom_bar(stat=\"identity\", position=\"stack\") + \n",
    "  theme(axis.text.x = element_text(angle =45, hjust = 1))"
   ]
  },
  {
   "cell_type": "code",
   "execution_count": null,
   "metadata": {},
   "outputs": [],
   "source": [
    "##############\n",
    "# Laboratory #\n",
    "##############\n",
    "laboratory <- read.delim(\"./Labs-FMC.csv\", \n",
    "                          header = FALSE, sep = \",\")\n",
    "colnames(laboratory) <- c(\"siteid\", \"loinc\", \"days_since_positive\", \n",
    "                          \"num_patients\", \"mean_value\", \"stdev_value\")\n",
    "labMap <- read.delim(\"./labMap.csv\", sep = \",\")\n",
    "\n",
    "\n",
    "laboratory <- merge( laboratory, labMap)\n",
    "head(laboratory)"
   ]
  },
  {
   "cell_type": "code",
   "execution_count": null,
   "metadata": {},
   "outputs": [],
   "source": [
    "ggplot(data=laboratory, aes(x=days_since_positive, \n",
    "                            y=stdev_value, \n",
    "                            group=labTest)) +\n",
    "  geom_line(aes(linetype=labTest))+\n",
    "  geom_point() + theme(legend.position=\"bottom\", legend.direction=\"vertical\")"
   ]
  },
  {
   "cell_type": "code",
   "execution_count": null,
   "metadata": {},
   "outputs": [],
   "source": [
    "#############\n",
    "# Diagnosis #\n",
    "#############\n",
    "diagnosis <- read.delim(\"./Diagnoses-FMT.csv\", \n",
    "                        header = FALSE, sep = \",\", colClasses = \"character\")\n",
    "colnames(diagnosis) <- c(\"siteid\", \"icd_code\", \"icd_version\", \"num_patients\")\n",
    "\n",
    "diagnosis$num_patients <- as.numeric( diagnosis$num_patients)\n",
    "\n",
    "head( diagnosis )"
   ]
  },
  {
   "cell_type": "code",
   "execution_count": null,
   "metadata": {},
   "outputs": [],
   "source": [
    "#example for ICD9\n",
    "diagSelection <- diagnosis[ diagnosis$icd_version == 9, ]\n",
    "\n",
    "ggplot(data=diagSelection, aes(x=icd_code, y=num_patients)) +\n",
    "  geom_bar(stat=\"identity\", position=position_dodge()) + \n",
    "  theme(axis.text.x = element_text(angle =45, hjust = 1))"
   ]
  }
 ],
 "metadata": {
  "kernelspec": {
   "display_name": "R [conda env:c19i2b2-r]",
   "language": "R",
   "name": "conda-env-c19i2b2-r-r"
  },
  "language_info": {
   "codemirror_mode": "r",
   "file_extension": ".r",
   "mimetype": "text/x-r-source",
   "name": "R",
   "pygments_lexer": "r",
   "version": "3.6.2"
  }
 },
 "nbformat": 4,
 "nbformat_minor": 2
}
