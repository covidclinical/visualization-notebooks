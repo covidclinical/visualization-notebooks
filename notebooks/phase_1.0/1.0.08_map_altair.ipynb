{
 "cells": [
  {
   "cell_type": "code",
   "execution_count": null,
   "metadata": {},
   "outputs": [],
   "source": [
    "%load_ext autoreload\n",
    "%autoreload 2\n",
    "%aimport utils_1_0\n",
    "\n",
    "import altair as alt\n",
    "import pandas as pd\n",
    "import requests\n",
    "import io\n",
    "\n",
    "from constants_1_0 import COLUMNS\n",
    "from utils_1_0 import apply_theme, get_visualization_subtitle\n",
    "from web import for_website"
   ]
  },
  {
   "cell_type": "markdown",
   "metadata": {},
   "source": [
    "# Data Preprocessing"
   ]
  },
  {
   "cell_type": "markdown",
   "metadata": {},
   "source": [
    "## Site Descriptions From Figshare"
   ]
  },
  {
   "cell_type": "code",
   "execution_count": null,
   "metadata": {},
   "outputs": [],
   "source": [
    "# Use the latest data from https://figshare.com/articles/Healthcare_Systems/12118911\n",
    "site_df = pd.read_csv(\"https://ndownloader.figshare.com/files/22312305\")\n",
    "\n",
    "site_df.head()"
   ]
  },
  {
   "cell_type": "markdown",
   "metadata": {},
   "source": [
    "## Topology of Countries"
   ]
  },
  {
   "cell_type": "code",
   "execution_count": null,
   "metadata": {},
   "outputs": [],
   "source": [
    "topo_url = \"https://raw.githubusercontent.com/danutzthe/topojson_world_map/master/world-110m.json\"\n",
    "countries = alt.topo_feature(topo_url, 'countries')"
   ]
  },
  {
   "cell_type": "markdown",
   "metadata": {},
   "source": [
    "## Country Codes"
   ]
  },
  {
   "cell_type": "code",
   "execution_count": null,
   "metadata": {},
   "outputs": [],
   "source": [
    "code_df = pd.read_json(\n",
    "    \"https://raw.githubusercontent.com/alisle/world-110m-country-codes/master/world-110m-country-codes.json\"\n",
    ")\n",
    "\n",
    "# Add a missing country\n",
    "singapore_df = pd.DataFrame(data=[{\"code\": \"Singapore\", \"id\": 702, \"name\": \"Singapore\"}])\n",
    "code_df = pd.concat([code_df, singapore_df])"
   ]
  },
  {
   "cell_type": "markdown",
   "metadata": {},
   "source": [
    "## Merge Data"
   ]
  },
  {
   "cell_type": "code",
   "execution_count": null,
   "metadata": {},
   "outputs": [],
   "source": [
    "# Add custom encodigs to code_df\n",
    "df = pd.DataFrame(data=[\n",
    "    # Custom encoding for each city\n",
    "    {\"id\": 250, \"color\": \"#0072B2\", \"fill\": \"lightgray\", \"opacity\": 1, \"Country\": \"France\"},\n",
    "    {\"id\": 276, \"color\": \"#E69F00\", \"fill\": \"lightgray\", \"opacity\": 1, \"Country\": \"Germany\"},\n",
    "    {\"id\": 380, \"color\": \"#009E73\", \"fill\": \"lightgray\", \"opacity\": 1, \"Country\": \"Italy\"},\n",
    "    {\"id\": 702, \"color\": \"#CC79A7\", \"fill\": \"lightgray\", \"opacity\": 1, \"Country\": \"Singapore\"},\n",
    "    {\"id\": 840, \"color\": \"#D55E00\", \"fill\": \"lightgray\", \"opacity\": 1, \"Country\": \"USA\"},\n",
    "])\n",
    "code_df = code_df.set_index(\"id\")\n",
    "df = df.set_index(\"id\")\n",
    "df = code_df.join(df).reset_index()\n",
    "df.loc[df[\"opacity\"] != 1, \"opacity\"] = 0.2 # default opacity\n",
    "\n",
    "# Add site descriptions\n",
    "df = df.set_index(\"Country\")\n",
    "site_df = site_df.set_index(\"Country\")\n",
    "df = df.join(site_df).reset_index()\n",
    "\n",
    "# Add lists of sites for each city\n",
    "UNIQUE_CITIES = site_df[\"City\"].unique().tolist()\n",
    "for c in UNIQUE_CITIES:\n",
    "    f = df[\"City\"] == c\n",
    "    sites_str =  \", \".join(site_df[site_df[\"City\"] == c][\"Healthcare System\"].unique().tolist())\n",
    "    df.loc[f, \"Sites\"] = sites_str"
   ]
  },
  {
   "cell_type": "markdown",
   "metadata": {},
   "source": [
    "# Visualization: Symbol Map"
   ]
  },
  {
   "cell_type": "markdown",
   "metadata": {},
   "source": [
    "## Map Background"
   ]
  },
  {
   "cell_type": "code",
   "execution_count": null,
   "metadata": {},
   "outputs": [],
   "source": [
    "background = alt.Chart(countries).mark_geoshape(\n",
    "    fill=\"lightgray\",\n",
    "    stroke='lightgray'\n",
    ").encode(\n",
    "    opacity=alt.Opacity(\"opacity:Q\", legend=None)\n",
    ").transform_lookup(\n",
    "    lookup=\"id\",\n",
    "    from_=alt.LookupData(df, \"id\", [\"opacity\", \"color\"])\n",
    ")"
   ]
  },
  {
   "cell_type": "markdown",
   "metadata": {},
   "source": [
    "## Symbols"
   ]
  },
  {
   "cell_type": "code",
   "execution_count": null,
   "metadata": {},
   "outputs": [],
   "source": [
    "COUNTRIES = [\"France\", \"Germany\", \"Italy\", \"Singapore\", \"USA\"]\n",
    "COUNTRY_COLOR = [\"#0072B2\", \"#E69F00\", \"#009E73\", \"#CC79A7\", \"#D55E00\"]\n",
    "color_scale = alt.Scale(domain=COUNTRIES, range=COUNTRY_COLOR)\n",
    "\n",
    "circle = alt.Chart(df).transform_aggregate(\n",
    "    Latitude_Mean='mean(Latitude)',\n",
    "    Longitude_Mean='mean(Longitude)',\n",
    "    Hospitals_Total='sum(Hospitals)',\n",
    "    Sites_Total='count()',\n",
    "    groupby=['City','Country', 'Sites']\n",
    ").transform_filter(\n",
    "    alt.datum[\"City\"] != None\n",
    ").mark_circle().encode(\n",
    "    longitude='Longitude_Mean:Q',\n",
    "    latitude='Latitude_Mean:Q',\n",
    "    size=alt.Size(\n",
    "        'Hospitals_Total:Q', \n",
    "        title='Number of Hospitals', \n",
    "        scale=alt.Scale(domain=[1, 40], range=[60, 400]),\n",
    "        legend=None\n",
    "    ),\n",
    "    color=alt.Color(\n",
    "        'Country:N', \n",
    "        scale=color_scale, \n",
    "        legend=None\n",
    "    ),\n",
    "    tooltip=[\n",
    "        alt.Tooltip('Country:N'),\n",
    "        alt.Tooltip('City:N'),\n",
    "        alt.Tooltip('Sites:N', title=\"Participating sites\"),\n",
    "        alt.Tooltip('Sites_Total:Q', title=\"Number of sites\"), \n",
    "        alt.Tooltip('Hospitals_Total:Q', title=\"Number of hospitals\"),\n",
    "    ]\n",
    ")\n",
    "\n",
    "labels = circle.mark_text(\n",
    "    align='center',\n",
    "    baseline='top',\n",
    "    dy=7\n",
    ").encode(\n",
    "    longitude='Longitude_Mean:Q',\n",
    "    latitude='Latitude_Mean:Q',\n",
    "    text='City',\n",
    "    size=alt.value(8),\n",
    "    color=alt.value('black')\n",
    ")"
   ]
  },
  {
   "cell_type": "markdown",
   "metadata": {},
   "source": [
    "## Map Visualizations by Continent"
   ]
  },
  {
   "cell_type": "code",
   "execution_count": null,
   "metadata": {},
   "outputs": [],
   "source": [
    "usa = ( background + circle + labels ).project(\n",
    "    type= 'mercator',\n",
    "    scale= 280,\n",
    "    center= [-126, 59],\n",
    "    translate = [0, 0]\n",
    ").properties(\n",
    "    title={\n",
    "        \"text\": 'Sites in North America',\n",
    "        \"subtitle\": get_visualization_subtitle(12),\n",
    "        \"subtitleColor\": \"gray\"\n",
    "    },\n",
    "    width=300, height=300\n",
    ")\n",
    "\n",
    "usa"
   ]
  },
  {
   "cell_type": "code",
   "execution_count": null,
   "metadata": {},
   "outputs": [],
   "source": [
    "label_offsets = {\n",
    "    # Custom dx and dy\n",
    "    \"Paris\": {\"dx\": 0, \"dy\": 16},\n",
    "    \"Milano\": {\"dx\": -20, \"dy\": 0},\n",
    "    \"Bergamo\": {\"dx\": 0, \"dy\": -10},\n",
    "    \"Erlangen\": {\"dx\": 8, \"dy\": 10},\n",
    "}\n",
    "\n",
    "labels_with_offset = labels.transform_filter(\n",
    "    (alt.datum[\"City\"] != \"Paris\") & \n",
    "    (alt.datum[\"City\"] != \"Milano\") & \n",
    "    (alt.datum[\"City\"] != \"Bergamo\") & \n",
    "    (alt.datum[\"City\"] != \"Erlangen\")\n",
    ")\n",
    "\n",
    "for city in list(label_offsets.keys()):\n",
    "    labels_with_offset += labels.transform_filter(\n",
    "        alt.datum[\"City\"] == city\n",
    "    ).mark_text(dx=label_offsets[city][\"dx\"], dy=label_offsets[city][\"dy\"])\n",
    "\n",
    "eu = ( background + circle + labels_with_offset ).project(\n",
    "    type='mercator',\n",
    "    scale=820,\n",
    "    center=[-3, 53],\n",
    "    translate=[0, 0],\n",
    ").properties(\n",
    "    title={\n",
    "        \"text\": 'Sites in Europe',\n",
    "        \"subtitle\": get_visualization_subtitle(6),\n",
    "        \"subtitleColor\": \"gray\"\n",
    "    },\n",
    "    width=300, height=300\n",
    ")\n",
    "\n",
    "eu"
   ]
  },
  {
   "cell_type": "code",
   "execution_count": null,
   "metadata": {},
   "outputs": [],
   "source": [
    "asia = ( background + circle + labels ).project(\n",
    "    type= 'mercator',\n",
    "    scale= 900,\n",
    "    center= [94,10],\n",
    "    translate=[0, 0]\n",
    ").properties(\n",
    "    title={\n",
    "        \"text\": 'Sites in Asia',\n",
    "        \"subtitle\": get_visualization_subtitle(1),\n",
    "        \"subtitleColor\": \"gray\"\n",
    "    },\n",
    "    width=300, height=300\n",
    ")\n",
    "\n",
    "asia"
   ]
  },
  {
   "cell_type": "code",
   "execution_count": null,
   "metadata": {},
   "outputs": [],
   "source": [
    "h = apply_theme(alt.hconcat(usa, eu, asia, spacing=10)).properties(\n",
    "    background=\"transparent\"\n",
    ")\n",
    "\n",
    "for_website(h, \"Map\", \"Sites by continent horizontal\")\n",
    "\n",
    "h"
   ]
  },
  {
   "cell_type": "code",
   "execution_count": null,
   "metadata": {},
   "outputs": [],
   "source": [
    "v = apply_theme(alt.vconcat(usa, eu, asia, spacing=10)).properties(\n",
    "    background=\"transparent\"\n",
    ")\n",
    "\n",
    "for_website(v, \"Map\", \"Sites by continent vertical\")\n",
    "\n",
    "v"
   ]
  },
  {
   "cell_type": "code",
   "execution_count": null,
   "metadata": {},
   "outputs": [],
   "source": []
  }
 ],
 "metadata": {
  "kernelspec": {
   "display_name": "Python 3",
   "language": "python",
   "name": "python3"
  },
  "language_info": {
   "codemirror_mode": {
    "name": "ipython",
    "version": 3
   },
   "file_extension": ".py",
   "mimetype": "text/x-python",
   "name": "python",
   "nbconvert_exporter": "python",
   "pygments_lexer": "ipython3",
   "version": "3.8.2"
  }
 },
 "nbformat": 4,
 "nbformat_minor": 4
}
