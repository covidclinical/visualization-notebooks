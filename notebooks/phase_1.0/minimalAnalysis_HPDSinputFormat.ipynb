{
 "cells": [
  {
   "cell_type": "markdown",
   "metadata": {},
   "source": [
    "## Test using fake data following HPDS format\n",
    "- Age general distribution\n",
    "- Age distribution by sex\n",
    "- Comorbidities per day\n",
    "\n",
    "Shiny App demo: https://avillachlab.shinyapps.io/demo/ "
   ]
  },
  {
   "cell_type": "code",
   "execution_count": null,
   "metadata": {},
   "outputs": [],
   "source": [
    "#load the libraries\n",
    "library( \"ggplot2\" )\n",
    "library( \"plyr\" )\n",
    "library( \"plotly\" )"
   ]
  },
  {
   "cell_type": "code",
   "execution_count": null,
   "metadata": {},
   "outputs": [],
   "source": [
    "##### file modified\n",
    "inputPath <- \"./\"\n",
    "inputFile <- \"Zak_table_modified.txt\"\n",
    "\n",
    "# read the file and rename columns\n",
    "dataInput <- read.delim( paste0( inputPath, inputFile ), header = FALSE, sep = \"\\t\", colClasses = \"character\")\n",
    "colnames(dataInput) <- c(\"PATIENT_NUM\", \"CONCEPT_PATH\", \"NVAL_NUM\", \"TVAL_CHAR\", \"START_DATE\", \"AGE\", \"SEX\")\n",
    "\n",
    "#for the diagnostic, we select the last item in the concept path\n",
    "dataInput$DIAGNOSE <- sapply(strsplit( as.character(dataInput$CONCEPT_PATH), \"[\\\\]\"),function(x)x[length(x)])\n",
    "\n",
    "#we create one subset of the data for the diagnosis analysis                             \n",
    "dataSelection <- dataInput[, c(\"PATIENT_NUM\", \"DIAGNOSE\", \"START_DATE\")]\n",
    "dataSelection$START_DATE <- as.Date(dataSelection$START_DATE, format = \"%d-%b-%y\")\n",
    "head( dataSelection )\n",
    "                             \n",
    "#we create one subset of the data for the general demographic analysis                             \n",
    "demogData <- dataInput[ , c(\"PATIENT_NUM\", \"AGE\", \"SEX\")]\n",
    "demogData <- demogData[ ! duplicated( demogData ), ]\n",
    "head(demogData)\n",
    "\n",
    "demogData$AGE <- as.numeric( demogData$AGE )\n",
    "demogData$SEX <- as.factor( demogData$SEX )"
   ]
  },
  {
   "cell_type": "markdown",
   "metadata": {},
   "source": [
    "## Boxplot for the age distribution by sex"
   ]
  },
  {
   "cell_type": "code",
   "execution_count": null,
   "metadata": {},
   "outputs": [],
   "source": [
    "ageBP <- ggplot(demogData, aes(x=SEX, y=AGE, fill=SEX))+\n",
    "  geom_boxplot()\n",
    "ageBP + scale_fill_discrete(name=\"Sex\",\n",
    "                            breaks=c(\"F\", \"M\"),\n",
    "                            labels=c(\"Female\", \"Male\"))"
   ]
  },
  {
   "cell_type": "markdown",
   "metadata": {},
   "source": [
    "## Age distribution\n",
    "- General age distribution\n",
    "- Age distribution according to the sex of the patient"
   ]
  },
  {
   "cell_type": "code",
   "execution_count": null,
   "metadata": {},
   "outputs": [],
   "source": [
    "#general barplot\n",
    "ggplot(demogData, aes(x=AGE)) + geom_bar()"
   ]
  },
  {
   "cell_type": "code",
   "execution_count": null,
   "metadata": {},
   "outputs": [],
   "source": [
    "min(demogData$AGE)\n",
    "max(demogData$AGE)"
   ]
  },
  {
   "cell_type": "code",
   "execution_count": null,
   "metadata": {},
   "outputs": [],
   "source": [
    "#estimate the mean age for males and females\n",
    "mu <- ddply(demogData, \"SEX\", summarise, grp.mean=mean(AGE))\n",
    "\n",
    "#histogram showing age according to sex\n",
    "ggplot2::ggplot(demogData, aes(x=AGE, fill=SEX, color=SEX)) +\n",
    "                geom_histogram(position=\"identity\", alpha = 0.5) +\n",
    "                geom_vline(data=mu, aes(xintercept=grp.mean, color=SEX),\n",
    "                           linetype=\"dashed\")"
   ]
  },
  {
   "cell_type": "markdown",
   "metadata": {},
   "source": [
    "## Prepare the data to estimate the comorbidities per day"
   ]
  },
  {
   "cell_type": "code",
   "execution_count": null,
   "metadata": {},
   "outputs": [],
   "source": [
    "head(dataSelection)\n",
    "output <- data.frame()\n",
    "\n",
    "for( i in 1:length(unique( dataSelection$PATIENT_NUM))){\n",
    "\n",
    "  selection <- dataSelection[ dataSelection$PATIENT_NUM == unique(dataSelection$PATIENT_NUM)[i], ]\n",
    "  selection <- selection[ order( selection$START_DATE , decreasing = TRUE), ]\n",
    "\n",
    "  for( j in 1:nrow(selection)){\n",
    "    if( j == 1){\n",
    "      selection$DAY[j] <- paste0(\"DAY \", j)\n",
    "    }else{\n",
    "      selection$DAY[j] <- paste0(\"DAY \", as.numeric(gsub(\"DAY \", \"\", selection$DAY[j-1])) + as.numeric(selection$START_DATE[j-1] - selection$START_DATE[j]) )\n",
    "\n",
    "    }\n",
    "  }\n",
    "  output <- rbind(output, selection)\n",
    "}\n",
    "\n",
    "head(output)"
   ]
  },
  {
   "cell_type": "code",
   "execution_count": null,
   "metadata": {},
   "outputs": [],
   "source": [
    "toplot <- as.data.frame( table( paste0( output$DIAGNOSE, \"-\", output$DAY)))\n",
    "toplot$Prev <- (toplot$Freq/length(unique(output$PATIENT_NUM)))\n",
    "toplot$DIAG <- sapply(strsplit( as.character(toplot$Var1), \"-\"), '[', 1)\n",
    "toplot$DAY <- sapply(strsplit( as.character(toplot$Var1), \"-\"), '[', 2)\n",
    "\n",
    "#barplot\n",
    "p <- ggplot(data=toplot, aes(x=DAY, y=Freq, fill=DIAG)) +\n",
    "  geom_bar(stat=\"identity\", color=\"black\", position=position_dodge())+\n",
    "   theme(legend.position=\"bottom\",\n",
    "         legend.direction = \"vertical\")\n",
    "p"
   ]
  },
  {
   "cell_type": "code",
   "execution_count": null,
   "metadata": {},
   "outputs": [],
   "source": [
    "#htmp\n",
    "htmp <- ggplot(toplot, aes(DAY, DIAG )) +\n",
    "   geom_tile(aes(fill = Freq), color = \"white\") +\n",
    "   scale_fill_gradient(low = \"white\", high = \"steelblue\") +\n",
    "   theme(legend.title = element_text(size = 10),\n",
    "         legend.text = element_text(size = 12),\n",
    "         plot.title = element_text(size=16),\n",
    "         axis.title=element_text(size=14,face=\"bold\"),\n",
    "         axis.text.x = element_text(angle = 90, hjust = 1)) +\n",
    "   labs(fill = \"Comorbidity frequency\")\n",
    "\n",
    " htmp"
   ]
  },
  {
   "cell_type": "code",
   "execution_count": null,
   "metadata": {},
   "outputs": [],
   "source": [
    "#alternatives using plotly\n",
    "# library(plotly)\n",
    "\n",
    "# toplot <- as.data.frame( table( paste0( output$DIAGNOSE, \"-\", output$DAY)))\n",
    "# toplot$Prev <- (toplot$Freq/length(unique(output$PATIENT_NUM)))\n",
    "# toplot$DIAG <- sapply(strsplit( as.character(toplot$Var1), \"-\"), '[', 1)\n",
    "# toplot$DAY <- sapply(strsplit( as.character(toplot$Var1), \"-\"), '[', 2)\n",
    "\n",
    "\n",
    "# p <- ggplot(data=toplot, aes(x=DAY, y=Freq, fill=DIAG)) +\n",
    "#   geom_bar(stat=\"identity\", color=\"black\", position=position_dodge())+\n",
    "#   theme_minimal()+ theme(legend.position=\"bottom\")\n",
    "# p\n",
    "#\n",
    "# plotly( p )\n",
    "#\n",
    "#\n",
    "# htmp <- ggplot(toplot, aes(DAY, DIAG )) +\n",
    "#   geom_tile(aes(fill = Freq), color = \"white\") +\n",
    "#   scale_fill_gradient(low = \"white\", high = \"steelblue\") +\n",
    "#   theme(legend.title = element_text(size = 10),\n",
    "#         legend.text = element_text(size = 12),\n",
    "#         plot.title = element_text(size=16),\n",
    "#         axis.title=element_text(size=14,face=\"bold\"),\n",
    "#         axis.text.x = element_text(angle = 90, hjust = 1)) +\n",
    "#   labs(fill = \"Comorbidity frequency\")\n",
    "#\n",
    "# htmp\n",
    "#\n",
    "# fig <- plot_ly(\n",
    "#   x = toplot$DAY, y = toplot$DIAG,\n",
    "#   z = toplot$Freq, type = \"heatmap\"\n",
    "# )"
   ]
  },
  {
   "cell_type": "code",
   "execution_count": null,
   "metadata": {},
   "outputs": [],
   "source": [
    "#inputPath <- \"./\"\n",
    "#inputFile <- \"Zak_table.txt\"\n",
    "\n",
    "#library(plotly)\n",
    "\n",
    "#theme_set(theme_bw())\n",
    "\n",
    "#dataInput <- read.delim( paste0( inputPath, inputFile ), header = FALSE, sep = \"\\t\", colClasses = \"character\")\n",
    "#colnames(dataInput) <- c(\"PATIENT_NUM\", \"CONCEPT_PATH\", \"NVAL_NUM\", \"TVAL_CHAR\", \"START_DATE\")\n",
    "#dataInput$DIAGNOSE <- sapply(strsplit( as.character(dataInput$CONCEPT_PATH), \"[\\\\]\"),function(x)x[length(x)])\n",
    "#dataSelection <- dataInput[, c(\"PATIENT_NUM\", \"DIAGNOSE\", \"START_DATE\")]\n",
    "#dataSelection$START_DATE <- as.Date(dataSelection$START_DATE, format = \"%d-%b-%y\")\n",
    "\n",
    "#head(dataSelection)\n",
    "#output <- data.frame()\n",
    "\n",
    "#for( i in 1:length(unique( dataSelection$PATIENT_NUM))){\n",
    "\n",
    "#  selection <- dataSelection[ dataSelection$PATIENT_NUM == unique(dataSelection$PATIENT_NUM)[i], ]\n",
    "#  selection <- selection[ order( selection$START_DATE , decreasing = TRUE), ]\n",
    "\n",
    "#  for( j in 1:nrow(selection)){\n",
    "#    if( j == 1){\n",
    "#      selection$DAY[j] <- paste0(\"DAY \", j)\n",
    "#    }else{\n",
    "#      selection$DAY[j] <- paste0(\"DAY \", as.numeric(gsub(\"DAY \", \"\", selection$DAY[j-1])) + as.numeric(selection$START_DATE[j-1] - selection$START_DATE[j]) )\n",
    "\n",
    "#   }\n",
    "# }\n",
    "#  output <- rbind(output, selection)\n",
    "#}\n",
    "\n",
    "# Simulate COVID status\n",
    "#covid_stat_df <- data.frame(PATIENT_NUM = unique(dataSelection$PATIENT_NUM),\n",
    "#           covid_status = sample(c(\"Y\", \"N\"),\n",
    "#                                 size = length(unique(dataSelection$PATIENT_NUM)),\n",
    "#                                 replace = T)\n",
    "           )\n",
    "#output <- merge(output, covid_stat_df)\n",
    "#head(output)\n",
    "\n",
    "\n",
    "# toplot <- as.data.frame( table( paste0( output$DIAGNOSE, \"-\", output$DAY)))\n",
    "# toplot$Prev <- (toplot$Freq/length(unique(output$PATIENT_NUM)))\n",
    "# toplot$DIAG <- sapply(strsplit( as.character(toplot$Var1), \"-\"), '[', 1)\n",
    "# toplot$DAY <- sapply(strsplit( as.character(toplot$Var1), \"-\"), '[', 2)\n",
    "\n",
    "\n",
    "\n",
    "#p <- ggplot(data=toplot, aes(x=DAY, y=Freq, fill=DIAG)) +\n",
    "#  geom_bar(stat=\"identity\", color=\"black\", position=position_dodge())+\n",
    "#   theme(legend.position=\"bottom\",\n",
    "#         legend.direction = \"vertical\")\n",
    "#p\n",
    "\n",
    "#plotly( p )\n",
    "\n",
    "\n",
    "#htmp <- ggplot(toplot, aes(DAY, DIAG )) +\n",
    "#  geom_tile(aes(fill = Freq), color = \"white\") +\n",
    "#  scale_fill_gradient(low = \"white\", high = \"steelblue\") +\n",
    "#  theme_bw() +\n",
    "#  theme(legend.title = element_text(size = 10),\n",
    "#        legend.text = element_text(size = 12),\n",
    "#        plot.title = element_text(size=16),\n",
    "#        axis.title=element_text(size=14,face=\"bold\"),\n",
    "#        axis.text.x = element_text(angle = 90, hjust = 1)) +\n",
    "#  labs(fill = \"Comorbidity frequency\")\n",
    "\n",
    "#htmp\n",
    "\n",
    "#fig <- plot_ly(\n",
    "#  x = toplot$DAY, y = toplot$DIAG,\n",
    "#  z = toplot$Freq, type = \"heatmap\"\n",
    "# )"
   ]
  }
 ],
 "metadata": {
  "kernelspec": {
   "display_name": "R",
   "language": "R",
   "name": "ir"
  },
  "language_info": {
   "codemirror_mode": "r",
   "file_extension": ".r",
   "mimetype": "text/x-r-source",
   "name": "R",
   "pygments_lexer": "r",
   "version": "3.4.1"
  }
 },
 "nbformat": 4,
 "nbformat_minor": 2
}
