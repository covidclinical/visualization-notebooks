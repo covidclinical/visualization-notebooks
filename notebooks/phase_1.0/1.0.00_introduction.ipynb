{
 "cells": [
  {
   "cell_type": "markdown",
   "metadata": {},
   "source": [
    "## Welcome to Jupyter Notebooks for 4CE Data Visualizations!"
   ]
  },
  {
   "cell_type": "markdown",
   "metadata": {},
   "source": [
    "[4CE](https://covidclinical.net) is an international consortium for electronic health record (EHR) data-driven studies of the COVID-19 pandemic. The goal of this effort—led by the [i2b2 international academics users group](https://transmartfoundation.org)—is to inform doctors, epidemiologists and the public about COVID-19 patients with data acquired through the health care process."
   ]
  },
  {
   "cell_type": "markdown",
   "metadata": {},
   "source": [
    "### Outline of Contents\n",
    "1. Altair Visualizations\n",
    "    1. [Demographics by Sex and Country]()\n",
    "    2. [Daily Counts by Country (Positive Cases and Deaths)]()\n",
    "    3. Lab results\n",
    "        1. [Lab Results by Country and Site]()\n",
    "        2. [Lab Measurements Drop Ratio by Country and Site]()\n",
    "        3. [Variation of Lab Results by Country]()\n",
    "    4. [Normalized Change by Country, Comparison to JHU CSSE Data]()\n",
    "2. ggplot Visualizations\n",
    "    1. [Lab Results]()\n",
    "    2. [Diagnoses]()\n"
   ]
  },
  {
   "cell_type": "markdown",
   "metadata": {},
   "source": [
    "### More Information\n",
    "Find more details and contact information at https://covidclinical.net."
   ]
  }
 ],
 "metadata": {
  "kernelspec": {
   "display_name": "Python [conda env:4ce] *",
   "language": "python",
   "name": "conda-env-4ce-py"
  },
  "language_info": {
   "codemirror_mode": {
    "name": "ipython",
    "version": 3
   },
   "file_extension": ".py",
   "mimetype": "text/x-python",
   "name": "python",
   "nbconvert_exporter": "python",
   "pygments_lexer": "ipython3",
   "version": "3.8.2"
  }
 },
 "nbformat": 4,
 "nbformat_minor": 4
}
