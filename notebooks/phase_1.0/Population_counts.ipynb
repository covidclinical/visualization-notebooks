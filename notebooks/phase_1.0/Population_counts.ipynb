{
 "cells": [
  {
   "cell_type": "markdown",
   "metadata": {},
   "source": [
    "# Population counts\n",
    "\n",
    "Notebook used to produce some population counts for the first paper: \"International electronic health record driven COVID-19 clinical course profile\""
   ]
  },
  {
   "cell_type": "code",
   "execution_count": null,
   "metadata": {},
   "outputs": [],
   "source": [
    "library(\"dplyr\")"
   ]
  },
  {
   "cell_type": "code",
   "execution_count": null,
   "metadata": {},
   "outputs": [],
   "source": [
    "path_combined <- \"Combined_200410/\""
   ]
  },
  {
   "cell_type": "code",
   "execution_count": null,
   "metadata": {},
   "outputs": [],
   "source": [
    "mapping_siteid <- read.csv(\"mapping_siteid.csv\", stringsAsFactors = F)"
   ]
  },
  {
   "cell_type": "code",
   "execution_count": null,
   "metadata": {},
   "outputs": [],
   "source": [
    "labs_combined <- read.csv(paste0(path_combined, \"Labs-Combined200410.csv\"), stringsAsFactors = F)\n",
    "labs_bycountry <- read.csv(paste0(path_combined, \"Labs-CombinedByCountry200410.csv\"), stringsAsFactors = F)\n",
    "labs_bysite <- read.csv(paste0(path_combined, \"Labs-CombinedBySite200410.csv\"), stringsAsFactors = F)"
   ]
  },
  {
   "cell_type": "code",
   "execution_count": null,
   "metadata": {},
   "outputs": [],
   "source": [
    "diagnoses_combined <- read.csv(paste0(path_combined, \"Diagnoses-Combined200410.csv\"), stringsAsFactors = F)\n",
    "diagnoses_bycountry <- read.csv(paste0(path_combined, \"Diagnoses-CombinedByCountry200410.csv\"), stringsAsFactors = F)\n",
    "diagnoses_bysite <- read.csv(paste0(path_combined, \"Diagnoses-CombinedBySite200410.csv\"), stringsAsFactors = F)"
   ]
  },
  {
   "cell_type": "code",
   "execution_count": null,
   "metadata": {},
   "outputs": [],
   "source": [
    "dailycounts_combined <- read.csv(paste0(path_combined, \"DailyCounts-Combined200410.csv\"), stringsAsFactors = F)\n",
    "dailycounts_bycountry <- read.csv(paste0(path_combined, \"DailyCounts-CombinedByCountry200410.csv\"), stringsAsFactors = F)\n",
    "dailycounts_bysite <- read.csv(paste0(path_combined, \"DailyCounts-CombinedBySite200410.csv\"), stringsAsFactors = F)"
   ]
  },
  {
   "cell_type": "code",
   "execution_count": null,
   "metadata": {},
   "outputs": [],
   "source": [
    "Demographics_combined <- read.csv(paste0(path_combined, \"Demographics-Combined200410.csv\"), stringsAsFactors = F)\n",
    "Demographics_bycountry <- read.csv(paste0(path_combined, \"Demographics-CombinedByCountry200410.csv\"), stringsAsFactors = F)\n",
    "Demographics_bysite <- read.csv(paste0(path_combined, \"Demographics-CombinedBySite200410.csv\"), stringsAsFactors = F)"
   ]
  },
  {
   "cell_type": "code",
   "execution_count": null,
   "metadata": {},
   "outputs": [],
   "source": [
    "length(unique(Demographics_bysite$siteid))"
   ]
  },
  {
   "cell_type": "markdown",
   "metadata": {},
   "source": [
    "# Global counts"
   ]
  },
  {
   "cell_type": "markdown",
   "metadata": {},
   "source": [
    "## New cases"
   ]
  },
  {
   "cell_type": "code",
   "execution_count": null,
   "metadata": {},
   "outputs": [],
   "source": [
    "count_cases <- function(dailycounts, \n",
    "                        cases = \"new_positive_cases\",\n",
    "                        upper_bounds = \"masked_upper_bound_new_positive_cases\") {\n",
    "    cases_total_unmasked_patients = sum(dailycounts[[cases]])\n",
    "    cases_upper_bound_masked_patients = sum(dailycounts[[upper_bounds]], na.rm = T)\n",
    "    cases_lower_bound_masked_patients = sum(dailycounts[[upper_bounds]] !=0)\n",
    "    return(list(cases_total_unmasked_patients = cases_total_unmasked_patients,\n",
    "                cases_lower_bound_masked_patients = cases_lower_bound_masked_patients,\n",
    "                cases_upper_bound_masked_patients = cases_upper_bound_masked_patients\n",
    "               ))\n",
    "}\n",
    "count_cases"
   ]
  },
  {
   "cell_type": "code",
   "execution_count": null,
   "metadata": {},
   "outputs": [],
   "source": [
    "new_cases = count_cases(dailycounts_bysite, \"new_positive_cases\", \"masked_upper_bound_new_positive_cases\")\n",
    "print(paste(\"Minimum total patients\", new_cases$cases_total_unmasked_patients + new_cases$cases_lower_bound_masked_patients))\n",
    "print(paste(\"Maximum total patients\", new_cases$cases_total_unmasked_patients + new_cases$cases_upper_bound_masked_patients))"
   ]
  },
  {
   "cell_type": "markdown",
   "metadata": {},
   "source": [
    "## Total new patients in ICU"
   ]
  },
  {
   "cell_type": "code",
   "execution_count": null,
   "metadata": {},
   "outputs": [],
   "source": [
    "new_icu <- count_cases(dailycounts_bysite, \"patients_in_icu\", \"masked_upper_bound_patients_in_icu\")\n",
    "print(paste(\"Minimum total patients\", new_icu$cases_total_unmasked_patients + new_icu$cases_lower_bound_masked_patients))\n",
    "print(paste(\"Maximum total patients\", new_icu$cases_total_unmasked_patients + new_icu$cases_upper_bound_masked_patients))"
   ]
  },
  {
   "cell_type": "markdown",
   "metadata": {},
   "source": [
    "# Total deaths"
   ]
  },
  {
   "cell_type": "code",
   "execution_count": null,
   "metadata": {},
   "outputs": [],
   "source": [
    "new_deaths <- count_cases(dailycounts_bysite, \"new_deaths\", \"masked_upper_bound_new_deaths\")\n",
    "print(paste(\"Minimum total patients\", new_deaths$cases_total_unmasked_patients + new_deaths$cases_lower_bound_masked_patients))\n",
    "print(paste(\"Maximum total patients\", new_deaths$cases_total_unmasked_patients + new_deaths$cases_upper_bound_masked_patients))"
   ]
  },
  {
   "cell_type": "markdown",
   "metadata": {},
   "source": [
    "# ICU Rate"
   ]
  },
  {
   "cell_type": "code",
   "execution_count": null,
   "metadata": {},
   "outputs": [],
   "source": [
    "global_icu_rate = (new_icu$cases_total_unmasked_patients + new_icu$cases_lower_bound_masked_patients) / \n",
    "(new_cases$cases_total_unmasked_patients + new_cases$cases_lower_bound_masked_patients)"
   ]
  },
  {
   "cell_type": "code",
   "execution_count": null,
   "metadata": {},
   "outputs": [],
   "source": [
    "global_icu_rate"
   ]
  },
  {
   "cell_type": "code",
   "execution_count": null,
   "metadata": {},
   "outputs": [],
   "source": [
    "global_deaths_rate = (new_deaths$cases_total_unmasked_patients + new_deaths$cases_lower_bound_masked_patients) / \n",
    "(new_cases$cases_total_unmasked_patients + new_cases$cases_lower_bound_masked_patients)"
   ]
  },
  {
   "cell_type": "code",
   "execution_count": null,
   "metadata": {},
   "outputs": [],
   "source": [
    "global_deaths_rate"
   ]
  },
  {
   "cell_type": "markdown",
   "metadata": {},
   "source": [
    "# Per sites"
   ]
  },
  {
   "cell_type": "code",
   "execution_count": null,
   "metadata": {},
   "outputs": [],
   "source": [
    "cases_per_sites = by(dailycounts_bysite,\n",
    "   as.factor(dailycounts_bysite$siteid),\n",
    "   count_cases,\n",
    "   \"new_positive_cases\",\n",
    "   \"masked_upper_bound_new_positive_cases\")\n",
    "icu_per_sites = by(dailycounts_bysite,\n",
    "   as.factor(dailycounts_bysite$siteid),\n",
    "   count_cases,\n",
    "   \"patients_in_icu\",\n",
    "   \"masked_upper_bound_patients_in_icu\")\n",
    "death_per_sites = by(dailycounts_bysite,\n",
    "   as.factor(dailycounts_bysite$siteid),\n",
    "   count_cases,\n",
    "   \"new_deaths\",\n",
    "   \"masked_upper_bound_new_deaths\")"
   ]
  },
  {
   "cell_type": "code",
   "execution_count": null,
   "metadata": {},
   "outputs": [],
   "source": [
    "df_cases_per_sites <- dplyr::bind_rows(cases_per_sites)\n",
    "minimum_nb_cases <-  df_cases_per_sites$cases_total_unmasked_patients + \n",
    "df_cases_per_sites$cases_lower_bound_masked_patients\n",
    "maximum_nb_cases <- df_cases_per_sites$cases_total_unmasked_patients + \n",
    "df_cases_per_sites$cases_upper_bound_masked_patients"
   ]
  },
  {
   "cell_type": "code",
   "execution_count": null,
   "metadata": {},
   "outputs": [],
   "source": [
    "df_icu_per_sites <- dplyr::bind_rows(icu_per_sites)\n",
    "minimum_nb_icu <- df_icu_per_sites$cases_total_unmasked_patients + \n",
    "df_cases_per_sites$cases_lower_bound_masked_patients\n",
    "maximum_nb_icu <- df_icu_per_sites$cases_total_unmasked_patients + \n",
    "df_cases_per_sites$cases_upper_bound_masked_patients"
   ]
  },
  {
   "cell_type": "code",
   "execution_count": null,
   "metadata": {},
   "outputs": [],
   "source": [
    "df_death_per_sites <- dplyr::bind_rows(death_per_sites)\n",
    "minimum_nb_death <- df_death_per_sites$cases_total_unmasked_patients + \n",
    "df_cases_per_sites$cases_lower_bound_masked_patients\n",
    "maximum_nb_death <- df_death_per_sites$cases_total_unmasked_patients + \n",
    "df_cases_per_sites$cases_upper_bound_masked_patients"
   ]
  },
  {
   "cell_type": "code",
   "execution_count": null,
   "metadata": {},
   "outputs": [],
   "source": [
    "df_stats_overall <- data.frame(minimum_nb_cases = minimum_nb_cases,\n",
    "                              maximum_nb_cases = maximum_nb_cases,\n",
    "                               median_nb_cases = (maximum_nb_cases - minimum_nb_cases)/2 + minimum_nb_cases,\n",
    "                              minimum_nb_icu = minimum_nb_icu,\n",
    "                              maximum_nb_icu = maximum_nb_icu,\n",
    "                                median_icu = (maximum_nb_icu - minimum_nb_icu)/2 + minimum_nb_icu,\n",
    "                              minimum_nb_death= minimum_nb_death,\n",
    "                               median_nb_death = (maximum_nb_death - minimum_nb_death)/2 + minimum_nb_death,\n",
    "                              maximum_nb_death = maximum_nb_death)\n",
    "df_stats_overall[\"siteid\"] <- levels(as.factor(dailycounts_bysite$siteid))"
   ]
  },
  {
   "cell_type": "code",
   "execution_count": null,
   "metadata": {},
   "outputs": [],
   "source": [
    "df_count_per_sites = dplyr::left_join(df_stats_overall, mapping_siteid[c(\"siteid\", \"country\")], by=\"siteid\")\n",
    "df_count_per_sites[\"country\"] = as.factor(df_count_per_sites$country)"
   ]
  },
  {
   "cell_type": "code",
   "execution_count": null,
   "metadata": {},
   "outputs": [],
   "source": [
    "df_total = df_count_per_sites %>% select(-c(\"siteid\")) %>% \n",
    "group_by(country) %>% summarize_all(sum)\n"
   ]
  },
  {
   "cell_type": "code",
   "execution_count": null,
   "metadata": {},
   "outputs": [],
   "source": [
    "df_total"
   ]
  },
  {
   "cell_type": "code",
   "execution_count": null,
   "metadata": {},
   "outputs": [],
   "source": [
    "apply(df_total[, c(2:length(df_total))], 2, sum)"
   ]
  },
  {
   "cell_type": "code",
   "execution_count": null,
   "metadata": {},
   "outputs": [],
   "source": [
    "df_total$minimum_nb_icu / df_total$minimum_nb_cases"
   ]
  },
  {
   "cell_type": "markdown",
   "metadata": {},
   "source": [
    "## Labs"
   ]
  },
  {
   "cell_type": "code",
   "execution_count": null,
   "metadata": {},
   "outputs": [],
   "source": [
    "sum_per_labs = labs_bysite %>% select(c(\"siteid\", \"loinc\", \"num_patients\")) %>% \n",
    "group_by(siteid, loinc) %>% summarize_all(sum)\n",
    "sum_per_labs  = sum_per_labs[sum_per_labs$num_patients != 0,]"
   ]
  },
  {
   "cell_type": "code",
   "execution_count": null,
   "metadata": {},
   "outputs": [],
   "source": [
    "number_reported_labs = tapply(sum_per_labs$loinc, as.factor(sum_per_labs$siteid), function(x) length(unique(x)))\n",
    "prop_number_reported_labs = table(number_reported_labs) / 23\n",
    "prop_number_reported_labs"
   ]
  },
  {
   "cell_type": "code",
   "execution_count": null,
   "metadata": {},
   "outputs": [],
   "source": [
    "total_nb_bio = sum(labs_bysite$num_patients)\n",
    "total_nb_means = nrow(labs_bysite)"
   ]
  },
  {
   "cell_type": "code",
   "execution_count": null,
   "metadata": {},
   "outputs": [],
   "source": [
    "total_nb_bio"
   ]
  }
 ],
 "metadata": {
  "kernelspec": {
   "display_name": "R",
   "language": "R",
   "name": "ir"
  },
  "language_info": {
   "codemirror_mode": "r",
   "file_extension": ".r",
   "mimetype": "text/x-r-source",
   "name": "R",
   "pygments_lexer": "r",
   "version": "3.6.1"
  }
 },
 "nbformat": 4,
 "nbformat_minor": 4
}
