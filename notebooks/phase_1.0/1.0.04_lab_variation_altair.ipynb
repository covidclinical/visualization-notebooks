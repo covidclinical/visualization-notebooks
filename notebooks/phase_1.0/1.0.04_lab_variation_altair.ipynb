{
 "cells": [
  {
   "cell_type": "code",
   "execution_count": null,
   "metadata": {},
   "outputs": [],
   "source": [
    "%load_ext autoreload\n",
    "%autoreload 2\n",
    "%aimport utils_1_0\n",
    "\n",
    "import altair as alt\n",
    "import pandas as pd\n",
    "import numpy as np\n",
    "from vega_datasets import data\n",
    "\n",
    "from constants_1_0 import COLUMNS\n",
    "from utils_1_0 import apply_theme, get_visualization_subtitle\n",
    "from web import for_website"
   ]
  },
  {
   "cell_type": "markdown",
   "metadata": {},
   "source": [
    "# Data Preprocessing"
   ]
  },
  {
   "cell_type": "markdown",
   "metadata": {},
   "source": [
    "## Lab Variation Data From Figshare\n",
    "Use the latest data from https://doi.org/10.6084/m9.figshare.12152766.v1"
   ]
  },
  {
   "cell_type": "code",
   "execution_count": null,
   "metadata": {},
   "outputs": [],
   "source": [
    "# Lab_VariationByCountry.csv\n",
    "labs = pd.read_csv(\"https://ndownloader.figshare.com/files/22345587\")\n",
    "\n",
    "labs.head()"
   ]
  },
  {
   "cell_type": "code",
   "execution_count": null,
   "metadata": {},
   "outputs": [],
   "source": [
    "# labs = pd.read_csv('../data/Lab_VariationByCountry.csv', header=[0]) # For loading local data\n",
    "\n",
    "labs = labs.replace('SITE_AVE', 'Within site variation')\n",
    "labs = labs.replace('ALL', 'All countries')\n",
    "labs = labs.replace('US', 'USA')\n",
    "\n",
    "\n",
    "consistent_loinc = {\n",
    "    \"alanine aminotransferase (ALT)\": \"Alanine aminotransferase (U/L)\",\n",
    "    \"albumin\": \"Albumin (g/dL)\",\n",
    "    \"aspartate aminotransferase (AST)\": \"Aspartate aminotransferase (U/L)\",\n",
    "    \"total bilirubin\": \"Total bilirubin (mg/dL)\",\n",
    "    \"C-reactive protein (CRP)\": \"C-reactive protein (mg/dL)\",\n",
    "    \"creatinine\": \"Creatinine (mg/dL)\",\n",
    "    \"lactate dehydrogenase (LDH)\": \"Lactate dehydrogenase (U/L)\",\n",
    "    \"cardiac troponin\": \"Cardiac troponin (ng/mL)\",\n",
    "    \"prothrombin time (PT)\": \"Prothrombin time (s)\",\n",
    "    \"white blood cell count (Leukocytes)\": \"White blood cell count (10*3/uL)\",\n",
    "    \"lymphocyte count\": \"Lymphocyte count (10*3/uL)\",\n",
    "    \"neutrophil count\": \"Neutrophil count (10*3/uL)\",\n",
    "    \"D-dimer\": \"D-dimer\",\n",
    "    \"procalcitonin\": \"Procalcitonin (ng/mL)\",\n",
    "}\n",
    "labs[\"Lab\"] = labs[\"Lab\"].apply(lambda x: consistent_loinc[x])\n",
    "\n",
    "labs.head()"
   ]
  },
  {
   "cell_type": "markdown",
   "metadata": {},
   "source": [
    "# Visualization"
   ]
  },
  {
   "cell_type": "code",
   "execution_count": null,
   "metadata": {},
   "outputs": [],
   "source": [
    "input_dropdown = alt.binding_select(options=np.unique(labs.Lab))\n",
    "selection = alt.selection_single(fields=['Lab'], bind=input_dropdown, name='Lab ', init={'Lab': labs.Lab[0]})\n",
    "legend_selection = alt.selection_multi(fields=[\"Country\"], bind=\"legend\")\n",
    "\n",
    "COUNTRIES = [\"All countries\", \"France\", \"Germany\", \"Italy\", \"USA\", \"Within site variation\"]\n",
    "COUNTRY_COLOR = [\"#444444\", \"#0072B2\", \"#E69F00\", \"#009E73\", \"#D55E00\", \"#444444\"]\n",
    "color_scale = alt.Scale(domain=COUNTRIES, range=COUNTRY_COLOR)\n",
    "tick_size = 40\n",
    "\n",
    "base = alt.Chart(labs).mark_bar(size=tick_size).encode(\n",
    "    x=alt.Y('Country:N'),\n",
    "    color=alt.Color('Country:N', scale=color_scale, title=None),\n",
    "    stroke=alt.Color('Country:N', scale=color_scale),\n",
    "    strokeWidth=alt.value(1),\n",
    "    y=alt.Y('y:Q', title='Mean (SD)'),\n",
    "    y2=alt.Y2('y2:Q'),\n",
    "    tooltip=[\n",
    "        alt.Tooltip(\"Country\", title=\"Category\"),\n",
    "        alt.Tooltip(\"mean_val\", title=\"Mean\", format=\".2f\"),\n",
    "        alt.Tooltip(\"stdev_val\", title=\"Standard deviation\", format=\".2f\"),\n",
    "        alt.Tooltip(\"days_since_positive\", title=\"Days since positive\")\n",
    "    ]\n",
    ")\n",
    "\n",
    "mean = alt.Chart(labs).mark_tick(size=tick_size, thickness=2).encode(\n",
    "    x=alt.X('Country:N', title=None),\n",
    "    opacity=alt.value(1),\n",
    "    color=alt.value('white'),\n",
    "    y=alt.Y('mean_val:Q')\n",
    ")\n",
    "\n",
    "plot = alt.layer(\n",
    "    base, mean\n",
    ").add_selection(\n",
    "    selection\n",
    ").add_selection(\n",
    "    legend_selection\n",
    ").transform_filter(\n",
    "    selection\n",
    ").transform_filter(\n",
    "    legend_selection\n",
    ").transform_filter(\n",
    "    alt.FieldOneOfPredicate(field='Country', oneOf=COUNTRIES)\n",
    ").transform_filter(\n",
    "    alt.datum[\"days_since_positive\"] == 0\n",
    ").transform_calculate(\n",
    "    y='datum.mean_val + datum.stdev_val',\n",
    "    y2='datum.mean_val - datum.stdev_val',\n",
    ").properties(\n",
    "    title={\n",
    "        \"text\": [\"Lab Variation Across Sites on Day 0\"], \n",
    "        \"dx\": 50,\n",
    "        \"subtitle\": get_visualization_subtitle(alt_num_sites=21),\n",
    "        \"subtitleColor\": \"gray\",\n",
    "        \"anchor\": \"start\",\n",
    "    },\n",
    "    width=350, height=400\n",
    ")\n",
    "\n",
    "plot = apply_theme(plot, legend_orient=\"right\")\n",
    "\n",
    "for_website(plot, \"Labs\", \"Lab variation across sites on Day 0\")\n",
    "\n",
    "plot"
   ]
  },
  {
   "cell_type": "code",
   "execution_count": null,
   "metadata": {},
   "outputs": [],
   "source": []
  }
 ],
 "metadata": {
  "kernelspec": {
   "display_name": "Python 3",
   "language": "python",
   "name": "python3"
  },
  "language_info": {
   "codemirror_mode": {
    "name": "ipython",
    "version": 3
   },
   "file_extension": ".py",
   "mimetype": "text/x-python",
   "name": "python",
   "nbconvert_exporter": "python",
   "pygments_lexer": "ipython3",
   "version": "3.8.2"
  }
 },
 "nbformat": 4,
 "nbformat_minor": 4
}
