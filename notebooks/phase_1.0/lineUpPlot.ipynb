{
 "cells": [
  {
   "cell_type": "code",
   "execution_count": null,
   "metadata": {},
   "outputs": [],
   "source": [
    "##############################\n",
    "### Install/load packages ###\n",
    "#############################\n",
    "#devtools::install_github(\"rstudio/crosstalk\")\n",
    "#devtools::install_github(\"datavisyn/lineup_htmlwidget\")\n",
    "library(lineupjs)\n",
    "library(dplyr)\n",
    "library(tidyr)"
   ]
  },
  {
   "cell_type": "code",
   "execution_count": null,
   "metadata": {},
   "outputs": [],
   "source": [
    "#####################\n",
    "### Load the data ###\n",
    "#####################\n",
    "load(\"country.report.RData\")\n",
    "\n",
    "#for the codes without description, we put the original code\n",
    "country.report$description <- ifelse( is.na( country.report$Icd10Name), \n",
    "                                     country.report$icd_code, \n",
    "                                     country.report$Icd10Name)\n",
    "\n",
    "#remove duplicates mappings for ICD 518.81 that maps to 4 ICD10 J96.0, J96.00, J96.9, J96.90\n",
    "country.report <- country.report[- which(country.report$siteid == \"Italy\" & country.report$icd_code %in%c(\"J96.00\", \"J96.9\", \"J96.90\"))\n",
    ", ]\n",
    "\n",
    "#add the description of one code not added yet U07.2\n",
    "country.report[ country.report$icd_code == \"U07.2\", \"description\"] <- \"COVID-19, virus not identified\"\n",
    "  \n",
    "\n",
    "#select the columns of interest for the plot\n",
    "dataLineUp <- country.report[, c(\"siteid\", \"FractionPatients\", \"description\", \"Level2Concept\", \"Level3Concept\")]"
   ]
  },
  {
   "cell_type": "code",
   "execution_count": null,
   "metadata": {},
   "outputs": [],
   "source": [
    "###################\n",
    "### lineUp plot ###\n",
    "###################\n",
    "#re-order the columns\n",
    "\n",
    "countries <- c(\"USA\", \"Italy\", \"France\", \"Germany\")\n",
    "\n",
    "lineUpInput <- country.report %>% \n",
    "  pivot_wider(names_from = siteid, values_from = FractionPatients) %>% \n",
    "  mutate(Combined = rowSums(.[countries], na.rm = T)) %>% \n",
    "  select(c(countries, \"Combined\",\"description\", \"Level2Concept\", \"Level3Concept\")) %>% \n",
    "  arrange(desc(Combined))\n",
    "\n",
    "#plot\n",
    "lineup(lineUpInput)"
   ]
  }
 ],
 "metadata": {
  "kernelspec": {
   "display_name": "R",
   "language": "R",
   "name": "ir"
  },
  "language_info": {
   "codemirror_mode": "r",
   "file_extension": ".r",
   "mimetype": "text/x-r-source",
   "name": "R",
   "pygments_lexer": "r",
   "version": "3.6.1"
  }
 },
 "nbformat": 4,
 "nbformat_minor": 1
}
