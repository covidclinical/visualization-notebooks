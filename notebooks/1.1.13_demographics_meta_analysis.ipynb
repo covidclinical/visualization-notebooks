{
 "cells": [
  {
   "cell_type": "code",
   "execution_count": null,
   "metadata": {},
   "outputs": [],
   "source": [
    "%load_ext autoreload\n",
    "%autoreload 2\n",
    "%aimport utils_1_1\n",
    "\n",
    "import pandas as pd\n",
    "import numpy as np\n",
    "import altair as alt\n",
    "from altair_saver import save\n",
    "import itertools\n",
    "\n",
    "from constants_1_1 import SITE_FILE_TYPES\n",
    "from utils_1_1 import (\n",
    "    read_loinc_df,\n",
    "    get_site_file_paths,\n",
    "    get_site_file_info,\n",
    "    get_site_ids,\n",
    "    get_siteid_country_map,\n",
    "    get_siteid_color_maps,\n",
    "    get_country_color_map,\n",
    "    read_full_demographics_df,\n",
    "    get_visualization_subtitle,\n",
    "    apply_theme,\n",
    ")\n",
    "from web import for_website\n",
    "\n",
    "alt.data_transformers.disable_max_rows(); # Allow using rows more than 5000"
   ]
  },
  {
   "cell_type": "code",
   "execution_count": null,
   "metadata": {},
   "outputs": [],
   "source": [
    "DATA_RELEASE = \"2020-08-11\""
   ]
  },
  {
   "cell_type": "code",
   "execution_count": null,
   "metadata": {},
   "outputs": [],
   "source": [
    "df = pd.read_csv(\"../data/Figure_1_dem_plot_meta_metafor.csv\")\n",
    "# Filter out the non-pool rows (don't care about individual site results, only pooled countries)\n",
    "df[\"is_pool\"] = df[\"siteId\"].apply(lambda site_id: site_id.startswith(\"pool_\"))\n",
    "\n",
    "NUM_SITES = len(df.loc[df[\"is_pool\"] == False][\"siteid\"].unique().tolist())\n",
    "\n",
    "df = df.loc[df[\"is_pool\"]].reset_index(drop=True)\n",
    "# Process the country name\n",
    "df[\"country\"] = df[\"siteId\"].apply(lambda site_id: site_id[5:].lower().capitalize())\n",
    "df[\"country\"] = df[\"country\"].apply(lambda site_id: site_id.upper() if site_id.lower() == \"usa\" else site_id)\n",
    "df = df.drop(columns=['siteId', 'siteid', 'is_pool'])\n",
    "df.head()"
   ]
  },
  {
   "cell_type": "code",
   "execution_count": null,
   "metadata": {},
   "outputs": [],
   "source": [
    "GROUP_NAME_MAP = {\n",
    "    '00to25': '0 to 25',\n",
    "    '26to49': '26 to 49',\n",
    "    '50to69': '50 to 69',\n",
    "    '70to79': '70 to 79',\n",
    "    '80plus': '80 plus',\n",
    "    'black': 'Black',\n",
    "    'white': 'White',\n",
    "    'female': 'Female',\n",
    "    'male': 'Male',\n",
    "    'other': 'Other'\n",
    "}\n",
    "GROUP_TYPE_MAP = {\n",
    "    '26to49_vs_00to25': 'Age Group',\n",
    "    '50to69_vs_00to25': 'Age Group',\n",
    "    '70to79_vs_00to25': 'Age Group',\n",
    "    '80plus_vs_00to25': 'Age Group',\n",
    "    'black_vs_white': 'Race',\n",
    "    'female_vs_male': 'Sex',\n",
    "    'other_vs_white': 'Race',\n",
    "}\n",
    "df[\"group_type\"] = df[\"resname\"].apply(lambda x: GROUP_TYPE_MAP[x])\n",
    "\n",
    "df[\"group1\"] = df[\"resname\"].apply(lambda x: x.split(\"_vs_\")[0])\n",
    "df[\"group2\"] = df[\"resname\"].apply(lambda x: x.split(\"_vs_\")[1])\n",
    "\n",
    "df[\"group1\"] = df[\"group1\"].apply(lambda x: GROUP_NAME_MAP[x])\n",
    "df[\"group2\"] = df[\"group2\"].apply(lambda x: GROUP_NAME_MAP[x])\n",
    "df.head()"
   ]
  },
  {
   "cell_type": "code",
   "execution_count": null,
   "metadata": {},
   "outputs": [],
   "source": [
    "country_color_map = get_country_color_map()\n",
    "country_color_map[\"All\"] = \"gray\""
   ]
  },
  {
   "cell_type": "code",
   "execution_count": null,
   "metadata": {},
   "outputs": [],
   "source": [
    "group_type = \"Age Group\"\n",
    "\n",
    "group_type_df = df.loc[df[\"group_type\"] == group_type]\n",
    "\n",
    "group1_values = group_type_df[\"group1\"].unique().tolist()\n",
    "group2_values = group_type_df[\"group2\"].unique().tolist()\n",
    "\n",
    "group1_dropdown = alt.binding_select(options=group1_values)\n",
    "group1_selection = alt.selection_single(fields=[\"group1\"], bind=group1_dropdown, name=\"Comparison Group\", init={\"group1\": group1_values[0]})\n",
    "\n",
    "\n",
    "group2_dropdown = alt.binding_select(options=group2_values)\n",
    "group2_selection = alt.selection_single(fields=[\"group2\"], bind=group2_dropdown, name=\"Reference Group\", init={\"group2\": group2_values[0]})\n",
    "\n",
    "\n",
    "chart = alt.Chart(group_type_df).transform_filter(\n",
    "    group1_selection\n",
    ").transform_filter(\n",
    "    group2_selection\n",
    ")\n",
    "\n",
    "tick_size = 20\n",
    "country_color_scale = alt.Scale(domain=list(country_color_map.keys()), range=list(country_color_map.values())) \n",
    "\n",
    "\n",
    "ci_bars = chart.mark_bar(size=tick_size).encode(\n",
    "    y=alt.Y(\"country:N\", axis=alt.Axis(title='Country')),\n",
    "    color=alt.Color(\"country:N\", legend=alt.Legend(title=\"Country\", orient=\"right\"), scale=country_color_scale),\n",
    "    x=alt.X(\"ci_95L:Q\", axis=alt.Axis(title='Pooled mean (CI)'), scale=alt.Scale(domain=[-1.0, 1.0])),\n",
    "    x2=alt.X2(\"ci_95U:Q\"),\n",
    ").properties(width=300, height=400)\n",
    "\n",
    "mean_ticks = chart.mark_tick(size=tick_size, thickness=2).encode(\n",
    "    y=alt.Y(\"country:N\"),\n",
    "    opacity=alt.value(1),\n",
    "    color=alt.value('white'),\n",
    "    x=alt.X('mean:Q', axis=alt.Axis(title='Pooled mean (CI)'))\n",
    ")\n",
    "\n",
    "\n",
    "chart = alt.layer(ci_bars, mean_ticks).properties(title={\n",
    "    \"text\": [\"Age Group Risk Comparison by Country\"], \n",
    "    \"dx\": 50,\n",
    "    \"subtitle\": get_visualization_subtitle(data_release=DATA_RELEASE, num_sites=NUM_SITES),\n",
    "    \"subtitleColor\": \"gray\",\n",
    "    \"anchor\": \"middle\",\n",
    "})\n",
    "\n",
    "chart = apply_theme(chart).add_selection(\n",
    "    group1_selection\n",
    ").add_selection(\n",
    "    group2_selection\n",
    ")\n",
    "\n",
    "chart"
   ]
  },
  {
   "cell_type": "code",
   "execution_count": null,
   "metadata": {},
   "outputs": [],
   "source": []
  },
  {
   "cell_type": "code",
   "execution_count": null,
   "metadata": {},
   "outputs": [],
   "source": []
  },
  {
   "cell_type": "code",
   "execution_count": null,
   "metadata": {},
   "outputs": [],
   "source": []
  }
 ],
 "metadata": {
  "kernelspec": {
   "display_name": "Python [conda env:4ce] *",
   "language": "python",
   "name": "conda-env-4ce-py"
  },
  "language_info": {
   "codemirror_mode": {
    "name": "ipython",
    "version": 3
   },
   "file_extension": ".py",
   "mimetype": "text/x-python",
   "name": "python",
   "nbconvert_exporter": "python",
   "pygments_lexer": "ipython3",
   "version": "3.8.3"
  }
 },
 "nbformat": 4,
 "nbformat_minor": 4
}
