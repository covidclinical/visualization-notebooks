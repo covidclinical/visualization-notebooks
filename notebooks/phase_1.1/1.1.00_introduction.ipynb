{
 "cells": [
  {
   "cell_type": "markdown",
   "metadata": {},
   "source": [
    "# 4CE Phase 1.1"
   ]
  },
  {
   "cell_type": "markdown",
   "metadata": {},
   "source": [
    "In phase 1.0, participating health care systems contributed aggregate datasets containing daily patient counts, average lab values, coarse patient demographics, and diagnosis counts. \n",
    "\n",
    "In phase 1.1, we will perform analysis of more fine-grained datasets in which patients are stratified into two categories: \"never severe\" and \"ever severe\". The criteria by which patients are flagged as having experienced a \"severe\" stage of disease has been defined by clinicians and researchers in 4CE, and takes into account medications prescribed, lab tests ordered, and diagnosis codes. Full definitions will appear in the paper associated with these analyses.\n",
    "\n",
    "Jupyter notebooks associated with phase 1.1 analysis are named with the prefix `1.1`."
   ]
  },
  {
   "cell_type": "code",
   "execution_count": null,
   "metadata": {},
   "outputs": [],
   "source": []
  }
 ],
 "metadata": {
  "kernelspec": {
   "display_name": "Python [conda env:4ce] *",
   "language": "python",
   "name": "conda-env-4ce-py"
  },
  "language_info": {
   "codemirror_mode": {
    "name": "ipython",
    "version": 3
   },
   "file_extension": ".py",
   "mimetype": "text/x-python",
   "name": "python",
   "nbconvert_exporter": "python",
   "pygments_lexer": "ipython3",
   "version": "3.8.2"
  }
 },
 "nbformat": 4,
 "nbformat_minor": 4
}
