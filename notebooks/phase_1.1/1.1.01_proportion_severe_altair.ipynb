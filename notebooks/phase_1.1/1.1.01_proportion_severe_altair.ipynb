{
 "cells": [
  {
   "cell_type": "code",
   "execution_count": null,
   "metadata": {},
   "outputs": [],
   "source": [
    "%load_ext autoreload\n",
    "%autoreload 2\n",
    "%aimport utils_1_1\n",
    "\n",
    "import pandas as pd\n",
    "import numpy as np\n",
    "import altair as alt\n",
    "from altair_saver import save\n",
    "\n",
    "from constants_1_1 import SITE_FILE_TYPES\n",
    "from utils_1_1 import (\n",
    "    get_site_file_paths,\n",
    "    get_site_file_info,\n",
    "    get_site_ids,\n",
    "    read_full_demographics_df\n",
    ")\n",
    "from web import for_website"
   ]
  },
  {
   "cell_type": "code",
   "execution_count": null,
   "metadata": {},
   "outputs": [],
   "source": [
    "df = read_full_demographics_df()\n",
    "df.head()"
   ]
  },
  {
   "cell_type": "code",
   "execution_count": null,
   "metadata": {},
   "outputs": [],
   "source": [
    "all_df = df.loc[(df[\"sex\"] == \"all\") & (df[\"age_group\"] == \"all\") & (df[\"race\"] == \"all\")]\n",
    "all_df[\"proportion_ever_severe\"] = all_df[\"num_patients_ever_severe\"] / all_df[\"num_patients_all\"]\n",
    "all_df.head()"
   ]
  },
  {
   "cell_type": "code",
   "execution_count": null,
   "metadata": {},
   "outputs": [],
   "source": [
    "all_molten_df = all_df[[\"siteid\", \"num_patients_all\", \"num_patients_ever_severe\"]].melt(id_vars=[\"siteid\"])\n",
    "all_molten_df.head()"
   ]
  },
  {
   "cell_type": "code",
   "execution_count": null,
   "metadata": {},
   "outputs": [],
   "source": [
    "#all_df = all_df.loc[all_df[\"siteid\"] != \"FICHOS\"]\n",
    "all_df = all_df.sort_values(by=\"proportion_ever_severe\", ascending=False).reset_index(drop=True)\n",
    "\n",
    "chart = alt.Chart(all_df).mark_point().encode(\n",
    "    x=alt.X(\"siteid:N\", axis=alt.Axis(title=\"Site ID\"), scale=alt.Scale(domain=all_df[\"siteid\"].unique().tolist())),\n",
    "    y=alt.Y(\"proportion_ever_severe:Q\", axis=alt.Axis(title=\"Proportion Ever Severe\"))\n",
    ").properties(title=\"Proportion Ever Severe by Site, Demographics (sex=all, age_group=all, race=all), Data as of 2020-05-28 AM\")\n",
    "\n",
    "chart"
   ]
  },
  {
   "cell_type": "code",
   "execution_count": null,
   "metadata": {},
   "outputs": [],
   "source": [
    "#save(chart, 'proportion_ever_severe_by_site.pdf')"
   ]
  },
  {
   "cell_type": "code",
   "execution_count": null,
   "metadata": {},
   "outputs": [],
   "source": []
  }
 ],
 "metadata": {
  "kernelspec": {
   "display_name": "Python [conda env:4ce] *",
   "language": "python",
   "name": "conda-env-4ce-py"
  },
  "language_info": {
   "codemirror_mode": {
    "name": "ipython",
    "version": 3
   },
   "file_extension": ".py",
   "mimetype": "text/x-python",
   "name": "python",
   "nbconvert_exporter": "python",
   "pygments_lexer": "ipython3",
   "version": "3.8.2"
  }
 },
 "nbformat": 4,
 "nbformat_minor": 4
}
